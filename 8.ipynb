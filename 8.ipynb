{
  "nbformat": 4,
  "nbformat_minor": 0,
  "metadata": {
    "colab": {
      "provenance": [],
      "authorship_tag": "ABX9TyO9ouCQdSaPWuFMxUEt2BJN",
      "include_colab_link": true
    },
    "kernelspec": {
      "name": "python3",
      "display_name": "Python 3"
    },
    "language_info": {
      "name": "python"
    }
  },
  "cells": [
    {
      "cell_type": "markdown",
      "metadata": {
        "id": "view-in-github",
        "colab_type": "text"
      },
      "source": [
        "<a href=\"https://colab.research.google.com/github/dyx4liss/Labs/blob/main/8.ipynb\" target=\"_parent\"><img src=\"https://colab.research.google.com/assets/colab-badge.svg\" alt=\"Open In Colab\"/></a>"
      ]
    },
    {
      "cell_type": "markdown",
      "source": [
        "8.2.1"
      ],
      "metadata": {
        "id": "UYz4zmNTqGcs"
      }
    },
    {
      "cell_type": "code",
      "execution_count": null,
      "metadata": {
        "id": "6-QUmLbmp8rl"
      },
      "outputs": [],
      "source": [
        "import locale\n",
        "locale.getpreferredencoding(False)  # 'cp1251' на российской сборке ОС Windows\n",
        "def load_data():\n",
        "  name=[]\n",
        "  name.append(list(map(int, input(\"введите строку\").split())))\n",
        "  values=name[0]\n",
        "  return values\n",
        "def save_data(values,filename):\n",
        "  filename=open('file.txt', 'w')\n",
        "  for letter in values:\n",
        "    i=str(letter)\n",
        "    filename.write(i)\n",
        "    filename.write('\\n')"
      ]
    },
    {
      "cell_type": "code",
      "source": [
        "try:\n",
        "  filename = open('file.txt', 'w')\n",
        "  values = load_data()\n",
        "  save_data(values, filename)\n",
        "  with open('file.txt', 'r') as filename:\n",
        "    for line in filename:\n",
        "      print(line)\n",
        "except FileNotFoundError:\n",
        "  print(\"ошибка чтения файла\")\n",
        "except:\n",
        "  print(\"ошибка при работе с файлом\")\n",
        "finally:\n",
        "  filename.close()"
      ],
      "metadata": {
        "id": "NQ2EGFnFqBFH"
      },
      "execution_count": null,
      "outputs": []
    },
    {
      "cell_type": "markdown",
      "source": [
        "8.2.2"
      ],
      "metadata": {
        "id": "uLHfWLZ8qJ7j"
      }
    },
    {
      "cell_type": "code",
      "source": [
        "def old(f):\n",
        "  print('файл до обработки')\n",
        "  f = open('file.txt', 'r')\n",
        "  for line in f:\n",
        "    print(line)\n",
        "  f.close()\n",
        "def new(values,f):\n",
        "  print('файл после обработки')\n",
        "  k=sum(values)\n",
        "  g=str(k)\n",
        "  b=max(values)\n",
        "  p=str(b)\n",
        "  f=open('file.txt', 'a')\n",
        "  f.write(g)\n",
        "  f.write('\\n')\n",
        "  f.write(p)\n",
        "  f.close()"
      ],
      "metadata": {
        "id": "98A6z6jkqSeX"
      },
      "execution_count": null,
      "outputs": []
    },
    {
      "cell_type": "code",
      "source": [
        "try:\n",
        "  f = open('file.txt', 'r')\n",
        "  old(f)\n",
        "  new(values,f) \n",
        "  with open('file.txt', 'r') as file:\n",
        "    for line in file:\n",
        "      print(line)\n",
        "except FileNotFoundError as err:\n",
        "    print(\"Указанный файл не существует.\")\n",
        "\n",
        "except (IOError, ValueError) as err:\n",
        "    print(\"Ошибка при чтении/сохранении файла с данными:\", err)\n",
        "\n",
        "except Exception as err:\n",
        "    print(\"Произошла ошибка!\")\n",
        "    print(\"Тип:\", type(err))\n",
        "    print(\"Описание:\", err)\n",
        "\n",
        "\n",
        "finally:\n",
        "  filename.close()"
      ],
      "metadata": {
        "id": "W2QG4H8rqTVx"
      },
      "execution_count": null,
      "outputs": []
    },
    {
      "cell_type": "markdown",
      "source": [
        "8.2.3"
      ],
      "metadata": {
        "id": "FMMEyPNDzTSh"
      }
    },
    {
      "cell_type": "code",
      "source": [
        "\n",
        "def load_data():\n",
        "  a=input()\n",
        "  values=list(a.split())\n",
        "  return values\n",
        "def save_data(values,filename):\n",
        "  print(\"старый список\")\n",
        "  filename=open('file2.txt', 'w')\n",
        "  for letter in values:\n",
        "    i=str(letter)\n",
        "    filename.write(i)\n",
        "    filename.write('\\n')\n",
        "  filename.close()\n",
        "  filename=open('file2.txt', 'r')\n",
        "  for line in filename:\n",
        "    print(line)\n",
        "def n(values,f):\n",
        "  lst = []\n",
        "  for i in values:\n",
        "    if i[0].isdigit():\n",
        "      for j in range(len(i)-1):\n",
        "        if i[j].isdigit() or i[j] == \".\":\n",
        "          pass\n",
        "        else:\n",
        "          break\n",
        "      else:\n",
        "        lst.append(float(i))\n",
        "  return lst\n",
        "def new2(lst,f):\n",
        "  print('файл после обработки')\n",
        "  k=sum(lst)\n",
        "  g=str(k)\n",
        "  b=max(lst)\n",
        "  p=str(b)\n",
        "  f=open('file2.txt', 'a')\n",
        "  f.write(g)\n",
        "  f.write('\\n')\n",
        "  f.write(p)\n",
        "  f.close()\n",
        "  f=open('file2.txt', 'r')\n",
        "  for line in f:\n",
        "    print(line)"
      ],
      "metadata": {
        "id": "FT3bGk29zI2C"
      },
      "execution_count": null,
      "outputs": []
    },
    {
      "cell_type": "code",
      "source": [
        "try:\n",
        "  filename = open('file2.txt', 'w')\n",
        "  values = load_data()\n",
        "  save_data(values, filename)\n",
        "  lst=n(values,f)\n",
        "  new2(lst,f)\n",
        "except FileNotFoundError as err:\n",
        "    print(\"Указанный файл не существует.\")\n",
        "\n",
        "except (IOError, ValueError) as err:\n",
        "    print(\"Ошибка при чтении/сохранении файла с данными:\", err)\n",
        "\n",
        "except Exception as err:\n",
        "    print(\"Произошла ошибка!\")\n",
        "    print(\"Тип:\", type(err))\n",
        "    print(\"Описание:\", err)\n",
        "\n",
        "\n",
        "finally:\n",
        "  filename.close()"
      ],
      "metadata": {
        "id": "mLCv9XSOzSKY"
      },
      "execution_count": null,
      "outputs": []
    },
    {
      "cell_type": "markdown",
      "source": [
        "8.2.4"
      ],
      "metadata": {
        "id": "kA-sCd1hzWE_"
      }
    },
    {
      "cell_type": "code",
      "source": [
        "def load_text(filename):\n",
        "    \"\"\"Загрузить стихотворение из файла 'filename'.\n",
        "\n",
        "    Функция не обрабатывает исключения.\"\"\"\n",
        "    f = open(filename, \"r\")\n",
        "    t = \"\"\n",
        "    for i in f:\n",
        "      t += i\n",
        "    f.close()  \n",
        "    return t.replace(\"\\n\", \" \")\n",
        "    \n",
        "\n",
        "\n",
        "def letters_stats(text):\n",
        "    \"\"\"Вернуть словарь, содержащий количество гласных/согласных букв.\n",
        "\n",
        "    Параметры:\n",
        "        - text (str): стихотворение.\n",
        "\n",
        "    Результат:\n",
        "        - dict: словарь, содержащий количество гласных/согласных букв:\n",
        "                    {\n",
        "                        \"гласные\": 10,\n",
        "                        \"согласные\": 11\n",
        "                    }\n",
        "    \"\"\"\n",
        "    text = text.split()\n",
        "    dictionary = {\n",
        "                        \"гласные\": 0,\n",
        "                        \"согласные\": 0\n",
        "                    }\n",
        "    x = \"ауоиэыяюеё\"\n",
        "    y = \"бвгджзйклмнпрстфхцчшщ\"\n",
        "    for i in text:\n",
        "      if i[0].lower() in x:\n",
        "        dictionary[\"гласные\"] += 1\n",
        "      elif i[0].lower() in y:\n",
        "        dictionary[\"согласные\"] += 1\n",
        "    return dictionary\n",
        "try:\n",
        "  filename = input(\"Введите имя файла: \")\n",
        "  text = load_text(filename)\n",
        "\n",
        "  stats = letters_stats(text)\n",
        "  print(stats)\n",
        "except FileNotFoundError as err:\n",
        "    print(\"Указанный файл не существует.\")\n",
        "\n",
        "except IOError as err:\n",
        "    print(\"Ошибка при чтении/сохранении файла с данными:\", err)\n",
        "\n",
        "except Exception as err:\n",
        "    print(\"Произошла ошибка!\")\n",
        "    print(\"Тип:\", type(err))\n",
        "    print(\"Описание:\", err)"
      ],
      "metadata": {
        "id": "NE_LCJaxzXT5"
      },
      "execution_count": null,
      "outputs": []
    },
    {
      "cell_type": "markdown",
      "source": [
        "8.2.5"
      ],
      "metadata": {
        "id": "GA8VLfyu0uxT"
      }
    },
    {
      "cell_type": "code",
      "source": [
        "class NoSuchSeatError(Exception):\n",
        "    def __init__(self, message):\n",
        "        super().__init__(message)\n",
        "\n",
        "\n",
        "def load_seats(filename):\n",
        "  data=[]\n",
        "  f = open(filename, \"r\")\n",
        "  for line in f:\n",
        "      data.append([float(x) for x in line.split()])\n",
        "  f.close()\n",
        "  return data\n",
        "  \"\"\"Загрузить данные о местах в зале из файла 'filename'.\n",
        "\n",
        "    Результат: list of list вида:\n",
        "\n",
        "        [\n",
        "            [0, 0, 1],     # 1 ряд, первые 2 места свободны\n",
        "            [1, 1, 1, 1],  # 2 ряд, все места заняты\n",
        "            ...\n",
        "        ]\n",
        "\n",
        "    Функция не обрабатывает исключения.\"\"\"\n",
        "    # Удалите комментарий и допишите код\n",
        "\n",
        "\n",
        "def vacant_seats(seats):\n",
        "  k=0\n",
        "  d=seats[0]\n",
        "  d=len(seats)\n",
        "  for x in seats:\n",
        "    k=k+1\n",
        "  m=0\n",
        "  n=0\n",
        "  for i in range(d):\n",
        "    for j in range(k):\n",
        "      if seats[i][j]==0:\n",
        "        m=m+1\n",
        "      else:\n",
        "        n=n+1\n",
        "  return m\n",
        "\n",
        "  \"\"\"Вернуть количество свободных мест в 'seats'.\n",
        "\n",
        "    Параметры:\n",
        "        - seats (list of list): данные из load_seats().\n",
        "\n",
        "    Результат:\n",
        "        - int: количество свободных мест.\n",
        "    \"\"\"\n",
        "    # Удалите комментарий и допишите код\n",
        "\n",
        "\n",
        "def is_seat_vacant(seats, n_p, m_p):\n",
        "  a=seats[n_p]\n",
        "  b=a[m_p]\n",
        "  if b==0:\n",
        "   return True\n",
        "  else:\n",
        "    return False\n",
        "\n",
        "    \"\"\"Вернуть True, если место свободно.\"\"\"\n",
        "    \"\"\"Параметры:\n",
        "        - seats (list of list): данные из load_seats();\n",
        "        - n_p (int): номер ряда (индексация с 0);\n",
        "        - m_p (int): номер места (индексация с 0).\n",
        "\n",
        "    Результат:\n",
        "        - True/False: место свободно/нет.\n",
        "\n",
        "    Исключения:\n",
        "        - NoSuchSeatError: если места с указанными параметрами не существует.\n",
        "    \"\"\"\n",
        "    # Удалите комментарий и допишите код\n",
        "\n",
        "\n",
        "try:\n",
        "  filename = input(\"Введите имя файла: \")\n",
        "  seats = load_seats(filename)\n",
        "\n",
        "  count = vacant_seats(seats)\n",
        "  print(\"Всего свободных мест: {}\".format(count))\n",
        "except FileNotFoundError as err:\n",
        "    print(\"Указанный файл не существует.\")\n",
        "\n",
        "except IOError as err:\n",
        "    print(\"Ошибка при чтении/сохранении файла с данными:\", err)\n",
        "\n",
        "except Exception as err:\n",
        "    print(\"Произошла ошибка!\")\n",
        "    print(\"Тип:\", type(err))\n",
        "    print(\"Описание:\", err)\n",
        "\n",
        "# Ввод значений для поиска\n",
        "# Учитывайте, что пользователь привык считать с 1, а не с 0,\n",
        "# поэтому введенные сообщения необходимо скорректировать\n",
        "n_p, m_p = [int(item) for item in\n",
        "            input(\"Введите ряд и место через пробел: \").split()]\n",
        "\n",
        "print(\"Место свободно:\",\n",
        "      \"Да\" if is_seat_vacant(seats, n_p - 1, m_p - 1) else \"Нет\")"
      ],
      "metadata": {
        "colab": {
          "base_uri": "https://localhost:8080/"
        },
        "id": "VgivSZGL0uU2",
        "outputId": "ff31ae29-59cc-4fff-c1b8-40c0c3f1b500"
      },
      "execution_count": null,
      "outputs": [
        {
          "output_type": "stream",
          "name": "stdout",
          "text": [
            "Введите имя файла: data5.txt\n",
            "Указанный файл не существует.\n"
          ]
        }
      ]
    }
  ]
}