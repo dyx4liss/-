{
  "nbformat": 4,
  "nbformat_minor": 0,
  "metadata": {
    "colab": {
      "provenance": [],
      "authorship_tag": "ABX9TyNqx+lecENxUREy3x9H3eNc",
      "include_colab_link": true
    },
    "kernelspec": {
      "name": "python3",
      "display_name": "Python 3"
    },
    "language_info": {
      "name": "python"
    }
  },
  "cells": [
    {
      "cell_type": "markdown",
      "metadata": {
        "id": "view-in-github",
        "colab_type": "text"
      },
      "source": [
        "<a href=\"https://colab.research.google.com/github/dyx4liss/Labs/blob/main/1_1.ipynb\" target=\"_parent\"><img src=\"https://colab.research.google.com/assets/colab-badge.svg\" alt=\"Open In Colab\"/></a>"
      ]
    },
    {
      "cell_type": "code",
      "execution_count": 1,
      "metadata": {
        "colab": {
          "base_uri": "https://localhost:8080/"
        },
        "id": "O50mEv5evWTa",
        "outputId": "d4bd361d-b474-4330-e01e-d82d24e29151"
      },
      "outputs": [
        {
          "output_type": "stream",
          "name": "stdout",
          "text": [
            "Dividing: 4.0\n"
          ]
        }
      ],
      "source": [
        "class A( ):\n",
        "      __a = float ( ) \n",
        "      __b = float ( )\n",
        "      def __init__(self, __a, __b):\n",
        "         self.a = __a\n",
        "         self.b = __b\n",
        "         \n",
        "      def divide(self):\n",
        "         c = self.a / self.b\n",
        "         return c\n",
        "          \n",
        "      def reduce (self):\n",
        "        c = self.a - self.b\n",
        "        return c\n",
        "          \n",
        "      def __del__(self):\n",
        "        print('Process deleted.')\n",
        "\n",
        "c1 = A(20, 5)\n",
        "print(f'Dividing: {c1.divide( )}')"
      ]
    },
    {
      "cell_type": "code",
      "source": [
        "class Program( ):\n",
        "    \"\"\"\n",
        "    Class that calling class \"A( )\"\n",
        "    \"\"\"\n",
        "    def __init__(self):\n",
        "      c2 = A(20, 5)\n",
        "      print(c2.divide( ))\n",
        "      print(c2.reduce( ))\n",
        "\n",
        "if __name__ == \"__main__\":\n",
        "  f1 = Program( )\n",
        "  del f1"
      ],
      "metadata": {
        "colab": {
          "base_uri": "https://localhost:8080/",
          "height": 134
        },
        "id": "sLOWMKFB5sVh",
        "outputId": "1d56fa30-e4fb-4433-edc1-a2c2a007e759"
      },
      "execution_count": null,
      "outputs": [
        {
          "output_type": "error",
          "ename": "SyntaxError",
          "evalue": "ignored",
          "traceback": [
            "\u001b[0;36m  File \u001b[0;32m\"<ipython-input-14-5e4b9cfbf1f2>\"\u001b[0;36m, line \u001b[0;32m7\u001b[0m\n\u001b[0;31m    def divid(self)\u001b[0m\n\u001b[0m                   ^\u001b[0m\n\u001b[0;31mSyntaxError\u001b[0m\u001b[0;31m:\u001b[0m invalid syntax\n"
          ]
        }
      ]
    }
  ]
}