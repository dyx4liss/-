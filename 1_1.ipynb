{
  "nbformat": 4,
  "nbformat_minor": 0,
  "metadata": {
    "colab": {
      "provenance": [],
      "authorship_tag": "ABX9TyMvwW4QRYGGikGuWF2Tr/6i",
      "include_colab_link": true
    },
    "kernelspec": {
      "name": "python3",
      "display_name": "Python 3"
    },
    "language_info": {
      "name": "python"
    }
  },
  "cells": [
    {
      "cell_type": "markdown",
      "metadata": {
        "id": "view-in-github",
        "colab_type": "text"
      },
      "source": [
        "<a href=\"https://colab.research.google.com/github/dyx4liss/Labs/blob/main/1_1.ipynb\" target=\"_parent\"><img src=\"https://colab.research.google.com/assets/colab-badge.svg\" alt=\"Open In Colab\"/></a>"
      ]
    },
    {
      "cell_type": "code",
      "execution_count": 9,
      "metadata": {
        "colab": {
          "base_uri": "https://localhost:8080/"
        },
        "id": "O50mEv5evWTa",
        "outputId": "6df87374-d526-494f-d5fe-886a4c379ebd"
      },
      "outputs": [
        {
          "output_type": "stream",
          "name": "stdout",
          "text": [
            "Dividing: 4.0\n",
            "Process deleted.\n"
          ]
        }
      ],
      "source": [
        "class A( ):\n",
        "      __a = float ( ) \n",
        "      __b = float ( )\n",
        "      def __init__(self, __a, __b):\n",
        "         self.a = __a\n",
        "         self.b = __b\n",
        "         \n",
        "      def reduce(self):\n",
        "        self.a *= self.b\n",
        "        return self.a\n",
        "\n",
        "      def shto(self):\n",
        "        c = self.a ++ self.b\n",
        "        return c\n",
        "          \n",
        "      def divide(self):\n",
        "        c = self.a / self.b\n",
        "        return c\n",
        "          \n",
        "      def __del__(self):\n",
        "        print('Process deleted.')\n",
        "\n",
        "c1 = A(20, 5)\n",
        "print(f'Dividing: {c1.divide( )}')"
      ]
    },
    {
      "cell_type": "code",
      "source": [
        "class Program( ):\n",
        "    \"\"\"\n",
        "    Class that calling class \"A( )\"\n",
        "    \"\"\"\n",
        "    def divid(self):\n",
        "      c2 = A(20, 5)\n",
        "      print(c2.divide( ))\n",
        "      print(c2.reduce( ))\n",
        "\n",
        "if __name__ == \"__main__\":\n",
        "  f1 = Program( )\n",
        "  del f1"
      ],
      "metadata": {
        "id": "sLOWMKFB5sVh"
      },
      "execution_count": 8,
      "outputs": []
    }
  ]
}