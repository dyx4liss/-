{
  "cells": [
    {
      "cell_type": "markdown",
      "metadata": {
        "id": "view-in-github",
        "colab_type": "text"
      },
      "source": [
        "<a href=\"https://colab.research.google.com/github/dyx4liss/Labs/blob/main/lab-5.ipynb\" target=\"_parent\"><img src=\"https://colab.research.google.com/assets/colab-badge.svg\" alt=\"Open In Colab\"/></a>"
      ]
    },
    {
      "cell_type": "markdown",
      "metadata": {
        "id": "7PCapy3tI4h7"
      },
      "source": [
        "№ 5.2.1\n",
        "\n",
        "Определите значение z=sgn(x)+y2sgn(y)−|x|−−√, где sgn - сигнум-функция, а x и y - вещественные числа:"
      ]
    },
    {
      "cell_type": "code",
      "execution_count": null,
      "metadata": {
        "id": "15hp5scyM8pJ"
      },
      "outputs": [],
      "source": [
        "from math import *"
      ]
    },
    {
      "cell_type": "code",
      "execution_count": 2,
      "metadata": {
        "colab": {
          "base_uri": "https://localhost:8080/"
        },
        "id": "5M5Z_pdSIxB2",
        "outputId": "210b8b55-8d94-4bc2-cd80-18070fd5c356"
      },
      "outputs": [
        {
          "output_type": "stream",
          "name": "stdout",
          "text": [
            "введите x-9\n",
            "введите y0\n",
            "0.33\n"
          ]
        }
      ],
      "source": [
        "def sgn(f):\n",
        "  if f<0:\n",
        "    return -1\n",
        "  elif f>0:\n",
        "    return 1\n",
        "  elif f==0:\n",
        "    return 0\n",
        "x=float(input(\"введите x\"))\n",
        "y=float(input(\"введите y\"))\n",
        "z=(sgn(x) + y**2)/(sgn(y)-(abs(x)**0.5))\n",
        "print(round(z,2))"
      ]
    },
    {
      "cell_type": "markdown",
      "source": [
        "\n",
        "5.2.2\n",
        "\n",
        "Дан список температурных изменений в течение дня (целые числа). Известно, что измеряющее устройство иногда сбоит и записывает отсутствие температуры (значение None).\n",
        "\n",
        "Выведите среднюю температуру за наблюдаемый промежуток времени, предварительно очистив список от неопределенных значений. Гарантируется, что хотя бы одно определенное значение в списке есть.\n"
      ],
      "metadata": {
        "id": "oa8Y3WQt4GrZ"
      }
    },
    {
      "cell_type": "code",
      "source": [
        "def input_data():\n",
        "  for i in range(n):\n",
        "    demension=input(\"Измерение {}-e:\".format(i+1))\n",
        "    if demension ==\"-\":\n",
        "      data.append(None)\n",
        "    else:\n",
        "      data.append(int(demension))\n",
        "    i +=1\n",
        "def avg(new_data):\n",
        "  return sum(new_data)/len(new_data)\n",
        "def cleared_data(data):\n",
        "  new_data=[]\n",
        "  for x in data:\n",
        "    if x !=None:\n",
        "      new_data.append(x)\n",
        "  return new_data\n",
        "def print_res2():\n",
        "  z=avg(cleared_data(data))\n",
        "  print(\"Ср темпа:{:.2f}\".format(z))\n",
        "n=int(input())\n",
        "data=[]\n",
        "input_data()\n",
        "print_res2()\n",
        "\n",
        "6"
      ],
      "metadata": {
        "id": "doTssHi_4G7z"
      },
      "execution_count": null,
      "outputs": []
    },
    {
      "cell_type": "markdown",
      "source": [
        "\n",
        "5.2.3\n",
        "\n",
        "Выведите все счастливые номера билетов в диапазоне от a до b (положительные целые числа, a<b), если известно, что счастливым считается номер, у которого количество четных цифр равно количеству нечетных.\n"
      ],
      "metadata": {
        "id": "9W01UV4i4NVH"
      }
    },
    {
      "cell_type": "code",
      "source": [
        "g = []\n",
        "\n",
        "def is_lucky(num):\n",
        "    odd1 = []\n",
        "    even1 = []\n",
        "    p_c = num%10\n",
        "    p_f = num//10\n",
        "    if p_c%2==0:\n",
        "        even1.append(p_c)\n",
        "    else:\n",
        "        odd1.append(p_c)\n",
        "    if p_f%2 == 0:\n",
        "        even1.append(p_c)\n",
        "    else:\n",
        "        odd1.append(p_c)\n",
        "    if len(odd1) == len(even1):\n",
        "        g.append(num)\n",
        "    odd1.clear()\n",
        "    even1.clear()\n",
        "    return g\n",
        "\n",
        "def my_function():\n",
        "  a,b = map(int, input('введите через пробел первый и последний номера').split())\n",
        "  return a,b\n",
        "  \n",
        "a,b = my_function()\n",
        "\n",
        "for x in range(a, b+1):\n",
        "  is_lucky(x)\n",
        "\n",
        "print(' '.join(map(str, g)))"
      ],
      "metadata": {
        "id": "rDvlw5uH4UT9"
      },
      "execution_count": null,
      "outputs": []
    },
    {
      "cell_type": "markdown",
      "source": [
        "\n",
        "5.2.4\n",
        "\n",
        "Дата характеризуется тремя натуральными числами: день, месяц и год. Учитывая, что год может быть високосным, реализуйте две функции, которые определяют вчерашнюю и завтрашнюю дату.\n"
      ],
      "metadata": {
        "id": "UtCtd7dz4YUP"
      }
    },
    {
      "cell_type": "code",
      "source": [
        "def my_function():\n",
        "  day, month, year = map(int, input().split())\n",
        "  return day, month, year\n",
        "  \n",
        "day, month, year = my_function()\n",
        "print(day)\n",
        "print(month)\n",
        "print(year)"
      ],
      "metadata": {
        "id": "ZwOa2uSo4Ymh"
      },
      "execution_count": null,
      "outputs": []
    },
    {
      "cell_type": "code",
      "source": [
        "def is_leap(year):\n",
        "  if year % 4 ==0 and year %100 != 0 or year % 400 == 0:\n",
        "    febrary_day=29\n",
        "  else:\n",
        "     febrary_day = 28\n",
        "  return febrary_day\n",
        "def days(month, year):\n",
        "  month_day_31=[1,3,5,7,8,10,12]\n",
        "  month_day_30=[4,6,9,11]\n",
        "  if month in month_day_31:\n",
        "    date=31\n",
        "  elif month in month_day_30:\n",
        "    date=30\n",
        "  else:\n",
        "    date=is_leap(year)\n",
        "  return date\n",
        "def previous_date(day, month, year):\n",
        "  if day == 1:\n",
        "    month -=1\n",
        "    if month == 0:\n",
        "      year -=1\n",
        "      month=12\n",
        "      day=days(month, year)\n",
        "    else:\n",
        "      year=year\n",
        "      month = month\n",
        "      day=days(month, year)\n",
        "  else:\n",
        "    day -=1\n",
        "    month=month\n",
        "    year=year\n",
        "  return day, month, year\n",
        "def next_date(day, month, year):\n",
        "  if day == days(month, year):\n",
        "    month += 1\n",
        "    if month == 13:\n",
        "      month=1\n",
        "      year+=1\n",
        "      day=1\n",
        "    else:\n",
        "      month=month\n",
        "      day=1\n",
        "      year=year\n",
        "  else:\n",
        "    day+=1\n",
        "    month = month\n",
        "    year=year\n",
        "  return day, month, year"
      ],
      "metadata": {
        "id": "u8ADlGkR4xzc"
      },
      "execution_count": null,
      "outputs": []
    },
    {
      "cell_type": "markdown",
      "source": [
        "\n",
        "5.2.6\n",
        "\n",
        "Дан список из чисел.\n",
        "\n",
        "Определите их НОК (наименьшее общее кратное) и НОД (наибольший общий делитель).\n"
      ],
      "metadata": {
        "id": "ewVKBeHV49c7"
      }
    },
    {
      "cell_type": "code",
      "source": [
        "def gcd(first, second):\n",
        "  if first > second:\n",
        "    a = second\n",
        "  else:\n",
        "    a = first\n",
        "  for i in range(1,a+1):\n",
        "    if (first % i == 0) and (second % i == 0 ):\n",
        "      gcd = i\n",
        "  return gcd"
      ],
      "metadata": {
        "id": "RSTEJ3Fw5FiQ"
      },
      "execution_count": null,
      "outputs": []
    },
    {
      "cell_type": "markdown",
      "source": [
        "⏰"
      ],
      "metadata": {
        "id": "Wn0xW1715TEx"
      }
    },
    {
      "cell_type": "markdown",
      "source": [],
      "metadata": {
        "id": "knOyzUwo-nv3"
      }
    }
  ],
  "metadata": {
    "colab": {
      "provenance": [],
      "authorship_tag": "ABX9TyNpRUbyKE+e8w71zJWzGMMA",
      "include_colab_link": true
    },
    "kernelspec": {
      "display_name": "Python 3",
      "name": "python3"
    },
    "language_info": {
      "name": "python"
    }
  },
  "nbformat": 4,
  "nbformat_minor": 0
}