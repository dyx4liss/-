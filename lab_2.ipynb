{
  "nbformat": 4,
  "nbformat_minor": 0,
  "metadata": {
    "colab": {
      "provenance": [],
      "authorship_tag": "ABX9TyPCiclGOX/ouZOqHT2Wu9AB",
      "include_colab_link": true
    },
    "kernelspec": {
      "name": "python3",
      "display_name": "Python 3"
    },
    "language_info": {
      "name": "python"
    }
  },
  "cells": [
    {
      "cell_type": "markdown",
      "metadata": {
        "id": "view-in-github",
        "colab_type": "text"
      },
      "source": [
        "<a href=\"https://colab.research.google.com/github/dyx4liss/Labs/blob/main/lab_2.ipynb\" target=\"_parent\"><img src=\"https://colab.research.google.com/assets/colab-badge.svg\" alt=\"Open In Colab\"/></a>"
      ]
    },
    {
      "cell_type": "markdown",
      "source": [
        "# Задание 1. \n",
        "\n",
        "---\n",
        "\n",
        "В рамках приложения разработать класс В – наследник класса А (задание\n",
        "2) с полем d и свойством с2. Свойство с2 – результат вычисления\n",
        "выражения над полями a, b, d. В теле свойства использовать управляющий\n",
        "оператор **for**. У класса А создать конструктор,\n",
        "инициализирующий его поля. Для класса В определить 2 конструктора:\n",
        "один – наследуется от конструктора класса А, второй – собственный. В\n",
        "теле программы создать объекты классов А и В, продемонстрировав\n",
        "работу всех конструкторов. Вывести значения свойства на экран.\n"
      ],
      "metadata": {
        "id": "TEep7GrjoMnP"
      }
    },
    {
      "cell_type": "code",
      "execution_count": 1,
      "metadata": {
        "id": "QyzX80Sqn7ru"
      },
      "outputs": [],
      "source": [
        "class A:\n",
        "    def __init__(self, a, b):\n",
        "        self.a = a\n",
        "        self.b = b\n",
        "\n",
        "class B(A):\n",
        "    def __init__(self, a, b, d):\n",
        "        super().__init__(a, b)\n",
        "        self.d = d\n",
        "        self.e = None\n",
        "\n",
        "    def set_e(self, e):\n",
        "        self.e = e\n",
        "\n",
        "    def get_c2(self):\n",
        "        result = 0\n",
        "        for i in range(self.a, self.b):\n",
        "            result += i * self.d\n",
        "        return result\n",
        "\n",
        "    c2 = property(get_c2)"
      ]
    },
    {
      "cell_type": "markdown",
      "source": [
        "# Упражнения для всех вариантов\n",
        "\n",
        "---\n",
        "\n"
      ],
      "metadata": {
        "id": "uTOFhFR8oYqw"
      }
    },
    {
      "cell_type": "markdown",
      "source": [
        "1. Создайте класс «зарплата», который вычисляет сумму зарплаты в зависимости\n",
        "от тарифной ставки и числа отработанных дней. Расширьте метод начислением\n",
        "процентов в зависимости от объема продаж."
      ],
      "metadata": {
        "id": "zz2PPE7qrkvE"
      }
    },
    {
      "cell_type": "code",
      "source": [
        "try:\n",
        "  class Salary:\n",
        "    def init(self, rate, days,nalog):\n",
        "      self.days = days\n",
        "      self.rate = rate\n",
        "      self.nalog = nalog\n",
        "      \n",
        "    \n",
        "    def calculate(self, sales):\n",
        "      nalog2 =1 - self.nalog\n",
        "      salary= self.rate * self.days\n",
        "      salary= salary + (sales * 0.1)\n",
        "      salary= salary * (1 - self.nalog/100)\n",
        "      return salary\n",
        "  m = Salary(1000, 20, 13)\n",
        "  print(\"Salary with sales:\", m.calculate(5000))\n",
        "except Exception:\n",
        "  print('Любая ошибка!')"
      ],
      "metadata": {
        "colab": {
          "base_uri": "https://localhost:8080/"
        },
        "id": "LcIj7uOorlyY",
        "outputId": "ad1dfa15-8255-43ff-9dd6-5c3bd8947caa"
      },
      "execution_count": 2,
      "outputs": [
        {
          "output_type": "stream",
          "name": "stdout",
          "text": [
            "Любая ошибка!\n"
          ]
        }
      ]
    },
    {
      "cell_type": "markdown",
      "source": [
        "2. Переопределите метод начисления зарплаты: в случае, если объем продаж в\n",
        "месяц превысил 1 000 000, проценты добавляются к зарплате, в противном\n",
        "случае – вычитаются."
      ],
      "metadata": {
        "id": "4bsfAzU5sLYa"
      }
    },
    {
      "cell_type": "code",
      "source": [
        "class Salary:\n",
        "  def __init__(self, rate, days, sales):\n",
        "    self.rate = rate\n",
        "    self.days = days\n",
        "    self.sales = sales\n",
        "\n",
        "  def calculate_salary(self):\n",
        "    base_salary = self.rate * self.days\n",
        "    bonus = self.sales * 0.01\n",
        "    if self.sales > 1000000:\n",
        "      total_salary = base_salary + bonus\n",
        "    else:\n",
        "      total_salary = base_salary - bonus\n",
        "    return total_salary\n",
        "m = Salary(200, 5,  1000001)\n",
        "print(m.calculate_salary())\n",
        "     "
      ],
      "metadata": {
        "id": "zpJF9txdsQpI"
      },
      "execution_count": null,
      "outputs": []
    },
    {
      "cell_type": "markdown",
      "source": [
        "3. Создайте для класса «сотрудники» абстрактный метод начисления зарплаты.\n",
        "Создайте два класса-наследника: сотрудник отдела продаж и сотрудник склада. Для первого класса начисление происходит аналогично заданию 1, а для второго\n",
        "–в зависимости от количества отработанных дней."
      ],
      "metadata": {
        "id": "6QUwiltvsTq3"
      }
    },
    {
      "cell_type": "code",
      "source": [
        "from abc import ABC, abstractmethod\n",
        "\n",
        "class Employee(ABC):\n",
        "  def __init__(self, name, rate):\n",
        "    self.name = name\n",
        "    self.rate = rate\n",
        "\n",
        "  @abstractmethod\n",
        "  def calculate_salary(self):\n",
        "    pass\n",
        "\n",
        "class FirstEmployee(Employee):\n",
        "  def __init__(self, name, rate, sales_volume):\n",
        "    super().__init__(name, rate)\n",
        "    self.sales_volume = sales_volume\n",
        "\n",
        "  def calculate_salary(self, days_worked):\n",
        "    salary = self.rate * days_worked\n",
        "    if self.sales_volume > 1000000:\n",
        "      salary += salary * 0.1\n",
        "    else:\n",
        "      salary -= salary * 0.1\n",
        "    return salary\n",
        "\n",
        "class SecondEmployee(Employee):\n",
        "  def __init__(self, name, rate, days_worked):\n",
        "    super().__init__(name, rate)\n",
        "    self.days_worked = days_worked\n",
        "\n",
        "  def calculate_salary(self):\n",
        "    return self.rate * self.days_worked\n",
        "m = FirstEmployee(\"John\", 100, 1200000)\n",
        "print(m.calculate_salary(20))\n",
        "n =SecondEmployee(\"Mike\", 80, 22)\n",
        "print(n.calculate_salary()) "
      ],
      "metadata": {
        "id": "8EldVxNBsdST"
      },
      "execution_count": null,
      "outputs": []
    },
    {
      "cell_type": "markdown",
      "source": [
        "4. Решите предыдущую задачу, используя декоратор Sabstractmethod. Имеется\n",
        "класс «мебель». Создайте класс «корпусная мебель», «мягкая мебель» и\n",
        "«кухонная мебель». Определите атрибуты и методы родительского класса и\n",
        "классов-наследников."
      ],
      "metadata": {
        "id": "zJ5oMktzsp4X"
      }
    },
    {
      "cell_type": "markdown",
      "source": [
        "5. Имеется класс «мебель». Создайте класс «корпусная мебель», «мягкая мебель»\n",
        "и «кухонная мебель». Определите атрибуты и методы родительского класса и\n",
        "классов-наследников."
      ],
      "metadata": {
        "id": "9GepdN8usxK_"
      }
    },
    {
      "cell_type": "code",
      "source": [
        "from abc import ABC, abstractmethod\n",
        "\n",
        "class Furniture(ABC):\n",
        "  @abstractmethod\n",
        "  def get_type(self):\n",
        "    pass\n",
        "\n",
        "  @abstractmethod\n",
        "  def get_material(self):\n",
        "    pass\n",
        "\n",
        "class FurnitureCorporeal(Furniture):\n",
        "  def __init__(self, material, color):\n",
        "    self.material = material\n",
        "    self.color = color\n",
        "\n",
        "  def get_type(self):\n",
        "    return \"Корпусная мебель\"\n",
        "\n",
        "  def get_material(self):\n",
        "    return f\"{self.material} ({self.color})\"\n",
        "\n",
        "class FurnitureSoft(Furniture):\n",
        "  def __init__(self, material, color, cushion_type):\n",
        "    self.material = material\n",
        "    self.color = color\n",
        "    self.cushion_type = cushion_type\n",
        "\n",
        "  def get_type(self):\n",
        "    return \"Мягкая мебель\"\n",
        "\n",
        "  def get_material(self):\n",
        "    return f\"{self.material} ({self.color}), тип подушек: {self.cushion_type}\"\n",
        "\n",
        "class FurnitureKitchen(Furniture):\n",
        "  def __init__(self, material, color, style):\n",
        "    self.material = material\n",
        "    self.color = color\n",
        "    self.style = style\n",
        "\n",
        "  def get_type(self):\n",
        "    return \"Кухонная мебель\"\n",
        "\n",
        "  def get_material(self):\n",
        "    return f\"{self.material} ({self.color}), стиль: {self.style}\"\n",
        "\n",
        "m = FurnitureCorporeal(\"Дерево\", \"Коричневый\")\n",
        "n = FurnitureSoft(\"Ткань\", \"Синий\", \"Синтепух\")\n",
        "l = FurnitureKitchen(\"Пластик\", \"Белый\", \"Модерн\")\n",
        "\n",
        "# Вывод информации о мебели\n",
        "print(m.get_type())\n",
        "print(m.get_material())\n",
        "\n",
        "print(n.get_type())\n",
        "print(n.get_material())\n",
        "\n",
        "print(l.get_type())\n",
        "print(l.get_material())"
      ],
      "metadata": {
        "id": "5f32ojiWs0w8"
      },
      "execution_count": null,
      "outputs": []
    }
  ]
}