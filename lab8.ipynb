{
  "nbformat": 4,
  "nbformat_minor": 0,
  "metadata": {
    "colab": {
      "provenance": [],
      "authorship_tag": "ABX9TyOKgkS3vApLQg8XXoGiuEqf",
      "include_colab_link": true
    },
    "kernelspec": {
      "name": "python3",
      "display_name": "Python 3"
    },
    "language_info": {
      "name": "python"
    }
  },
  "cells": [
    {
      "cell_type": "markdown",
      "metadata": {
        "id": "view-in-github",
        "colab_type": "text"
      },
      "source": [
        "<a href=\"https://colab.research.google.com/github/dyx4liss/Labs/blob/main/lab8.ipynb\" target=\"_parent\"><img src=\"https://colab.research.google.com/assets/colab-badge.svg\" alt=\"Open In Colab\"/></a>"
      ]
    },
    {
      "cell_type": "markdown",
      "source": [
        "8.2.1"
      ],
      "metadata": {
        "id": "UYz4zmNTqGcs"
      }
    },
    {
      "cell_type": "code",
      "execution_count": null,
      "metadata": {
        "id": "6-QUmLbmp8rl"
      },
      "outputs": [],
      "source": [
        "import locale\n",
        "locale.getpreferredencoding(False)  # 'cp1251' на российской сборке ОС Windows\n",
        "def load_data():\n",
        "  name=[]\n",
        "  name.append(list(map(int, input(\"введите строку\").split())))\n",
        "  values=name[0]\n",
        "  return values\n",
        "def save_data(values,filename):\n",
        "  filename=open('file.txt', 'w')\n",
        "  for letter in values:\n",
        "    i=str(letter)\n",
        "    filename.write(i)\n",
        "    filename.write('\\n')"
      ]
    },
    {
      "cell_type": "code",
      "source": [
        "try:\n",
        "  filename = open('file.txt', 'w')\n",
        "  values = load_data()\n",
        "  save_data(values, filename)\n",
        "  with open('file.txt', 'r') as filename:\n",
        "    for line in filename:\n",
        "      print(line)\n",
        "except FileNotFoundError:\n",
        "  print(\"ошибка чтения файла\")\n",
        "except:\n",
        "  print(\"ошибка при работе с файлом\")\n",
        "finally:\n",
        "  filename.close()"
      ],
      "metadata": {
        "id": "NQ2EGFnFqBFH"
      },
      "execution_count": null,
      "outputs": []
    },
    {
      "cell_type": "markdown",
      "source": [
        "8.2.2"
      ],
      "metadata": {
        "id": "uLHfWLZ8qJ7j"
      }
    },
    {
      "cell_type": "code",
      "source": [],
      "metadata": {
        "id": "98A6z6jkqSeX"
      },
      "execution_count": null,
      "outputs": []
    },
    {
      "cell_type": "code",
      "source": [],
      "metadata": {
        "id": "W2QG4H8rqTVx"
      },
      "execution_count": null,
      "outputs": []
    }
  ]
}