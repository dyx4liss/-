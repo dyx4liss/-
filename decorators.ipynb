{
  "nbformat": 4,
  "nbformat_minor": 0,
  "metadata": {
    "colab": {
      "provenance": [],
      "authorship_tag": "ABX9TyPe1sldNUVe3TvwsJe5XmB8",
      "include_colab_link": true
    },
    "kernelspec": {
      "name": "python3",
      "display_name": "Python 3"
    },
    "language_info": {
      "name": "python"
    }
  },
  "cells": [
    {
      "cell_type": "markdown",
      "metadata": {
        "id": "view-in-github",
        "colab_type": "text"
      },
      "source": [
        "<a href=\"https://colab.research.google.com/github/dyx4liss/Labs/blob/main/decorators.ipynb\" target=\"_parent\"><img src=\"https://colab.research.google.com/assets/colab-badge.svg\" alt=\"Open In Colab\"/></a>"
      ]
    },
    {
      "cell_type": "markdown",
      "source": [
        "# Декораторы vol.2"
      ],
      "metadata": {
        "id": "EiqwRDQF2Siv"
      }
    },
    {
      "cell_type": "markdown",
      "source": [
        "**Декоратор** - это объект, который расширяет возможности функции, не меняя её исходный код. Часто в качестве декораторов используются функции - их мы и рассмотрим в качестве примера Вот принцип работы декоратора:\n",
        "\n",
        "- принимает функцию как аргумент;\n",
        "\n",
        "- объявляет новую функцию, которая расширяет функцию-аргумент\n",
        "\n",
        "- возвращает новую функцию в качестве объекта"
      ],
      "metadata": {
        "id": "RpjGG3KR3DRJ"
      }
    },
    {
      "cell_type": "markdown",
      "source": [
        "пример 1"
      ],
      "metadata": {
        "id": "q0Pchso4_zvK"
      }
    },
    {
      "cell_type": "code",
      "execution_count": 45,
      "metadata": {
        "id": "9GMh5HNZ2Pcq"
      },
      "outputs": [],
      "source": [
        "class Cat:\n",
        "  def init(self):\n",
        "    self.hungry =True\n",
        "  def eat (self):\n",
        "    if self.hungry:\n",
        "      print('I am hungry...')\n",
        "      self.hungry = False\n",
        "    else:\n",
        "      print('No, thanks!')\n",
        "\n",
        "\n",
        "class Barsik (Cat):\n",
        "  def init(self):\n",
        "    self. sound = 'Aaaammm!'\n",
        "    print(self.sound)"
      ]
    },
    {
      "cell_type": "code",
      "source": [
        "class Barsik(Cat):\n",
        "  def init(self):\n",
        "    Cat.init(self)\n",
        "    self.sound = 'Aaaammm!'\n",
        "    print(self.sound)"
      ],
      "metadata": {
        "id": "3sxBfOG4A0N9"
      },
      "execution_count": 6,
      "outputs": []
    },
    {
      "cell_type": "code",
      "source": [
        "__metaclass__ = type\n",
        "\n",
        "class Barsik(Cat):\n",
        "  def __init__(self):\n",
        "    super(Barsik, self).__init__()\n",
        "    self.sound = 'Aaaammm!'\n",
        "    print(self.sound)"
      ],
      "metadata": {
        "id": "7mgf8aQpCI3Q"
      },
      "execution_count": 53,
      "outputs": []
    },
    {
      "cell_type": "code",
      "source": [
        "class Multi:\n",
        "\n",
        "  def imeth(self, x): \n",
        "    print (self, x)\n",
        "  def smeth (x):\n",
        "    print (x)\n",
        "  def cmeth (cls, x):\n",
        "    print (cls, x )\n",
        "  smeth = staticmethod (smeth)\n",
        "  cmeth = classmethod (cmeth)"
      ],
      "metadata": {
        "id": "Tfz2xuj3Cd7I"
      },
      "execution_count": 13,
      "outputs": []
    },
    {
      "cell_type": "code",
      "source": [
        "class Reverse:\n",
        "  def __init__(self, data):\n",
        "    self.data = data\n",
        "    self.index = len(data)\n",
        "  def __iter__(self):\n",
        "    return self\n",
        "  def next(self):\n",
        "    if self.index == 0:\n",
        "      raise StopIteration\n",
        "    self.index =self.index - 1\n",
        "    return self.data[self.index]\n"
      ],
      "metadata": {
        "id": "KcH3fm2wE9Xn"
      },
      "execution_count": 54,
      "outputs": []
    },
    {
      "cell_type": "code",
      "source": [
        "class DateOffest:\n",
        "  def __init__(self):\n",
        "    self.start = 0\n",
        "  def _get_offest(self):\n",
        "    self.start +=5\n",
        "    return self.start\n",
        "  offest = property(_get_offest)"
      ],
      "metadata": {
        "id": "CaFUOJ1pFcAT"
      },
      "execution_count": 55,
      "outputs": []
    },
    {
      "cell_type": "code",
      "source": [
        "class Singleton(object):\n",
        "    \n",
        "   def __new__(cls, *args, **kw):\n",
        "        if not hasattr(cls, \"_instance\"):\n",
        "          orig = super(Singleton, cls)\n",
        "          cls._instance = orig.__new__(cls, *args, **kw)\n",
        "        return cls._instance\n",
        "\n",
        "one = Singleton()\n",
        "two = Singleton()\n",
        "print(id(one))\n",
        "print(id(two)) # Output: Same ID"
      ],
      "metadata": {
        "colab": {
          "base_uri": "https://localhost:8080/"
        },
        "id": "pZ-bOZC0Ia0q",
        "outputId": "0714284e-a17c-4a90-ffdf-7552005b5ea4"
      },
      "execution_count": 41,
      "outputs": [
        {
          "output_type": "stream",
          "name": "stdout",
          "text": [
            "140205039996304\n",
            "140205039996304\n"
          ]
        }
      ]
    },
    {
      "cell_type": "markdown",
      "source": [
        "Слоты"
      ],
      "metadata": {
        "id": "rtFJXOSvJmkj"
      }
    },
    {
      "cell_type": "code",
      "source": [
        "class limiter(object):\n",
        "  __slots__ = ['age', 'name', 'job']\n",
        "\n",
        "x=limiter()\n",
        "x.age = 20 "
      ],
      "metadata": {
        "id": "E84qA4IzJoIY"
      },
      "execution_count": null,
      "outputs": []
    },
    {
      "cell_type": "markdown",
      "source": [
        "Функтор "
      ],
      "metadata": {
        "id": "I8IkQERwJ3nE"
      }
    },
    {
      "cell_type": "code",
      "source": [
        "class SortKey:\n",
        "  def __init__(self, *attribute_names):\n",
        "    self.attribute_names = attribute_names\n",
        "  def __call__(self, instance):\n",
        "    values = []\n",
        "    for attribute_name in self.attribute_names:\n",
        "      values.append(getattr(instance, attribute_name))\n",
        "    return values \n",
        "\n",
        "class Person:  \n",
        "  def __init__(self, forename, surname, email):\n",
        "    self.forename = forename \n",
        "    self.surname = surname \n",
        "    self.email = email \n",
        "people=[]\n",
        "p=Person('Petrov','','')\n",
        "people.append(p)\n",
        "p=Person('Sidorov','','')\n",
        "people.append(p)\n",
        "p=Person(u'Ivanov','','')\n",
        "people.append(p)\n",
        "for p in people:\n",
        "  print(p.forename)\n",
        "people.sort(key=SortKey(\"forename\"))\n",
        "for p in people:\n",
        "  print(p.forename)"
      ],
      "metadata": {
        "colab": {
          "base_uri": "https://localhost:8080/"
        },
        "id": "tItUnMNnJ6X2",
        "outputId": "8b93a7b5-1586-46cb-f4cb-dabca1366593"
      },
      "execution_count": 33,
      "outputs": [
        {
          "output_type": "stream",
          "name": "stdout",
          "text": [
            "Petrov\n",
            "Sidorov\n",
            "Ivanov\n",
            "Ivanov\n",
            "Petrov\n",
            "Sidorov\n"
          ]
        }
      ]
    },
    {
      "cell_type": "markdown",
      "source": [
        "Дескриптор "
      ],
      "metadata": {
        "id": "i6kGSwBdL0tv"
      }
    },
    {
      "cell_type": "code",
      "source": [
        "class ExternalStorage: \n",
        "  __slots__ = (\"attribute_name\",)\n",
        "  __storage = {}\n",
        "\n",
        "  def __init__(self, attribute_name):\n",
        "    self.attribute_name = attribute_name \n",
        "\n",
        "  def __set__(self, instance, value):\n",
        "    self.__storage[id(instance), self.attribute_name] = value\n",
        "  def __get__(self, instance, owner=None):\n",
        "    if instance is None: \n",
        "      return self\n",
        "    return self.__storage[id(instance), self.attribute_name]\n",
        "\n",
        "class Point:\n",
        "  __slots_ = ()\n",
        "  x = ExternalStorage(\"x\")\n",
        "  y = ExternalStorage(\"y\")\n",
        "  def __init__(self, x=0, y=0):\n",
        "    self.x = x\n",
        "    self.y = y\n",
        "\n",
        "p1=Point(1,2)\n",
        "p2=Point(3,4)"
      ],
      "metadata": {
        "id": "ZuoyF_TOKiTH"
      },
      "execution_count": 35,
      "outputs": []
    },
    {
      "cell_type": "markdown",
      "source": [
        "Sequence"
      ],
      "metadata": {
        "id": "iXPbexxXO1lq"
      }
    },
    {
      "cell_type": "code",
      "source": [
        "class MySequence:\n",
        "  def __init__(self, start=0, step=1):\n",
        "    self.start = start\n",
        "    self.step = step\n",
        "    self.changed = {}\n",
        "  def __getitem__(self, key):\n",
        "    return self.start + key*self.step\n",
        "  def __setitem__(self, key):\n",
        "    return self.start + key*self.step \n",
        "  def __setitem__(self, key, value):\n",
        "    self.changed[key] = value\n",
        "s = MySequence(1,2)"
      ],
      "metadata": {
        "id": "uQXm3PO8OzdU"
      },
      "execution_count": 37,
      "outputs": []
    },
    {
      "cell_type": "markdown",
      "source": [
        "# Практические задания"
      ],
      "metadata": {
        "id": "Ylz4oHI7QD9A"
      }
    },
    {
      "cell_type": "markdown",
      "source": [
        "1. "
      ],
      "metadata": {
        "id": "_ov46s6eQHcg"
      }
    },
    {
      "cell_type": "code",
      "source": [
        "class Thing:\n",
        "  pass\n",
        "th = Thing()\n",
        "print(th)\n",
        "example = Thing()\n",
        "print(example)"
      ],
      "metadata": {
        "id": "zUJJjOQYQGp9"
      },
      "execution_count": null,
      "outputs": []
    },
    {
      "cell_type": "markdown",
      "source": [
        "2."
      ],
      "metadata": {
        "id": "3cSI2ECuRICf"
      }
    },
    {
      "cell_type": "code",
      "source": [
        "class Thing2:\n",
        "  letters = \"abc\"\n",
        "th2=Thing2\n",
        "print(th2.letters)"
      ],
      "metadata": {
        "id": "disDLQjFRI7u"
      },
      "execution_count": null,
      "outputs": []
    },
    {
      "cell_type": "markdown",
      "source": [
        "3. "
      ],
      "metadata": {
        "id": "yap_6PxXRMOr"
      }
    },
    {
      "cell_type": "code",
      "source": [
        "class Thing3:\n",
        "    def __init__(self):\n",
        "        self.letters = 'xyz'\n",
        "\n",
        "example = Thing3()\n",
        "print(example.letters)"
      ],
      "metadata": {
        "id": "Nl5zKJGMRNJZ"
      },
      "execution_count": null,
      "outputs": []
    },
    {
      "cell_type": "markdown",
      "source": [
        "4."
      ],
      "metadata": {
        "id": "S_tXskJeRPaz"
      }
    },
    {
      "cell_type": "code",
      "source": [
        "class Element:\n",
        "    def __init__(self, name, symbol, number):\n",
        "        self.name = name\n",
        "        self.symbol = symbol\n",
        "        self.number = number\n",
        "\n",
        "hydrogen = Element(\"Hydrogen\", \"H\", 1)"
      ],
      "metadata": {
        "id": "CWpQcZvkRSkH"
      },
      "execution_count": null,
      "outputs": []
    },
    {
      "cell_type": "markdown",
      "source": [
        "5."
      ],
      "metadata": {
        "id": "ZZdKiUR-RUYS"
      }
    },
    {
      "cell_type": "code",
      "source": [
        "element_dict = {'name': 'Hydrogen', 'symbol': 'H', 'number': 1}\n",
        "hydrogen = Element(**element_dict)"
      ],
      "metadata": {
        "id": "B8rwW-2bRS5y"
      },
      "execution_count": null,
      "outputs": []
    }
  ]
}