{
  "nbformat": 4,
  "nbformat_minor": 0,
  "metadata": {
    "colab": {
      "provenance": [],
      "authorship_tag": "ABX9TyNie/fWM2Nm6a9gP6m7/SFK",
      "include_colab_link": true
    },
    "kernelspec": {
      "name": "python3",
      "display_name": "Python 3"
    },
    "language_info": {
      "name": "python"
    }
  },
  "cells": [
    {
      "cell_type": "markdown",
      "metadata": {
        "id": "view-in-github",
        "colab_type": "text"
      },
      "source": [
        "<a href=\"https://colab.research.google.com/github/dyx4liss/Labs/blob/main/1_3.ipynb\" target=\"_parent\"><img src=\"https://colab.research.google.com/assets/colab-badge.svg\" alt=\"Open In Colab\"/></a>"
      ]
    },
    {
      "cell_type": "markdown",
      "source": [
        "№1.3.1\n",
        "\n",
        "Создайте для класса «студент» функцию, которая считает средний балл по трем дисциплинам, оценки по которым вводятся пользователям. Реализуйте программу двумя способами: без использования конструктора init и с ним. "
      ],
      "metadata": {
        "id": "8P3gE0gMcThQ"
      }
    },
    {
      "cell_type": "code",
      "execution_count": null,
      "metadata": {
        "id": "E7MY48sncPbB"
      },
      "outputs": [],
      "source": [
        "#есть инициализация\n",
        "try:\n",
        "  s1 = input('Введите дисциплину: ')\n",
        "  s1 = s1.lower()\n",
        "  d1 = int(input('Введите оценку: '))\n",
        "  s2 = input('Введите дисциплину: ')\n",
        "  s2 = s2.lower()\n",
        "  d2 = int(input('Введите оценку: '))\n",
        "  s3 = input('Введите дисциплину: ')\n",
        "  s3 = s3.lower()\n",
        "  d3 = int(input('Введите оценку: '))\n",
        "except ValueError:\n",
        "  print(\"Проверьте данные\")\n",
        "\n",
        "\n",
        "class Student:\n",
        "\n",
        "  def __init__(self, __a, __b, __c):\n",
        "    self.s1 = d1\n",
        "    self.s2 = d2\n",
        "    self.s3 = d3\n",
        "    \n",
        "  def avg(self):\n",
        "    s=((self.s1+ self.s2+ self.s3)/3)\n",
        "    return s\n",
        "    \n",
        "  def __del__(self):\n",
        "    print(\"Процесс удален\")\n",
        "if s1 != s2 != s3:\n",
        "  a = Student(d1, d2, d3)\n",
        "  print('Средний балл по 3 дисциплинам: ',a.avg())\n",
        "else:\n",
        "  print('Проверьте введенные данные')"
      ]
    },
    {
      "cell_type": "code",
      "source": [
        "#без инициализации\n",
        "a = int(input(\"первая оценка: \"))\n",
        "b = int(input(\"вторая оценка: \"))\n",
        "c = int(input(\"третья оценка: \"))\n",
        "class Student:\n",
        "    fm=a\n",
        "    sm=b\n",
        "    tm=c\n",
        "\n",
        "def avg(a, b , c):\n",
        "  s =(a + b + c)/3\n",
        "  return s\n",
        "\n",
        "print(\"Средняя оценка \", avg(a, b, c))"
      ],
      "metadata": {
        "id": "B5dU0zbrcauc"
      },
      "execution_count": null,
      "outputs": []
    },
    {
      "cell_type": "markdown",
      "source": [
        "#№1.3.2 \n",
        "Создайте функцию, которая считает и выводит в файл заработную\n",
        "плату сотрудника склада в зависимости от количества отработанных дней в\n",
        "месяце. Оклад является защищаемым атрибутом класса «сотрудник». "
      ],
      "metadata": {
        "id": "Sb_K2r3ocYXe"
      }
    },
    {
      "cell_type": "code",
      "source": [
        "class Sotrudnik:\n",
        "  __a=int()#оклад\n",
        "  __b=int()#кол-во отработанных дней\n",
        "  def __init__(self, __a, __b):\n",
        "    self.a = __a\n",
        "    self.b = __b\n",
        "  def salary(self):\n",
        "    k=self.a*self.b\n",
        "    return k\n",
        "  def __del__(self):\n",
        "    print('Process deleted.')"
      ],
      "metadata": {
        "id": "tOalSqthci20"
      },
      "execution_count": 1,
      "outputs": []
    },
    {
      "cell_type": "code",
      "source": [
        "try:\n",
        "  a=int(input(\"введите оклад\"))\n",
        "  b=int(input(\"введите кол-во отработанных дней\"))\n",
        "  m=Sotrudnik(a,b) \n",
        "  f=m.salary()\n",
        "  l=str(f)\n",
        "  file = open(\"111.txt\", 'w+', encoding='utf-8')\n",
        "  file.write(l)\n",
        "  file.close()\n",
        "  with open('111.txt', 'r') as filename:\n",
        "    for line in filename:\n",
        "      print(line)\n",
        "except FileNotFoundError:\n",
        "  print(\"ошибка чтения файла\")\n",
        "except:\n",
        "  print(\"ошибка при работе с файлом\")"
      ],
      "metadata": {
        "id": "JhlOFtM9klBi"
      },
      "execution_count": null,
      "outputs": []
    },
    {
      "cell_type": "markdown",
      "source": [
        "#№1.3.3\n",
        "Используя результат предыдущего задания, создайте функцию\n",
        "начисления премии сотруднику, вычисляемую как 1% от уровня заработной\n",
        "платы.\n",
        "1.3.4"
      ],
      "metadata": {
        "id": "uGxTVuR2men4"
      }
    },
    {
      "cell_type": "code",
      "source": [
        "#3\n",
        "def prem(file):\n",
        "  file=open('111.txt','r')\n",
        "  x=int(file.readline())\n",
        "  file.close()\n",
        "  y=(x/100)\n",
        "  return y"
      ],
      "metadata": {
        "id": "gnPZ7Mq6mjR-"
      },
      "execution_count": null,
      "outputs": []
    },
    {
      "cell_type": "code",
      "source": [],
      "metadata": {
        "id": "tGyKOZIVmpUh"
      },
      "execution_count": null,
      "outputs": []
    },
    {
      "cell_type": "markdown",
      "source": [
        "#№1.3.5\n",
        "Используя технологию перегрузки операторов, измените\n",
        "__truediv__(деление) так, чтобы числителем был знаменатель и наоборот.\n",
        "Аналогичные процедуры осуществите для операторов\n",
        "__floordiv__(целочисленное деление), __mod__(остаток от деления). Числа\n",
        "вводят пользователи. Предусмотрите отработку исключений. \n"
      ],
      "metadata": {
        "id": "J_mXL_cucnqY"
      }
    },
    {
      "cell_type": "code",
      "source": [
        "class A():\n",
        "    def __init__(self, a):\n",
        "        self.q = float(a)\n",
        "    def __truediv__(self, y):\n",
        "        return y / self.q\n",
        "    def __floordiv__(self, c):\n",
        "        return int(c // self.q)\n",
        "    def __mod__(self, z):\n",
        "        return int(z % self.q)\n",
        "    \n",
        "try:\n",
        "  x = A(int(input()))\n",
        "  b = int(input())\n",
        "  print(x / b) # 0.42\n",
        "  print(x // b) # 1\n",
        "  print(x % b) # 3\n",
        "except ZeroDivisionError and ValueError:\n",
        "  print(\"Проверьте введенные данные\")"
      ],
      "metadata": {
        "id": "tUn9AaeWcobQ"
      },
      "execution_count": null,
      "outputs": []
    }
  ]
}