{
  "nbformat": 4,
  "nbformat_minor": 0,
  "metadata": {
    "colab": {
      "provenance": [],
      "authorship_tag": "ABX9TyOgGg5u3NSuWQI1IjhOtIW1",
      "include_colab_link": true
    },
    "kernelspec": {
      "name": "python3",
      "display_name": "Python 3"
    },
    "language_info": {
      "name": "python"
    }
  },
  "cells": [
    {
      "cell_type": "markdown",
      "metadata": {
        "id": "view-in-github",
        "colab_type": "text"
      },
      "source": [
        "<a href=\"https://colab.research.google.com/github/dyx4liss/Labs/blob/main/1_3.ipynb\" target=\"_parent\"><img src=\"https://colab.research.google.com/assets/colab-badge.svg\" alt=\"Open In Colab\"/></a>"
      ]
    },
    {
      "cell_type": "markdown",
      "source": [
        "№1.3.1\n",
        "\n",
        "Создайте для класса «студент» функцию, которая считает средний балл по трем дисциплинам, оценки по которым вводятся пользователям. Реализуйте программу двумя способами: без использования конструктора init и с ним. "
      ],
      "metadata": {
        "id": "8P3gE0gMcThQ"
      }
    },
    {
      "cell_type": "code",
      "execution_count": null,
      "metadata": {
        "id": "E7MY48sncPbB"
      },
      "outputs": [],
      "source": [
        "#есть инициализация\n",
        "try:\n",
        "  s1 = input('Введите дисциплину: ')\n",
        "  s1 = s1.lower()\n",
        "  d1 = int(input('Введите оценку: '))\n",
        "  s2 = input('Введите дисциплину: ')\n",
        "  s2 = s2.lower()\n",
        "  d2 = int(input('Введите оценку: '))\n",
        "  s3 = input('Введите дисциплину: ')\n",
        "  s3 = s3.lower()\n",
        "  d3 = int(input('Введите оценку: '))\n",
        "except ValueError:\n",
        "  print(\"Проверьте данные\")\n",
        "\n",
        "\n",
        "class Student:\n",
        "\n",
        "  def __init__(self, __a, __b, __c):\n",
        "    self.s1 = d1\n",
        "    self.s2 = d2\n",
        "    self.s3 = d3\n",
        "    \n",
        "  def avg(self):\n",
        "    s=((self.s1+ self.s2+ self.s3)/3)\n",
        "    return s\n",
        "    \n",
        "  def __del__(self):\n",
        "    print(\"Процесс удален\")\n",
        "if s1 != s2 != s3:\n",
        "  a = Student(d1, d2, d3)\n",
        "  print('Средний балл по 3 дисциплинам: ',a.avg())\n",
        "else:\n",
        "  print('Проверьте введенные данные')"
      ]
    },
    {
      "cell_type": "code",
      "source": [
        "#без инициализации\n",
        "a = int(input(\"первая оценка: \"))\n",
        "b = int(input(\"вторая оценка: \"))\n",
        "c = int(input(\"третья оценка: \"))\n",
        "class Student:\n",
        "    fm=a\n",
        "    sm=b\n",
        "    tm=c\n",
        "\n",
        "def avg(a, b , c):\n",
        "  s =(a + b + c)/3\n",
        "  return s\n",
        "\n",
        "print(\"Средняя оценка \", avg(a, b, c))"
      ],
      "metadata": {
        "id": "B5dU0zbrcauc"
      },
      "execution_count": null,
      "outputs": []
    },
    {
      "cell_type": "markdown",
      "source": [
        "#№1.3.2 and 1.3.3\n",
        "Создайте функцию, которая считает и выводит в файл заработную\n",
        "плату сотрудника склада в зависимости от количества отработанных дней в\n",
        "месяце. Оклад является защищаемым атрибутом класса «сотрудник». "
      ],
      "metadata": {
        "id": "Sb_K2r3ocYXe"
      }
    },
    {
      "cell_type": "code",
      "source": [
        "try:\n",
        "  okl = float(input('Введите заработную плату: '))\n",
        "  wd = int(input('Введите кол-во рабочих дней в месяце: '))\n",
        "  fw = int(input('Введите фактическое кол-во отработанных дней: '))\n",
        "except:\n",
        "  print(\"Проверьте данные\")\n",
        "class Employee:\n",
        "  def __init__(self):\n",
        "    self.okl = okl\n",
        "    self.wd = wd\n",
        "    self.fw = fw\n",
        "    self.res = 0\n",
        "  def act_salary(self):\n",
        "    self.res = self.okl / self.wd * self.fw\n",
        "    a = open('salary', 'w') \n",
        "    a.write('Salary = ' + str(self.res) + '\\n') \n",
        "    a.close()\n",
        "\n",
        "  def award(self):\n",
        "    i = self.act_salary()\n",
        "    self.res += (self.res * 0.01)\n",
        "    a = open('salary', 'a')\n",
        "    a.write('Salary + award = ' + str(self.res) + '\\n')\n",
        "    a.close()\n",
        "    return self.res\n",
        "        \n",
        "if __name__ == \"__main__\":\n",
        "    c = Employee()\n",
        "    c.award()"
      ],
      "metadata": {
        "id": "tOalSqthci20"
      },
      "execution_count": null,
      "outputs": []
    },
    {
      "cell_type": "markdown",
      "source": [
        "#№1.3.5\n",
        "Используя технологию перегрузки операторов, измените\n",
        "__truediv__(деление) так, чтобы числителем был знаменатель и наоборот.\n",
        "Аналогичные процедуры осуществите для операторов\n",
        "__floordiv__(целочисленное деление), __mod__(остаток от деления). Числа\n",
        "вводят пользователи. Предусмотрите отработку исключений. \n"
      ],
      "metadata": {
        "id": "J_mXL_cucnqY"
      }
    },
    {
      "cell_type": "code",
      "source": [
        "class A():\n",
        "    def __init__(self, a):\n",
        "        self.q = float(a)\n",
        "    def __truediv__(self, y):\n",
        "        return y / self.q\n",
        "    def __floordiv__(self, c):\n",
        "        return int(c // self.q)\n",
        "    def __mod__(self, z):\n",
        "        return int(z % self.q)\n",
        "    \n",
        "try:\n",
        "  x = A(int(input()))\n",
        "  b = int(input())\n",
        "  print(x / b) # 0.42\n",
        "  print(x // b) # 1\n",
        "  print(x % b) # 3\n",
        "except ZeroDivisionError and ValueError:\n",
        "  print(\"Проверьте введенные данные\")"
      ],
      "metadata": {
        "id": "tUn9AaeWcobQ"
      },
      "execution_count": null,
      "outputs": []
    }
  ]
}