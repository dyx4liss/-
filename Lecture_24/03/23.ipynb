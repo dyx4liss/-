{
  "nbformat": 4,
  "nbformat_minor": 0,
  "metadata": {
    "colab": {
      "provenance": [],
      "authorship_tag": "ABX9TyOWFuSE0AiqV9v4ZLZvlNx6",
      "include_colab_link": true
    },
    "kernelspec": {
      "name": "python3",
      "display_name": "Python 3"
    },
    "language_info": {
      "name": "python"
    }
  },
  "cells": [
    {
      "cell_type": "markdown",
      "metadata": {
        "id": "view-in-github",
        "colab_type": "text"
      },
      "source": [
        "<a href=\"https://colab.research.google.com/github/dyx4liss/Labs/blob/main/Lecture_24/03/23.ipynb\" target=\"_parent\"><img src=\"https://colab.research.google.com/assets/colab-badge.svg\" alt=\"Open In Colab\"/></a>"
      ]
    },
    {
      "cell_type": "markdown",
      "source": [
        "# **Переопределение и перегрузка методов**\n",
        "\n",
        "---\n",
        "\n",
        "\n",
        "\n",
        "**Переопределение метода** (*overriding*) - приём в ООП, позволяющий классам-потомкам реализовывать новое поведение метода, определённого в родительском классе\n",
        "\n",
        "**Перегрузка метода** (*overloading*) - определение метода с тем же именем, но отличающегося в сигнатуре (т.е. принимающего или возвращающего значения различных типов, имеющего отличающееся число параметров и т.п.)\n",
        "\n",
        "B Python отсутствует возможность явной перегрузки метода\n",
        "\n",
        "Определение метода в классе потомке с тем же именем, что и в родительском классе, его переопределяет (независимо от состава параметров)"
      ],
      "metadata": {
        "id": "-OSsEaDzgec4"
      }
    },
    {
      "cell_type": "markdown",
      "source": [
        "Переопределение, пример 1"
      ],
      "metadata": {
        "id": "DLTws75rlkQk"
      }
    },
    {
      "cell_type": "code",
      "execution_count": 19,
      "metadata": {
        "colab": {
          "base_uri": "https://localhost:8080/"
        },
        "id": "zsEfq5Cvgdih",
        "outputId": "3bb7ad30-7bc5-4e27-93f7-124beeb1ff34"
      },
      "outputs": [
        {
          "output_type": "stream",
          "name": "stdout",
          "text": [
            "Hello\n",
            "Hello,World!\n"
          ]
        }
      ],
      "source": [
        "class A:\n",
        "  def f(self, x):\n",
        "     print(x)\n",
        "\n",
        "class B(A):\n",
        "  def f(self, x, y): # it's overriding\n",
        "    print(x+y)\n",
        "\n",
        "a = A()\n",
        "a.f(\"Hello\")\n",
        "b = B()\n",
        "#b.f(\"Hello\")\n",
        "b.f(\"Hello,\",\"World!\")"
      ]
    },
    {
      "cell_type": "markdown",
      "source": [
        "Переопределение, пример 2"
      ],
      "metadata": {
        "id": "UYOayzNtlncW"
      }
    },
    {
      "cell_type": "code",
      "source": [
        "class A:\n",
        "  def f(self, x):\n",
        "    print (x)\n",
        "\n",
        "class B(A):\n",
        "  def f(self, x, y=None): # it's overriding\n",
        "    if y is None:\n",
        "      super().f(x)\n",
        "    else:\n",
        "      print (x+y)\n",
        "\n",
        "b = B()\n",
        "b.f('Hello!') # A. f(\"Hello!\") is called\n",
        "b. f('Hello,',' world!') # 'Hello, world!'"
      ],
      "metadata": {
        "colab": {
          "base_uri": "https://localhost:8080/"
        },
        "id": "mybVytaJk-4S",
        "outputId": "113553c1-a453-4c5b-e0a7-202806279073"
      },
      "execution_count": 17,
      "outputs": [
        {
          "output_type": "stream",
          "name": "stdout",
          "text": [
            "Hello!\n",
            "Hello, world!\n"
          ]
        }
      ]
    },
    {
      "cell_type": "markdown",
      "source": [
        "# Виртуальные методы\n",
        "\n",
        "---\n",
        "\n"
      ],
      "metadata": {
        "id": "-ab971PelbSt"
      }
    },
    {
      "cell_type": "code",
      "source": [
        "class A:\n",
        "def f(self):\n",
        "return 2\n",
        "def f_sq(self):\n",
        "return self.f()**2\n",
        "class B(A):\n",
        "def f(self):\n",
        "return 5\n",
        "\n",
        "a = A()\n",
        "a.f_sq() # 4\n",
        "b = B()\n",
        "b.f_sq() #25"
      ],
      "metadata": {
        "colab": {
          "base_uri": "https://localhost:8080/",
          "height": 133
        },
        "id": "W8wzXxtgliUn",
        "outputId": "3b7fc905-681f-4018-c099-0fa35862d722"
      },
      "execution_count": 16,
      "outputs": [
        {
          "output_type": "error",
          "ename": "SyntaxError",
          "evalue": "ignored",
          "traceback": [
            "\u001b[0;36m  File \u001b[0;32m\"<ipython-input-16-4d6f0f371532>\"\u001b[0;36m, line \u001b[0;32m1\u001b[0m\n\u001b[0;31m    Виртуальные методы\u001b[0m\n\u001b[0m                ^\u001b[0m\n\u001b[0;31mSyntaxError\u001b[0m\u001b[0;31m:\u001b[0m invalid syntax\n"
          ]
        }
      ]
    },
    {
      "cell_type": "markdown",
      "source": [
        "**Виртуальные методы**\n",
        "\n",
        "---\n",
        "\n",
        "Все методы в Python, 3а исключением приватных методов, являются виртуальными\n",
        "\n",
        "Переопределенный приватный метод - потомка не\n",
        "используется при вызовах методов родительского класса"
      ],
      "metadata": {
        "id": "hmFcGSb5mk_G"
      }
    },
    {
      "cell_type": "code",
      "source": [
        "class A:\n",
        "  def __f(self):\n",
        "    return 2\n",
        "  def f_sq(self):\n",
        "    return self.__f()**2\n",
        "\n",
        "class B(A):\n",
        "  def ___f(self):\n",
        "    return 5\n",
        "\n",
        "a = A()\n",
        "a.f_sq() #4\n",
        "b = B()\n",
        "b.f_sq() #4"
      ],
      "metadata": {
        "colab": {
          "base_uri": "https://localhost:8080/"
        },
        "id": "aPj_TMUzmGu_",
        "outputId": "eb5c10be-b808-4f3c-9baa-f1984deb70be"
      },
      "execution_count": 15,
      "outputs": [
        {
          "output_type": "execute_result",
          "data": {
            "text/plain": [
              "4"
            ]
          },
          "metadata": {},
          "execution_count": 15
        }
      ]
    },
    {
      "cell_type": "markdown",
      "source": [
        "Наследование от встроенных классов\n",
        "\n",
        "---\n",
        "\n",
        "\n",
        "\n",
        "Большинство встроенных классов (*built-in classes*) реализованы на языке С. Их методы не могут вызывать методы переопределённые в потомках\n"
      ],
      "metadata": {
        "id": "BBfp8qHlnrSa"
      }
    },
    {
      "cell_type": "code",
      "source": [
        "class Mydict(dict):\n",
        "  def __setitem__(self, key, value): \n",
        "    super().__setitem__ (key,[value]*2)\n",
        "\n",
        "a = Mydict(key1=1) # {'key1':1}\n",
        "a['key2'] = 2 # {'key1 ':1. 'key2 ':[2.2]}\n",
        "\n",
        "#insert new key via update()\n",
        "a.update(key3=3)\n",
        "# {'key1 ':1, 'key2 ':[2.2], 'key3':3}\n",
        "# update() use built-in implementation of __setitem__"
      ],
      "metadata": {
        "id": "qnrsDfAYnMMG"
      },
      "execution_count": 14,
      "outputs": []
    },
    {
      "cell_type": "markdown",
      "source": [
        "# Абстрактные классы \n",
        "\n",
        "---\n",
        "\n",
        "Абстрактные классы (*abstract classes*) - классы, которые не предполагают создания экземпляров.\n",
        "\n",
        "В базовом Python абстрактные классы отсутствуют, при обращении к чисто виртуальным методам (*pure virtual*) рекомендуется выбрасывать исключение"
      ],
      "metadata": {
        "id": "dSOPLc4RolNI"
      }
    },
    {
      "cell_type": "code",
      "source": [
        "class Base(object):\n",
        "  def virtrualMethod(self):\n",
        "    raise NotImplementedError()\n",
        "  def usesVirtualMethod(self):\n",
        "    return self.virtrualMethod() + 1\n",
        "\n",
        "class Derived(Base):\n",
        "  def virtrualMethod(self):\n",
        "    return 1 \n",
        "\n",
        "Base().usesVirtualMethod\n",
        "Derived().usesVirtualMethod()"
      ],
      "metadata": {
        "colab": {
          "base_uri": "https://localhost:8080/"
        },
        "id": "nhbYNd4_o0UH",
        "outputId": "2b46e100-8100-48f1-b017-381f65b72204"
      },
      "execution_count": 20,
      "outputs": [
        {
          "output_type": "execute_result",
          "data": {
            "text/plain": [
              "2"
            ]
          },
          "metadata": {},
          "execution_count": 20
        }
      ]
    },
    {
      "cell_type": "markdown",
      "source": [
        "# Декоратор *@abstractmethod*\n",
        "\n",
        "---\n",
        "\n",
        "\n",
        "\n",
        "Для объявления абстрактных классов может быть использована библиотека АВС (*Abstract Base Class*)"
      ],
      "metadata": {
        "id": "uhnXCIvWp9wh"
      }
    },
    {
      "cell_type": "code",
      "source": [
        "from abc import ABC, abstractmethod\n",
        "class MyAbstract (ABC):\n",
        "  @abstractmethod\n",
        "  def foo (self):\n",
        "    pass\n",
        "\n",
        "class MyClass (MyAbstract):\n",
        "  def foo(self):\n",
        "    print('Hello, world!')\n",
        "\n",
        "#a = MyAbstract () # error: class is abstract\n",
        "a = MyClass() # ok"
      ],
      "metadata": {
        "id": "Eutk4s8yp97I"
      },
      "execution_count": 21,
      "outputs": []
    },
    {
      "cell_type": "markdown",
      "source": [
        "# Множественное наследование\n",
        "\n",
        "---\n",
        "\n",
        "При множественном наследовании (multiple inheritance) класс-потомок наследуется более чем от одного родительского класса."
      ],
      "metadata": {
        "id": "Ke5yhl_EqprU"
      }
    },
    {
      "cell_type": "code",
      "source": [
        "class A:\n",
        "  def m(self):\n",
        "    print(\"In A\")\n",
        "class B(A):\n",
        "  def m(self):\n",
        "    print(\"In B\")\n",
        "class C(A):\n",
        "  def m(self):\n",
        "    print(\"In C\")\n",
        "class D(B, C):\n",
        "  pass\n",
        "\n",
        "d = D()\n",
        "d.m() # In B (why?)"
      ],
      "metadata": {
        "colab": {
          "base_uri": "https://localhost:8080/"
        },
        "id": "AktwIlv0qp2a",
        "outputId": "9579d4b8-7fe9-4ad1-cbe7-bdc532ec1c54"
      },
      "execution_count": 11,
      "outputs": [
        {
          "output_type": "stream",
          "name": "stdout",
          "text": [
            "In B\n"
          ]
        }
      ]
    },
    {
      "cell_type": "markdown",
      "source": [
        "# Полиморфизм\n",
        "\n",
        "---\n",
        "  • Полиморфизм в объектно-ориентированном программировании- это возможность обработки разных типов данных, т. е. принадлежащих к разным классам, с помощью \"одно и той же\" функции, или метода.\n",
        "\n",
        "  • На самом деле одинаковым является только имя метода, его исходный код зависит от класса. Кроме того, результаты работы одноименных методов могут существенно различаться. Поэтому в данном контексте под полиморфизмом понимается множество форм одного и того же слова имени метода.\n",
        "\n",
        "  • Например, два разных класса содержат метод total, однако инструкции каждого предусматривают совершенно разные операции. Так в классе T1- это прибавление 10 к аргументу, в Т2 подсчет длины строки символов. В зависимости от того, к объекту какого класса применяется метод total, выполняются те или иные инструкции.\n"
      ],
      "metadata": {
        "id": "WPAXcjOzrKEp"
      }
    },
    {
      "cell_type": "code",
      "source": [
        "class T1:\n",
        "  n=10\n",
        "  def total(self,N):\n",
        "    self.total = int(self.n)+int(N)\n",
        "\n",
        "class T2:\n",
        "  def total(self,s):\n",
        "    self.total=len(str(s))\n",
        "\n",
        "t1=T1()\n",
        "t2=T2()\n",
        "t1.total(45)\n",
        "t2.total(45)\n",
        "print(t1.total)\n",
        "print(t2.total)"
      ],
      "metadata": {
        "colab": {
          "base_uri": "https://localhost:8080/"
        },
        "id": "hLvJ0JmrrKUQ",
        "outputId": "42229033-3f72-41d6-ad60-c0ee7feec628"
      },
      "execution_count": 24,
      "outputs": [
        {
          "output_type": "stream",
          "name": "stdout",
          "text": [
            "55\n",
            "2\n"
          ]
        }
      ]
    },
    {
      "cell_type": "markdown",
      "source": [
        "# Практическая Работа 4-3\n",
        "\n",
        "---\n",
        "\n",
        "В качестве практической работы попробуйте самостоятельно перегрузить оператор сложения."
      ],
      "metadata": {
        "id": "G2nA8P3NtKBA"
      }
    },
    {
      "cell_type": "code",
      "source": [
        "class Rectangle:\n",
        "  def __init__(self,width,height,sign):\n",
        "    self.w = int(width)\n",
        "    self.h = int(height)\n",
        "    self.s = str(sign)\n",
        "  def __str__(self):\n",
        "    rect =[]\n",
        "    for i in range(self.h):\n",
        "      rect.append(self.s * self.w)\n",
        "    rect = \"\\n\".join(rect)\n",
        "    return rect\n",
        "\n",
        "  def __add__(self,other):\n",
        "    return Rectangle(self.w + other.w,self.h+ other.h,self.s)\n",
        "\n",
        "a=Rectangle(4,2,\"w\")\n",
        "print(a)\n",
        "b=Rectangle(8,3,\"z\")\n",
        "print(b)\n",
        "print(a+b)\n",
        "print(b+a)"
      ],
      "metadata": {
        "colab": {
          "base_uri": "https://localhost:8080/"
        },
        "id": "u5qhefnxtKRd",
        "outputId": "57cb190f-0bc6-41a8-9fc6-531eb8ceb64e"
      },
      "execution_count": 25,
      "outputs": [
        {
          "output_type": "stream",
          "name": "stdout",
          "text": [
            "wwww\n",
            "wwww\n",
            "zzzzzzzz\n",
            "zzzzzzzz\n",
            "zzzzzzzz\n",
            "wwwwwwwwwwww\n",
            "wwwwwwwwwwww\n",
            "wwwwwwwwwwww\n",
            "wwwwwwwwwwww\n",
            "wwwwwwwwwwww\n",
            "zzzzzzzzzzzz\n",
            "zzzzzzzzzzzz\n",
            "zzzzzzzzzzzz\n",
            "zzzzzzzzzzzz\n",
            "zzzzzzzzzzzz\n"
          ]
        }
      ]
    },
    {
      "cell_type": "markdown",
      "source": [
        "# Композиция\n",
        "\n",
        "---\n",
        "\n"
      ],
      "metadata": {
        "id": "tAk_5dYKurnV"
      }
    }
  ]
}