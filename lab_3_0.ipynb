{
  "nbformat": 4,
  "nbformat_minor": 0,
  "metadata": {
    "colab": {
      "provenance": [],
      "authorship_tag": "ABX9TyMCJlM3IpO0GbSrC50awIwM",
      "include_colab_link": true
    },
    "kernelspec": {
      "name": "python3",
      "display_name": "Python 3"
    },
    "language_info": {
      "name": "python"
    }
  },
  "cells": [
    {
      "cell_type": "markdown",
      "metadata": {
        "id": "view-in-github",
        "colab_type": "text"
      },
      "source": [
        "<a href=\"https://colab.research.google.com/github/dyx4liss/Labs/blob/main/lab_3_0.ipynb\" target=\"_parent\"><img src=\"https://colab.research.google.com/assets/colab-badge.svg\" alt=\"Open In Colab\"/></a>"
      ]
    },
    {
      "cell_type": "code",
      "source": [
        "class Date:\n",
        "    def __init__(self, year, month, day):\n",
        "        self._year = year\n",
        "        self._month = month\n",
        "        self._day = day\n",
        "\n",
        "    def set_date(self, year, month, day):\n",
        "        if not self._is_valid_date(year, month, day):\n",
        "            raise ValueError(\"Invalid date\")\n",
        "        self._year = year\n",
        "        self._month = month\n",
        "        self._day = day\n",
        "\n",
        "    def _is_valid_date(self, year, month, day):\n",
        "        if year < 1 or year > 9999:\n",
        "            return False\n",
        "        if month < 1 or month > 12:\n",
        "            return False\n",
        "        if day < 1 or day > self._days_in_month(year, month):\n",
        "            return False\n",
        "        return True\n",
        "\n",
        "    def _days_in_month(self, year, month):\n",
        "        if month == 2:\n",
        "            if year % 4 == 0 and (year % 100 != 0 or year % 400 == 0):\n",
        "                return 29\n",
        "            else:\n",
        "                return 28\n",
        "        elif month in [4, 6, 9, 11]:\n",
        "            return 30\n",
        "        else:\n",
        "            return 31\n",
        "\n",
        "    def add_days(self, days):\n",
        "        new_day = self._day + days\n",
        "        while new_day > self._days_in_month(self._year, self._month):\n",
        "            new_day -= self._days_in_month(self._year, self._month)\n",
        "            self.add_months(1)\n",
        "        self._day = new_day\n",
        "        if not self._is_valid_date(self._year, self._month, self._day):\n",
        "            raise ValueError(\"Invalid date\")\n",
        "\n",
        "    def add_months(self, months):\n",
        "        new_month = self._month + months\n",
        "        while new_month > 12:\n",
        "            new_month -= 12\n",
        "            self.add_years(1)\n",
        "        while new_month < 1:\n",
        "            new_month += 12\n",
        "            self.add_years(-1)\n",
        "        if self._day > self._days_in_month(self._year, new_month):\n",
        "            self._day = self._days_in_month(self._year, new_month)\n",
        "        self._month = new_month\n",
        "        if not self._is_valid_date(self._year, self._month, self._day):\n",
        "            raise ValueError(\"Invalid date\")\n",
        "\n",
        "    def add_years(self, years):\n",
        "        new_year = self._year + years\n",
        "        if not self._is_valid_date(new_year, self._month, self._day):\n",
        "            raise ValueError(\"Invalid date\")\n",
        "        self._year = new_year\n",
        "\n",
        "    def __str__(self):\n",
        "        return \"{:04d}-{:02d}-{:02d}\".format(self._year, self._month, self._day)\n",
        "\n",
        "\n",
        "# Example usage\n",
        "d = Date(2021, 9, 1)\n",
        "print(d)  # 2021-09-01\n",
        "\n",
        "try:\n",
        "    d.set_date(2022, 2, 29)\n",
        "except ValueError as e:\n",
        "    print(e)  # Invalid date\n",
        "\n",
        "d.set_date(2022, 2, 28)\n",
        "d.add_days(1)\n",
        "print(d)  # 2022-03-01\n",
        "\n",
        "d.set_date(2022, 12, 31)\n",
        "d.add_months(1)\n",
        "print(d)  # 2023-01-31\n",
        "\n",
        "d.add_years(1)\n",
        "print(d)  # 2024-01-31."
      ],
      "metadata": {
        "colab": {
          "base_uri": "https://localhost:8080/"
        },
        "id": "ffy-jNCcdi6o",
        "outputId": "fe70ce82-b8c8-4801-977e-ce6aa3916d2b"
      },
      "execution_count": 1,
      "outputs": [
        {
          "output_type": "stream",
          "name": "stdout",
          "text": [
            "2021-09-01\n",
            "Invalid date\n",
            "2022-03-01\n",
            "2023-01-31\n",
            "2024-01-31\n"
          ]
        }
      ]
    }
  ]
}