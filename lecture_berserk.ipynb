{
  "nbformat": 4,
  "nbformat_minor": 0,
  "metadata": {
    "colab": {
      "provenance": [],
      "authorship_tag": "ABX9TyNcuN4waaSk29oepbdlPJXM",
      "include_colab_link": true
    },
    "kernelspec": {
      "name": "python3",
      "display_name": "Python 3"
    },
    "language_info": {
      "name": "python"
    }
  },
  "cells": [
    {
      "cell_type": "markdown",
      "metadata": {
        "id": "view-in-github",
        "colab_type": "text"
      },
      "source": [
        "<a href=\"https://colab.research.google.com/github/dyx4liss/Labs/blob/main/lecture_berserk.ipynb\" target=\"_parent\"><img src=\"https://colab.research.google.com/assets/colab-badge.svg\" alt=\"Open In Colab\"/></a>"
      ]
    },
    {
      "cell_type": "markdown",
      "source": [
        "# Декоратор \n",
        "\n",
        "---\n",
        "Функции в Python являются объектами, а значит:\n",
        "\n",
        "- могут быть связаны с переменной;\n",
        "\n",
        "- могут быть определены одна внутри другой.\n"
      ],
      "metadata": {
        "id": "sGLiQ-a3ulQN"
      }
    },
    {
      "cell_type": "code",
      "execution_count": 5,
      "metadata": {
        "colab": {
          "base_uri": "https://localhost:8080/"
        },
        "id": "JEgL5VVgs3ht",
        "outputId": "d6a05ff2-c049-4fd9-efcb-0fe4f9631606"
      },
      "outputs": [
        {
          "output_type": "stream",
          "name": "stdout",
          "text": [
            "Мне 26, а ты бы сколько дал?\n"
          ]
        }
      ],
      "source": [
        "def method_friendly_decorator (method_to_decorate):\n",
        "  def wrapper (self, lie):\n",
        "    lie = lie - 3 # действительно, дружелюбно\n",
        "    return method_to_decorate(self, lie)  \n",
        "  return wrapper\n",
        "class Lucy(object):\n",
        "  def __init__ (self):\n",
        "    self.age= 32\n",
        "  @method_friendly_decorator\n",
        "  def say_your_age(self, lie):\n",
        "    print(\"Мне %s, а ты бы сколько дал?\" % (self.age + lie))\n",
        "\n",
        "l = Lucy ()\n",
        "l.say_your_age (-3)\n",
        "# выведет: Мне 26, а ты бы сколько дал?"
      ]
    },
    {
      "cell_type": "markdown",
      "source": [
        "Если создавать общий декоратор, чтобы его можно было применить к любой функции \n",
        "или методу, то стоит воспользоваться тем, что:\n",
        "\n",
        "---\n",
        "\n",
        "- *args распаковывает список args,\n",
        "\n",
        "- **kwargs распаковывает словарь kwargs."
      ],
      "metadata": {
        "id": "wBAkqIpj1TQY"
      }
    },
    {
      "cell_type": "markdown",
      "source": [
        "**Рекомендации для работы с декораторами:**\n",
        "\n",
        "---\n",
        "\n",
        "\n",
        "\n",
        "- Декораторы несколько замедляют вызов функции.\n",
        "- Вы не можете «раздекорировать» функцию, если функция\n",
        "декорирована - это не отменить.\n",
        "- Декораторы оборачивают функции, что может затруднить отладку. Декораторы могут быть использованы для расширения возможностей функций из сторонних библиотек (код которых не можем изменять). или для упрощения отладки (не хотим изменять код, который ещё не устоялся).\n",
        "- Так же полезно использовать декораторы для расширения различных функций одним и тем же кодом, без повторного его переписывания каждый раз."
      ],
      "metadata": {
        "id": "4TKsL9CH1vkm"
      }
    },
    {
      "cell_type": "markdown",
      "source": [
        "**Согласно модели данных Python, язык предлагает три вида методов:**\n",
        "\n",
        "---\n",
        "\n",
        "\n",
        "\n",
        "- Методы экземпляра класса\n",
        "\n",
        "- Методы класса\n",
        "\n",
        "- Статические методы"
      ],
      "metadata": {
        "id": "B5W9Z6AD2IyG"
      }
    },
    {
      "cell_type": "markdown",
      "source": [
        "**Методы экземпляра класса**\n",
        "\n",
        "---\n",
        "\n",
        "\n",
        "\n",
        "- Методы экземпляра класса принимают объект класса как первый аргумент, который принято называть self и который указывает на сам экземпляр. Количество параметров метода не ограничено.\n",
        "\n",
        "- Используя параметр self, мы можем менять состояние объекта и обращаться к другим его методам и параметрам. К тому же, используя атрибут self.class мы получаем доступ к атрибутам класса и возможности менять состояние самого класса. То есть методы экземпляров класса позволяют менять как состояние определённого объекта, так и класса.\n",
        "\n",
        "- Методы экземпляра класса принимают объект класса как первый аргумент, который принято называть self и который указывает на сам экземпляр. Количество параметров метода не ограничено.\n",
        "\n",
        "- Используя параметр self, мы можем менять состояние объекта и обращаться к другим его методам и параметрам. К тому же, используя атрибут self.class мы получаем доступ к атрибутам класса и возможности менять состояние самого класса. То есть методы экземпляров класса позволяют менять как состояние определённого объекта, так и класса."
      ],
      "metadata": {
        "id": "HznurpL22XiG"
      }
    },
    {
      "cell_type": "code",
      "source": [
        "class ToyClass:\n",
        "  def instancemthod (self):\n",
        "    return 'instance method called', self\n",
        "\n",
        "  @classmethod\n",
        "  def classmethod(cls):\n",
        "    return 'class method called', cls\n",
        "  @staticmethod\n",
        "  def staticmethod():\n",
        "    return 'static method called'"
      ],
      "metadata": {
        "id": "7qJ2fYGZ1hx2"
      },
      "execution_count": 6,
      "outputs": []
    },
    {
      "cell_type": "markdown",
      "source": [
        "**Статические методы**\n",
        "\n",
        "---\n",
        "\n",
        "\n",
        "\n",
        "Статические методы декларируются при помощи декоратора staticmethod. \n",
        "Им не нужен определённый первый аргумент (ни self, ни cls).\n",
        "\n",
        "- Их можно воспринимать как методы, которые не знают, к какому классу относятся\". Таким образом, статические методы прикреплены к классу лишь для удобства и не могут менять состояние ни класса, ни его экземпляра."
      ],
      "metadata": {
        "id": "v6aFC7B53SKy"
      }
    },
    {
      "cell_type": "code",
      "source": [
        "from datetime import date \n",
        "\n",
        "class person:\n",
        "  def __init__(self, name, age):\n",
        "    self.name = name\n",
        "    self.age = age \n",
        "\n",
        "  @classmethod \n",
        "  def from_birth_year () \n",
        "    return cls(name, date.today().year - year)\n",
        "\n",
        "  @staticmethod\n",
        "  def is_adult(age)\n",
        "  return age >"
      ],
      "metadata": {
        "id": "jhnCuqps5Y8k"
      },
      "execution_count": null,
      "outputs": []
    },
    {
      "cell_type": "code",
      "source": [
        "from math import pi\n",
        "class Cylinder: \n",
        "  @staticmethod\n",
        "  def make_area(d, h):\n",
        "    circle = pi* d ** 2 / 4\n",
        "    side = pi* d* h\n",
        "    return round(circle*2+ side, 2)\n",
        "  def __init__(self, diameter, high):\n",
        "    self.dia = diameter\n",
        "    self.h = high\n",
        "    self.area = self.make_area (diameter, high)\n",
        "\n",
        "a = Cylinder (1, 2)\n",
        "print(a.area)\n",
        "print(a.make_area(2, 2))"
      ],
      "metadata": {
        "colab": {
          "base_uri": "https://localhost:8080/"
        },
        "id": "bk4ggxLE6i2_",
        "outputId": "9f45b316-6e9c-4554-a848-7c867088c6a2"
      },
      "execution_count": 7,
      "outputs": [
        {
          "output_type": "stream",
          "name": "stdout",
          "text": [
            "7.85\n",
            "18.85\n"
          ]
        }
      ]
    },
    {
      "cell_type": "code",
      "source": [
        "from math import pi\n",
        "class Cylinder:\n",
        "    @staticmethod\n",
        "    def make_area(d, h): circle = pid 2/4\n",
        "    side = pidh\n",
        "return round (circle 2 side, 2) def _init_(self, diameter, high):\n",
        "self._dict['dia'] = diameter\n",
        "self._dict ['h'] = high\n",
        "self._dict ['area'] self.make_area(diameter, high) def _setattr_(self, key, value):\n",
        "if key == 'dia':\n",
        "self._dict['dia'] = value\n",
        "self._dict_ ['area'] = self.make_area(self._dict['dia'],\n",
        "self._dict['h'])\n",
        "elif key 'h':\n",
        "self._dict['h'] = value\n",
        "self._dict ['area'] self.make_area(self._dict_['dia'],\n",
        "self._dict['h'])\n",
        "elif key 'area':\n",
        "print('Нельзя изменять площадь напрямую!)"
      ],
      "metadata": {
        "colab": {
          "base_uri": "https://localhost:8080/",
          "height": 134
        },
        "id": "eMPxlfDv7Gog",
        "outputId": "49ab55ea-e9c8-4291-c293-3182e8438fc9"
      },
      "execution_count": 10,
      "outputs": [
        {
          "output_type": "error",
          "ename": "SyntaxError",
          "evalue": "ignored",
          "traceback": [
            "\u001b[0;36m  File \u001b[0;32m\"<ipython-input-10-f279ae155e04>\"\u001b[0;36m, line \u001b[0;32m4\u001b[0m\n\u001b[0;31m    def make_area(d, h): circle = pid 2/4\u001b[0m\n\u001b[0m                                      ^\u001b[0m\n\u001b[0;31mSyntaxError\u001b[0m\u001b[0;31m:\u001b[0m invalid syntax\n"
          ]
        }
      ]
    },
    {
      "cell_type": "code",
      "source": [
        "from abc import ABC, abstractmethod\n",
        "class Hero:\n",
        "    def __init__(self):\n",
        "        self.positive_effects = []\n",
        "        self.negative_effects = []\n",
        "        self.stats = {\n",
        "            \"HP\": 128,\n",
        "            \"MP\": 42,\n",
        "            \"SP\": 100,\n",
        "            \"Strength\": 15,\n",
        "            \"Perception\": 4,\n",
        "            \"Endurance\": 8,\n",
        "            \"Charisma\": 2,\n",
        "            \"Intelligence\": 3,\n",
        "            \"Agility\": 8,\n",
        "            \"Luck\": 1\n",
        "        }\n",
        " \n",
        "    def get_positive_effects(self):\n",
        "        return self.positive_effects.copy()\n",
        " \n",
        "    def get_negative_effects(self):\n",
        "        return self.negative_effects.copy()\n",
        " \n",
        "    def get_stats(self):\n",
        "        return self.stats.copy()\n",
        "     \n",
        "\n",
        "class AbstractEffect(Hero, ABC):\n",
        "    def __init__(self, base):\n",
        "        self.base = base\n",
        "\n",
        "    @abstractmethod\n",
        "    def get_positive_effects(self):\n",
        "        return self.positive_effects\n",
        "\n",
        "    @abstractmethod\n",
        "    def get_negative_effects(self):\n",
        "        return self.negative_effects\n",
        "\n",
        "    @abstractmethod\n",
        "    def get_stats(self):\n",
        "        pass\n",
        "\n",
        "\n",
        "class AbstractPositive(AbstractEffect):\n",
        "    def get_negative_effects(self):\n",
        "        return self.base.get_negative_effects()\n",
        "\n",
        "\n",
        "class AbstractNegative(AbstractEffect):\n",
        "    def get_positive_effects(self):\n",
        "        return self.base.get_positive_effects()\n",
        "\n",
        "\n",
        "class Berserk(AbstractPositive):\n",
        "    def get_stats(self):\n",
        "        stats = self.base.get_stats()\n",
        "        stats[\"HP\"] += 50\n",
        "        stats[\"Strength\"] += 7\n",
        "        stats[\"Endurance\"] += 7\n",
        "        stats[\"Agility\"] += 7\n",
        "        stats[\"Luck\"] += 7\n",
        "        stats[\"Perception\"] -= 3\n",
        "        stats[\"Charisma\"] -= 3\n",
        "        stats[\"Intelligence\"] -= 3\n",
        "        return stats\n",
        "\n",
        "    def get_positive_effects(self):\n",
        "        return self.base.get_positive_effects() + [\"Berserk\"]\n",
        "\n",
        "\n"
      ],
      "metadata": {
        "id": "Q4vlkRM87tCB"
      },
      "execution_count": 8,
      "outputs": []
    },
    {
      "cell_type": "code",
      "source": [],
      "metadata": {
        "id": "gc3lg7sG-jDD"
      },
      "execution_count": null,
      "outputs": []
    }
  ]
}