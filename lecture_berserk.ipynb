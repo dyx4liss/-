{
  "nbformat": 4,
  "nbformat_minor": 0,
  "metadata": {
    "colab": {
      "provenance": [],
      "authorship_tag": "ABX9TyMCcbTqtrIbyx4HUMYdzULs",
      "include_colab_link": true
    },
    "kernelspec": {
      "name": "python3",
      "display_name": "Python 3"
    },
    "language_info": {
      "name": "python"
    }
  },
  "cells": [
    {
      "cell_type": "markdown",
      "metadata": {
        "id": "view-in-github",
        "colab_type": "text"
      },
      "source": [
        "<a href=\"https://colab.research.google.com/github/dyx4liss/Labs/blob/main/lecture_berserk.ipynb\" target=\"_parent\"><img src=\"https://colab.research.google.com/assets/colab-badge.svg\" alt=\"Open In Colab\"/></a>"
      ]
    },
    {
      "cell_type": "markdown",
      "source": [
        "# Декоратор \n",
        "\n",
        "---\n",
        "Функции в Python являются объектами, а значит:\n",
        "\n",
        "- могут быть связаны с переменной;\n",
        "\n",
        "- могут быть определены одна внутри другой.\n"
      ],
      "metadata": {
        "id": "sGLiQ-a3ulQN"
      }
    },
    {
      "cell_type": "code",
      "execution_count": 1,
      "metadata": {
        "colab": {
          "base_uri": "https://localhost:8080/"
        },
        "id": "JEgL5VVgs3ht",
        "outputId": "435177ca-dd14-49b3-da7a-cb808114c59c"
      },
      "outputs": [
        {
          "output_type": "stream",
          "name": "stdout",
          "text": [
            "Мне 26, а ты бы сколько дал?\n"
          ]
        }
      ],
      "source": [
        "def method_friendly_decorator (method_to_decorate):\n",
        "  def wrapper (self, lie):\n",
        "    lie = lie - 3 # действительно, дружелюбно\n",
        "    return method_to_decorate(self, lie)  \n",
        "  return wrapper\n",
        "class Lucy(object):\n",
        "  def __init__ (self):\n",
        "    self.age= 32\n",
        "  @method_friendly_decorator\n",
        "  def say_your_age(self, lie):\n",
        "    print(\"Мне %s, а ты бы сколько дал?\" % (self.age + lie))\n",
        "\n",
        "l = Lucy ()\n",
        "l.say_your_age (-3)\n",
        "# выведет: Мне 26, а ты бы сколько дал?"
      ]
    },
    {
      "cell_type": "markdown",
      "source": [
        "Если создавать общий декоратор, чтобы его можно было применить к любой функции \n",
        "или методу, то стоит воспользоваться тем, что:\n",
        "\n",
        "---\n",
        "\n",
        "- *args распаковывает список args,\n",
        "\n",
        "- **kwargs распаковывает словарь kwargs."
      ],
      "metadata": {
        "id": "wBAkqIpj1TQY"
      }
    },
    {
      "cell_type": "markdown",
      "source": [
        "**Рекомендации для работы с декораторами:**\n",
        "\n",
        "---\n",
        "\n",
        "\n",
        "\n",
        "- Декораторы несколько замедляют вызов функции.\n",
        "- Вы не можете «раздекорировать» функцию, если функция\n",
        "декорирована - это не отменить.\n",
        "- Декораторы оборачивают функции, что может затруднить отладку. Декораторы могут быть использованы для расширения возможностей функций из сторонних библиотек (код которых не можем изменять). или для упрощения отладки (не хотим изменять код, который ещё не устоялся).\n",
        "- Так же полезно использовать декораторы для расширения различных функций одним и тем же кодом, без повторного его переписывания каждый раз."
      ],
      "metadata": {
        "id": "4TKsL9CH1vkm"
      }
    },
    {
      "cell_type": "markdown",
      "source": [
        "**Согласно модели данных Python, язык предлагает три вида методов:**\n",
        "\n",
        "---\n",
        "\n",
        "\n",
        "\n",
        "- Методы экземпляра класса\n",
        "\n",
        "- Методы класса\n",
        "\n",
        "- Статические методы"
      ],
      "metadata": {
        "id": "B5W9Z6AD2IyG"
      }
    },
    {
      "cell_type": "markdown",
      "source": [
        "**Методы экземпляра класса**\n",
        "\n",
        "---\n",
        "\n",
        "\n",
        "\n",
        "- Методы экземпляра класса принимают объект класса как первый аргумент, который принято называть self и который указывает на сам экземпляр. Количество параметров метода не ограничено.\n",
        "\n",
        "- Используя параметр self, мы можем менять состояние объекта и обращаться к другим его методам и параметрам. К тому же, используя атрибут self.class мы получаем доступ к атрибутам класса и возможности менять состояние самого класса. То есть методы экземпляров класса позволяют менять как состояние определённого объекта, так и класса.\n",
        "\n",
        "- Методы экземпляра класса принимают объект класса как первый аргумент, который принято называть self и который указывает на сам экземпляр. Количество параметров метода не ограничено.\n",
        "\n",
        "- Используя параметр self, мы можем менять состояние объекта и обращаться к другим его методам и параметрам. К тому же, используя атрибут self.class мы получаем доступ к атрибутам класса и возможности менять состояние самого класса. То есть методы экземпляров класса позволяют менять как состояние определённого объекта, так и класса."
      ],
      "metadata": {
        "id": "HznurpL22XiG"
      }
    },
    {
      "cell_type": "code",
      "source": [
        "class ToyClass:\n",
        "  def instancemthod (self):\n",
        "    return 'instance method called', self\n",
        "\n",
        "  @classmethod\n",
        "  def classmethod(cls):\n",
        "    return 'class method called', cls\n",
        "  @staticmethod\n",
        "  def staticmethod():\n",
        "    return 'static method called'"
      ],
      "metadata": {
        "id": "7qJ2fYGZ1hx2"
      },
      "execution_count": 2,
      "outputs": []
    },
    {
      "cell_type": "markdown",
      "source": [
        "**Статические методы**\n",
        "\n",
        "---\n",
        "\n",
        "\n",
        "\n",
        "Статические методы декларируются при помощи декоратора staticmethod. \n",
        "Им не нужен определённый первый аргумент (ни self, ни cls).\n",
        "\n",
        "- Их можно воспринимать как методы, которые не знают, к какому классу относятся\". Таким образом, статические методы прикреплены к классу лишь для удобства и не могут менять состояние ни класса, ни его экземпляра."
      ],
      "metadata": {
        "id": "v6aFC7B53SKy"
      }
    },
    {
      "cell_type": "code",
      "source": [
        "from datetime import date \n",
        "\n",
        "class person:\n",
        "  def __init__(self, name, age):\n",
        "    self.name = name\n",
        "    self.age = age \n",
        "\n",
        "  @classmethod \n",
        "  def from_birth_year () \n",
        "    return cls(name, date.today().year - year)\n",
        "\n",
        "  @staticmethod\n",
        "  def is_adult(age)\n",
        "  return age >"
      ],
      "metadata": {
        "id": "jhnCuqps5Y8k",
        "outputId": "585f8e5c-2f4f-46b6-f6e1-1b7deb741f8b",
        "colab": {
          "base_uri": "https://localhost:8080/",
          "height": 134
        }
      },
      "execution_count": 3,
      "outputs": [
        {
          "output_type": "error",
          "ename": "SyntaxError",
          "evalue": "ignored",
          "traceback": [
            "\u001b[0;36m  File \u001b[0;32m\"<ipython-input-3-a63c69a840c7>\"\u001b[0;36m, line \u001b[0;32m9\u001b[0m\n\u001b[0;31m    def from_birth_year ()\u001b[0m\n\u001b[0m                           ^\u001b[0m\n\u001b[0;31mSyntaxError\u001b[0m\u001b[0;31m:\u001b[0m expected ':'\n"
          ]
        }
      ]
    },
    {
      "cell_type": "code",
      "source": [
        "from math import pi\n",
        "class Cylinder: \n",
        "  @staticmethod\n",
        "  def make_area(d, h):\n",
        "    circle = pi* d ** 2 / 4\n",
        "    side = pi* d* h\n",
        "    return round(circle*2+ side, 2)\n",
        "  def __init__(self, diameter, high):\n",
        "    self.dia = diameter\n",
        "    self.h = high\n",
        "    self.area = self.make_area (diameter, high)\n",
        "\n",
        "a = Cylinder (1, 2)\n",
        "print(a.area)\n",
        "print(a.make_area(2, 2))"
      ],
      "metadata": {
        "colab": {
          "base_uri": "https://localhost:8080/"
        },
        "id": "bk4ggxLE6i2_",
        "outputId": "9f45b316-6e9c-4554-a848-7c867088c6a2"
      },
      "execution_count": null,
      "outputs": [
        {
          "output_type": "stream",
          "name": "stdout",
          "text": [
            "7.85\n",
            "18.85\n"
          ]
        }
      ]
    },
    {
      "cell_type": "code",
      "source": [
        "from math import pi\n",
        "class Cylinder:\n",
        "    @staticmethod\n",
        "    def make_area(d, h): circle = pid 2/4\n",
        "    side = pidh\n",
        "return round (circle 2 side, 2) def _init_(self, diameter, high):\n",
        "self._dict['dia'] = diameter\n",
        "self._dict ['h'] = high\n",
        "self._dict ['area'] self.make_area(diameter, high) def _setattr_(self, key, value):\n",
        "if key == 'dia':\n",
        "self._dict['dia'] = value\n",
        "self._dict_ ['area'] = self.make_area(self._dict['dia'],\n",
        "self._dict['h'])\n",
        "elif key 'h':\n",
        "self._dict['h'] = value\n",
        "self._dict ['area'] self.make_area(self._dict_['dia'],\n",
        "self._dict['h'])\n",
        "elif key 'area':\n",
        "print('Нельзя изменять площадь напрямую!)"
      ],
      "metadata": {
        "colab": {
          "base_uri": "https://localhost:8080/",
          "height": 134
        },
        "id": "eMPxlfDv7Gog",
        "outputId": "52f0acb9-5860-4d1a-87b9-c1e497eb41b5"
      },
      "execution_count": 13,
      "outputs": [
        {
          "output_type": "error",
          "ename": "SyntaxError",
          "evalue": "ignored",
          "traceback": [
            "\u001b[0;36m  File \u001b[0;32m\"<ipython-input-13-f279ae155e04>\"\u001b[0;36m, line \u001b[0;32m19\u001b[0m\n\u001b[0;31m    print('Нельзя изменять площадь напрямую!)\u001b[0m\n\u001b[0m          ^\u001b[0m\n\u001b[0;31mSyntaxError\u001b[0m\u001b[0;31m:\u001b[0m unterminated string literal (detected at line 19)\n"
          ]
        }
      ]
    },
    {
      "cell_type": "code",
      "source": [
        "from abc import ABC, abstractmethod\n",
        "class Hero:\n",
        "    def __init__(self):\n",
        "        self.positive_effects = []\n",
        "        self.negative_effects = []\n",
        "        self.stats = {\n",
        "            \"HP\": 128,\n",
        "            \"MP\": 42,\n",
        "            \"SP\": 100,\n",
        "            \"Strength\": 15,\n",
        "            \"Perception\": 4,\n",
        "            \"Endurance\": 8,\n",
        "            \"Charisma\": 2,\n",
        "            \"Intelligence\": 3,\n",
        "            \"Agility\": 8,\n",
        "            \"Luck\": 1\n",
        "        }\n",
        " \n",
        "    def get_positive_effects(self):\n",
        "        return self.positive_effects.copy()\n",
        " \n",
        "    def get_negative_effects(self):\n",
        "        return self.negative_effects.copy()\n",
        " \n",
        "    def get_stats(self):\n",
        "        return self.stats.copy()"
      ],
      "metadata": {
        "id": "xV5RSO3PLLgE"
      },
      "execution_count": 7,
      "outputs": []
    },
    {
      "cell_type": "code",
      "source": [
        "class AbstractEffect(Hero, ABC):\n",
        "    def __init__(self, base):\n",
        "        self.base = base\n",
        "\n",
        "    @abstractmethod\n",
        "    def get_positive_effects(self):\n",
        "        return self.positive_effects\n",
        "\n",
        "    @abstractmethod\n",
        "    def get_negative_effects(self):\n",
        "        return self.negative_effects\n",
        "\n",
        "    @abstractmethod\n",
        "    def get_stats(self):\n",
        "        pass\n",
        "\n",
        "\n",
        "class AbstractPositive(AbstractEffect):\n",
        "    def get_negative_effects(self):\n",
        "        return self.base.get_negative_effects()\n",
        "\n",
        "\n",
        "class AbstractNegative(AbstractEffect):\n",
        "    def get_positive_effects(self):\n",
        "        return self.base.get_positive_effects()\n",
        "\n",
        "\n",
        "class Berserk(AbstractPositive):\n",
        "    def get_stats(self):\n",
        "        stats = self.base.get_stats()\n",
        "        stats[\"HP\"] += 50\n",
        "        stats[\"Strength\"] += 7\n",
        "        stats[\"Endurance\"] += 7\n",
        "        stats[\"Agility\"] += 7\n",
        "        stats[\"Luck\"] += 7\n",
        "        stats[\"Perception\"] -= 3\n",
        "        stats[\"Charisma\"] -= 3\n",
        "        stats[\"Intelligence\"] -= 3\n",
        "        return stats\n",
        "\n",
        "    def get_positive_effects(self):\n",
        "        return self.base.get_positive_effects() + [\"Berserk\"]\n",
        "\n",
        "\n",
        "class Blessing(AbstractPositive):\n",
        "    def get_stats(self):\n",
        "        stats = self.base.get_stats()\n",
        "        stats[\"Strength\"] += 2\n",
        "        stats[\"Endurance\"] += 2\n",
        "        stats[\"Agility\"] += 2\n",
        "        stats[\"Luck\"] += 2\n",
        "        stats[\"Perception\"] += 2\n",
        "        stats[\"Charisma\"] += 2\n",
        "        stats[\"Intelligence\"] += 2\n",
        "        return stats\n",
        "\n",
        "    def get_positive_effects(self):\n",
        "        return self.base.get_positive_effects() + [\"Blessing\"]\n",
        "\n",
        "\n",
        "class Weakness(AbstractNegative):\n",
        "    def get_stats(self):\n",
        "        stats = self.base.get_stats()\n",
        "        stats[\"Strength\"] -= 4\n",
        "        stats[\"Endurance\"] -= 4\n",
        "        stats[\"Agility\"] -= 4\n",
        "        return stats\n",
        "\n",
        "    def get_negative_effects(self):\n",
        "        return self.base.get_negative_effects() + [\"Weakness\"]\n",
        "\n",
        "\n",
        "class Curse(AbstractNegative):\n",
        "    def get_stats(self):\n",
        "        stats = self.base.get_stats()\n",
        "        stats[\"Strength\"] -= 2\n",
        "        stats[\"Endurance\"] -= 2\n",
        "        stats[\"Agility\"] -= 2\n",
        "        stats[\"Luck\"] -= 2\n",
        "        stats[\"Perception\"] -= 2\n",
        "        stats[\"Charisma\"] -= 2\n",
        "        stats[\"Intelligence\"] -= 2\n",
        "        return stats\n",
        "\n",
        "    def get_negative_effects(self):\n",
        "        return self.base.get_negative_effects() + [\"Curse\"]\n",
        "\n",
        "\n",
        "class EvilEye(AbstractNegative):\n",
        "    def get_stats(self):\n",
        "        stats = self.base.get_stats()\n",
        "        stats[\"Luck\"] -= 10\n",
        "        return stats\n",
        "\n",
        "    def get_negative_effects(self):\n",
        "        return self.base.get_negative_effects() + [\"EvilEye\"]"
      ],
      "metadata": {
        "id": "R8r4pnpILXuv"
      },
      "execution_count": 6,
      "outputs": []
    },
    {
      "cell_type": "code",
      "source": [
        "Geralt = Hero()\n",
        "print(Geralt.stats)\n",
        "print(Geralt.get_negative_effects(), '\\n')\n",
        "\n",
        "Ujas = Curse(Geralt)\n",
        "print(Ujas.get_stats())\n",
        "print(Ujas.get_negative_effects(), '\\n')\n",
        "\n",
        "\n",
        "Boost = Berserk(Geralt)\n",
        "print(Boost.get_stats())\n",
        "print(Boost.get_positive_effects(), '\\n')\n",
        " \n",
        "Ujas2 = EvilEye(Geralt)\n",
        "print(Ujas2.get_stats())\n",
        "print(Ujas2.get_negative_effects(), '\\n')\n",
        " \n",
        "Boost2 = Blessing(Geralt)\n",
        "print(Boost2.get_stats())\n",
        "print(Boost2.get_positive_effects(), '\\n')\n",
        " \n",
        "Ujas3 = Weakness(Geralt)\n",
        "print(Ujas3.get_stats())\n",
        "print(Ujas3.get_negative_effects())"
      ],
      "metadata": {
        "id": "Q4vlkRM87tCB",
        "outputId": "6b2a8308-37f8-44fe-faca-0be28de4fbb1",
        "colab": {
          "base_uri": "https://localhost:8080/"
        }
      },
      "execution_count": 8,
      "outputs": [
        {
          "output_type": "stream",
          "name": "stdout",
          "text": [
            "{'HP': 128, 'MP': 42, 'SP': 100, 'Strength': 15, 'Perception': 4, 'Endurance': 8, 'Charisma': 2, 'Intelligence': 3, 'Agility': 8, 'Luck': 1}\n",
            "[] \n",
            "\n",
            "{'HP': 128, 'MP': 42, 'SP': 100, 'Strength': 13, 'Perception': 2, 'Endurance': 6, 'Charisma': 0, 'Intelligence': 1, 'Agility': 6, 'Luck': -1}\n",
            "['Curse'] \n",
            "\n",
            "{'HP': 178, 'MP': 42, 'SP': 100, 'Strength': 22, 'Perception': 1, 'Endurance': 15, 'Charisma': -1, 'Intelligence': 0, 'Agility': 15, 'Luck': 8}\n",
            "['Berserk'] \n",
            "\n",
            "{'HP': 128, 'MP': 42, 'SP': 100, 'Strength': 15, 'Perception': 4, 'Endurance': 8, 'Charisma': 2, 'Intelligence': 3, 'Agility': 8, 'Luck': -9}\n",
            "['EvilEye'] \n",
            "\n",
            "{'HP': 128, 'MP': 42, 'SP': 100, 'Strength': 17, 'Perception': 6, 'Endurance': 10, 'Charisma': 4, 'Intelligence': 5, 'Agility': 10, 'Luck': 3}\n",
            "['Blessing'] \n",
            "\n",
            "{'HP': 128, 'MP': 42, 'SP': 100, 'Strength': 11, 'Perception': 4, 'Endurance': 4, 'Charisma': 2, 'Intelligence': 3, 'Agility': 4, 'Luck': 1}\n",
            "['Weakness']\n"
          ]
        }
      ]
    },
    {
      "cell_type": "code",
      "source": [
        "from abc import ABC, abstractmethod\n",
        "\n",
        "class Hero:\n",
        "    def __init__(self, opit, lvl):\n",
        "        self.stats = {\n",
        "            \"HP\": 10,\n",
        "            \"MP\": 20,\n",
        "            \"SP\": 30,\n",
        "        }\n",
        "        self.opit = opit\n",
        "        self.lvl = lvl\n",
        "\n",
        "    def opit_up(self):\n",
        "        self.opit += 10 \n",
        "        return self.opit\n",
        "\n",
        "    def lvl_up(self):\n",
        "        stats = self.get_stats()\n",
        "        self.lvl += 1\n",
        "        stats[\"HP\"] += 10\n",
        "        stats[\"MP\"] += 10\n",
        "        stats[\"SP\"] += 10\n",
        "\n",
        "        return self.lvl, str('уровень:'), stats\n",
        "\n",
        "    def get_stats(self):\n",
        "        return self.stats.copy()\n",
        "\n",
        "    def can(self):\n",
        "        if Geralt.opit >= 20:\n",
        "            print(Geralt.lvl_up())\n",
        "            achiev.subscribe(award)\n",
        "            achiev.notify(\"Вы заслужили награду! Ваши статы увеличелись!\")\n",
        "            print(award.achievements)\n",
        "\n",
        "        return \"Геральт: -Шевелись, Платва!\"\n",
        "class ObservableEngine():\n",
        "    def __init__(self):\n",
        "        self.__subscribers = set()\n",
        "\n",
        "    def subscribe(self, subscriber):\n",
        "        self.__subscribers.add(subscriber)\n",
        "\n",
        "    def unsubscribe(self, subscriber):\n",
        "        self.__subscribers.remove(subscriber)\n",
        "\n",
        "    def notify(self, message):\n",
        "        for subscriber in self.__subscribers:\n",
        "            subscriber.update(message)\n",
        "\n",
        "\n",
        "class AbstractObserver(ABC):\n",
        "    @abstractmethod\n",
        "    def update(self, message):\n",
        "        pass\n",
        "\n",
        "\n",
        "class ShortNotificationPrinter(AbstractObserver):\n",
        "    def __init__(self):\n",
        "        self.achievements = set()\n",
        "\n",
        "    def update(self, message):\n",
        "        self.achievements.add(message[title])\n",
        "\n",
        "\n",
        "class FullNotificationPrinter(AbstractObserver):\n",
        "    def __init__(self):\n",
        "        self.achievements = list()\n",
        "\n",
        "    def update(self, message):\n",
        "        if message not in self.achievements:\n",
        "            self.achievements.append(message)"
      ],
      "metadata": {
        "id": "gc3lg7sG-jDD"
      },
      "execution_count": 9,
      "outputs": []
    },
    {
      "cell_type": "code",
      "source": [
        "achiev = ObservableEngine()\n",
        "award = ShortNotificationPrinter()\n",
        "Geralt = Hero(0,1)\n",
        "\n",
        "print(Geralt.get_stats(), \"\\n\")\n",
        "print(Geralt.lvl, \"уровень \")\n",
        "print(Geralt.can(), \"\\n\")\n",
        "\n",
        "print(Geralt.opit_up())\n",
        "print(Geralt.lvl, \"уровень\")\n",
        "print(Geralt.can(), \"\\n\")\n",
        "\n",
        "print(Geralt.opit_up())\n",
        "print(Geralt.can())"
      ],
      "metadata": {
        "id": "p1rNTdwuLvOX",
        "outputId": "a306af27-169c-4c30-f187-87b4518addb5",
        "colab": {
          "base_uri": "https://localhost:8080/",
          "height": 552
        }
      },
      "execution_count": 12,
      "outputs": [
        {
          "output_type": "stream",
          "name": "stdout",
          "text": [
            "{'HP': 10, 'MP': 20, 'SP': 30} \n",
            "\n",
            "1 уровень \n",
            "Геральт: -Шевелись, Платва! \n",
            "\n",
            "10\n",
            "1 уровень\n",
            "Геральт: -Шевелись, Платва! \n",
            "\n",
            "20\n",
            "(2, 'уровень:', {'HP': 20, 'MP': 30, 'SP': 40})\n"
          ]
        },
        {
          "output_type": "error",
          "ename": "NameError",
          "evalue": "ignored",
          "traceback": [
            "\u001b[0;31m---------------------------------------------------------------------------\u001b[0m",
            "\u001b[0;31mNameError\u001b[0m                                 Traceback (most recent call last)",
            "\u001b[0;32m<ipython-input-12-289319c276bc>\u001b[0m in \u001b[0;36m<cell line: 14>\u001b[0;34m()\u001b[0m\n\u001b[1;32m     12\u001b[0m \u001b[0;34m\u001b[0m\u001b[0m\n\u001b[1;32m     13\u001b[0m \u001b[0mprint\u001b[0m\u001b[0;34m(\u001b[0m\u001b[0mGeralt\u001b[0m\u001b[0;34m.\u001b[0m\u001b[0mopit_up\u001b[0m\u001b[0;34m(\u001b[0m\u001b[0;34m)\u001b[0m\u001b[0;34m)\u001b[0m\u001b[0;34m\u001b[0m\u001b[0;34m\u001b[0m\u001b[0m\n\u001b[0;32m---> 14\u001b[0;31m \u001b[0mprint\u001b[0m\u001b[0;34m(\u001b[0m\u001b[0mGeralt\u001b[0m\u001b[0;34m.\u001b[0m\u001b[0mcan\u001b[0m\u001b[0;34m(\u001b[0m\u001b[0;34m)\u001b[0m\u001b[0;34m)\u001b[0m\u001b[0;34m\u001b[0m\u001b[0;34m\u001b[0m\u001b[0m\n\u001b[0m",
            "\u001b[0;32m<ipython-input-9-820b09f6dc66>\u001b[0m in \u001b[0;36mcan\u001b[0;34m(self)\u001b[0m\n\u001b[1;32m     31\u001b[0m             \u001b[0mprint\u001b[0m\u001b[0;34m(\u001b[0m\u001b[0mGeralt\u001b[0m\u001b[0;34m.\u001b[0m\u001b[0mlvl_up\u001b[0m\u001b[0;34m(\u001b[0m\u001b[0;34m)\u001b[0m\u001b[0;34m)\u001b[0m\u001b[0;34m\u001b[0m\u001b[0;34m\u001b[0m\u001b[0m\n\u001b[1;32m     32\u001b[0m             \u001b[0machiev\u001b[0m\u001b[0;34m.\u001b[0m\u001b[0msubscribe\u001b[0m\u001b[0;34m(\u001b[0m\u001b[0maward\u001b[0m\u001b[0;34m)\u001b[0m\u001b[0;34m\u001b[0m\u001b[0;34m\u001b[0m\u001b[0m\n\u001b[0;32m---> 33\u001b[0;31m             \u001b[0machiev\u001b[0m\u001b[0;34m.\u001b[0m\u001b[0mnotify\u001b[0m\u001b[0;34m(\u001b[0m\u001b[0;34m\"Вы заслужили награду! Ваши статы увеличелись!\"\u001b[0m\u001b[0;34m)\u001b[0m\u001b[0;34m\u001b[0m\u001b[0;34m\u001b[0m\u001b[0m\n\u001b[0m\u001b[1;32m     34\u001b[0m             \u001b[0mprint\u001b[0m\u001b[0;34m(\u001b[0m\u001b[0maward\u001b[0m\u001b[0;34m.\u001b[0m\u001b[0machievements\u001b[0m\u001b[0;34m)\u001b[0m\u001b[0;34m\u001b[0m\u001b[0;34m\u001b[0m\u001b[0m\n\u001b[1;32m     35\u001b[0m \u001b[0;34m\u001b[0m\u001b[0m\n",
            "\u001b[0;32m<ipython-input-9-820b09f6dc66>\u001b[0m in \u001b[0;36mnotify\u001b[0;34m(self, message)\u001b[0m\n\u001b[1;32m     47\u001b[0m     \u001b[0;32mdef\u001b[0m \u001b[0mnotify\u001b[0m\u001b[0;34m(\u001b[0m\u001b[0mself\u001b[0m\u001b[0;34m,\u001b[0m \u001b[0mmessage\u001b[0m\u001b[0;34m)\u001b[0m\u001b[0;34m:\u001b[0m\u001b[0;34m\u001b[0m\u001b[0;34m\u001b[0m\u001b[0m\n\u001b[1;32m     48\u001b[0m         \u001b[0;32mfor\u001b[0m \u001b[0msubscriber\u001b[0m \u001b[0;32min\u001b[0m \u001b[0mself\u001b[0m\u001b[0;34m.\u001b[0m\u001b[0m__subscribers\u001b[0m\u001b[0;34m:\u001b[0m\u001b[0;34m\u001b[0m\u001b[0;34m\u001b[0m\u001b[0m\n\u001b[0;32m---> 49\u001b[0;31m             \u001b[0msubscriber\u001b[0m\u001b[0;34m.\u001b[0m\u001b[0mupdate\u001b[0m\u001b[0;34m(\u001b[0m\u001b[0mmessage\u001b[0m\u001b[0;34m)\u001b[0m\u001b[0;34m\u001b[0m\u001b[0;34m\u001b[0m\u001b[0m\n\u001b[0m\u001b[1;32m     50\u001b[0m \u001b[0;34m\u001b[0m\u001b[0m\n\u001b[1;32m     51\u001b[0m \u001b[0;34m\u001b[0m\u001b[0m\n",
            "\u001b[0;32m<ipython-input-9-820b09f6dc66>\u001b[0m in \u001b[0;36mupdate\u001b[0;34m(self, message)\u001b[0m\n\u001b[1;32m     61\u001b[0m \u001b[0;34m\u001b[0m\u001b[0m\n\u001b[1;32m     62\u001b[0m     \u001b[0;32mdef\u001b[0m \u001b[0mupdate\u001b[0m\u001b[0;34m(\u001b[0m\u001b[0mself\u001b[0m\u001b[0;34m,\u001b[0m \u001b[0mmessage\u001b[0m\u001b[0;34m)\u001b[0m\u001b[0;34m:\u001b[0m\u001b[0;34m\u001b[0m\u001b[0;34m\u001b[0m\u001b[0m\n\u001b[0;32m---> 63\u001b[0;31m         \u001b[0mself\u001b[0m\u001b[0;34m.\u001b[0m\u001b[0machievements\u001b[0m\u001b[0;34m.\u001b[0m\u001b[0madd\u001b[0m\u001b[0;34m(\u001b[0m\u001b[0mmessage\u001b[0m\u001b[0;34m[\u001b[0m\u001b[0mtitle\u001b[0m\u001b[0;34m]\u001b[0m\u001b[0;34m)\u001b[0m\u001b[0;34m\u001b[0m\u001b[0;34m\u001b[0m\u001b[0m\n\u001b[0m\u001b[1;32m     64\u001b[0m \u001b[0;34m\u001b[0m\u001b[0m\n\u001b[1;32m     65\u001b[0m \u001b[0;34m\u001b[0m\u001b[0m\n",
            "\u001b[0;31mNameError\u001b[0m: name 'title' is not defined"
          ]
        }
      ]
    }
  ]
}