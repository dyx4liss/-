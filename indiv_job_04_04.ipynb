{
  "nbformat": 4,
  "nbformat_minor": 0,
  "metadata": {
    "colab": {
      "provenance": [],
      "authorship_tag": "ABX9TyPGPBXRUD8CcbhUFRoSQEFj",
      "include_colab_link": true
    },
    "kernelspec": {
      "name": "python3",
      "display_name": "Python 3"
    },
    "language_info": {
      "name": "python"
    }
  },
  "cells": [
    {
      "cell_type": "markdown",
      "metadata": {
        "id": "view-in-github",
        "colab_type": "text"
      },
      "source": [
        "<a href=\"https://colab.research.google.com/github/dyx4liss/Labs/blob/main/indiv_job_04_04.ipynb\" target=\"_parent\"><img src=\"https://colab.research.google.com/assets/colab-badge.svg\" alt=\"Open In Colab\"/></a>"
      ]
    },
    {
      "cell_type": "code",
      "execution_count": 7,
      "metadata": {
        "colab": {
          "base_uri": "https://localhost:8080/"
        },
        "id": "rbVenSO8_IxN",
        "outputId": "daa536b4-2c0f-4054-cd36-9b703ea7bfd5"
      },
      "outputs": [
        {
          "output_type": "stream",
          "name": "stdout",
          "text": [
            "Sheep - 3 минут\n",
            "Dogs - 4 минут\n",
            "Pigs on the wing - 5 минут\n",
            "Длительность альбома 'Animals': 12 минут\n",
            "A Forest - 2 минут\n",
            "In Your House - 3 минут\n",
            "Subway Song - 4 минут\n",
            "Длительность альбома 'Seventeen Seconds': 9 минут\n"
          ]
        }
      ],
      "source": [
        "if __name__ == '__min__':\n",
        "  print('start')\n",
        "class Track:\n",
        "    def __init__(self, name, duration):\n",
        "        self.name = name\n",
        "        self.duration = duration\n",
        "\n",
        "    def show(self):\n",
        "        print(f\"{self.name} - {self.duration} минут\")\n",
        "\n",
        "class Album:\n",
        "    def __init__(self, name, group, tracks):\n",
        "        self.name = name\n",
        "        self.group = group\n",
        "        self.tracks = tracks\n",
        "\n",
        "    def get_tracks(self):\n",
        "        for track in self.tracks:\n",
        "            track.show()\n",
        "\n",
        "    def add_track(self, new_track):\n",
        "        self.tracks.append(new_track)\n",
        "\n",
        "    def get_duration(self):\n",
        "        total_duration = 0\n",
        "        for track in self.tracks:\n",
        "            total_duration += track.duration\n",
        "        return total_duration\n",
        "\n",
        "# cоздаем треки для первого альбома\n",
        "track1 = Track(\"Sheep\", 3)\n",
        "track2 = Track(\"Dogs\", 4)\n",
        "track3 = Track(\"Pigs on the wing\", 5)\n",
        "\n",
        "# создаем первый альбом и добавляем треки в список\n",
        "album1 = Album(\"Animals\", \"Pink Floyd\", [track1, track2, track3])\n",
        "\n",
        "# выводим информацию по всем трекам первого альбома\n",
        "album1.get_tracks()\n",
        "\n",
        "# выводим общую длительность первого альбома\n",
        "print(f\"Длительность альбома '{album1.name}': {album1.get_duration()} минут\")\n",
        "\n",
        "# создаем треки для второго альбома\n",
        "track4 = Track(\"A Forest\", 2)\n",
        "track5 = Track(\"In Your House\", 3)\n",
        "track6 = Track(\"Subway Song\", 4)\n",
        "\n",
        "# создать второй альбом и добавить треки в список\n",
        "album2 = Album(\"Seventeen Seconds\", \"The Cure\", [track4, track5, track6])\n",
        "\n",
        "# вывести информацию по всем трекам из второго альбома\n",
        "album2.get_tracks()\n",
        "\n",
        "# вывести общую длительность второго альбома\n",
        "print(f\"Длительность альбома '{album2.name}': {album2.get_duration()} минут\")"
      ]
    }
  ]
}