{
  "nbformat": 4,
  "nbformat_minor": 0,
  "metadata": {
    "colab": {
      "provenance": [],
      "authorship_tag": "ABX9TyOLffG8rVYEmQ4sS01du82T",
      "include_colab_link": true
    },
    "kernelspec": {
      "name": "python3",
      "display_name": "Python 3"
    },
    "language_info": {
      "name": "python"
    }
  },
  "cells": [
    {
      "cell_type": "markdown",
      "metadata": {
        "id": "view-in-github",
        "colab_type": "text"
      },
      "source": [
        "<a href=\"https://colab.research.google.com/github/dyx4liss/Labs/blob/main/indiv_job_04_04.ipynb\" target=\"_parent\"><img src=\"https://colab.research.google.com/assets/colab-badge.svg\" alt=\"Open In Colab\"/></a>"
      ]
    },
    {
      "cell_type": "code",
      "execution_count": 1,
      "metadata": {
        "colab": {
          "base_uri": "https://localhost:8080/"
        },
        "id": "rbVenSO8_IxN",
        "outputId": "f3b43e7b-7574-4709-d9db-c65c49f61f92"
      },
      "outputs": [
        {
          "output_type": "stream",
          "name": "stdout",
          "text": [
            "Sheep - 3 минут\n",
            "Dogs - 4 минут\n",
            "Pigs on the wing - 5 минут\n",
            "Длительность альбома 'Animals': 12 минут\n",
            "A Forest - 2 минут\n",
            "In Your House - 3 минут\n",
            "Subway Song - 4 минут\n",
            "Длительность альбома 'Seventeen Seconds': 9 минут\n"
          ]
        }
      ],
      "source": [
        "if __name__ == '__min__':\n",
        "  print('start')\n",
        "class Track:\n",
        "    def __init__(self, name, duration):\n",
        "        self.name = name\n",
        "        self.duration = duration\n",
        "\n",
        "    def show(self):\n",
        "        print(f\"{self.name} - {self.duration} минут\")\n",
        "\n",
        "class Album:\n",
        "    def __init__(self, name, group, tracks):\n",
        "        self.name = name\n",
        "        self.group = group\n",
        "        self.tracks = tracks\n",
        "\n",
        "    def get_tracks(self):\n",
        "        for track in self.tracks:\n",
        "            track.show()\n",
        "\n",
        "    def add_track(self, new_track):\n",
        "        self.tracks.append(new_track)\n",
        "\n",
        "    def get_duration(self):\n",
        "        total_duration = 0\n",
        "        for track in self.tracks:\n",
        "            total_duration += track.duration\n",
        "        return total_duration\n",
        "\n",
        "# Создаем треки для первого альбома\n",
        "track1 = Track(\"Sheep\", 3)\n",
        "track2 = Track(\"Dogs\", 4)\n",
        "track3 = Track(\"Pigs on the wing\", 5)\n",
        "\n",
        "# Создаем первый альбом и добавляем треки в список\n",
        "album1 = Album(\"Animals\", \"Pink Floyd\", [track1, track2, track3])\n",
        "\n",
        "# Выводим информацию по всем трекам первого альбома\n",
        "album1.get_tracks()\n",
        "\n",
        "# Выводим общую длительность первого альбома\n",
        "print(f\"Длительность альбома '{album1.name}': {album1.get_duration()} минут\")\n",
        "\n",
        "# Создаем треки для второго альбома\n",
        "track4 = Track(\"A Forest\", 2)\n",
        "track5 = Track(\"In Your House\", 3)\n",
        "track6 = Track(\"Subway Song\", 4)\n",
        "\n",
        "# Создаем второй альбом и добавляем треки в список\n",
        "album2 = Album(\"Seventeen Seconds\", \"The Cure\", [track4, track5, track6])\n",
        "\n",
        "# Выводим информацию по всем трекам второго альбома\n",
        "album2.get_tracks()\n",
        "\n",
        "# Выводим общую длительность второго альбома\n",
        "print(f\"Длительность альбома '{album2.name}': {album2.get_duration()} минут\")"
      ]
    }
  ]
}