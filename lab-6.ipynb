{
  "nbformat": 4,
  "nbformat_minor": 0,
  "metadata": {
    "colab": {
      "provenance": [],
      "authorship_tag": "ABX9TyO0TyrZPLfLA5rDu1dt2htU",
      "include_colab_link": true
    },
    "kernelspec": {
      "name": "python3",
      "display_name": "Python 3"
    },
    "language_info": {
      "name": "python"
    }
  },
  "cells": [
    {
      "cell_type": "markdown",
      "metadata": {
        "id": "view-in-github",
        "colab_type": "text"
      },
      "source": [
        "<a href=\"https://colab.research.google.com/github/dyx4liss/Labs/blob/main/lab-6.ipynb\" target=\"_parent\"><img src=\"https://colab.research.google.com/assets/colab-badge.svg\" alt=\"Open In Colab\"/></a>"
      ]
    },
    {
      "cell_type": "markdown",
      "source": [
        "6.2.1."
      ],
      "metadata": {
        "id": "0Qe_utPKeSRt"
      }
    },
    {
      "cell_type": "code",
      "execution_count": 8,
      "metadata": {
        "colab": {
          "base_uri": "https://localhost:8080/",
          "height": 134
        },
        "id": "Lovf0-aueQ3Y",
        "outputId": "78af49e7-f8bf-4e1f-9a6a-e7dcee89cecc"
      },
      "outputs": [
        {
          "output_type": "error",
          "ename": "IndentationError",
          "evalue": "ignored",
          "traceback": [
            "\u001b[0;36m  File \u001b[0;32m\"<ipython-input-8-f39e192b1aa0>\"\u001b[0;36m, line \u001b[0;32m3\u001b[0m\n\u001b[0;31m    for i in range(len(a), 0, -1):\u001b[0m\n\u001b[0m    ^\u001b[0m\n\u001b[0;31mIndentationError\u001b[0m\u001b[0;31m:\u001b[0m unexpected indent\n"
          ]
        }
      ],
      "source": [
        "\n",
        "def foo(a):\n",
        "   \n",
        "    for i in range(len(a), 0, -1):                        #O(N)+O(1)\n",
        "        for j in range(1, i):                             #O(N)\n",
        "            if a[j-1] > a[j]:                             #O(N)+O(1)\n",
        "                a[j-1], a[j] = a[j], a[j-1]               #O(1)+O(1)\n",
        "    return a                                              #O(1)\n",
        "\n",
        "\n",
        "a = [1, 2, 3, 4, 2, 1, 3, 4, 3, 5, -2, -2, 2, -2, 65, 2, 2]\n",
        "foo(a)\n"
      ]
    },
    {
      "cell_type": "markdown",
      "source": [
        "6.2.2"
      ],
      "metadata": {
        "id": "1IrMX1RajGot"
      }
    },
    {
      "cell_type": "code",
      "source": [
        "def foo(i):\n",
        "    \"\"\"!!!\n",
        "\n",
        "    Параметры:\n",
        "        - i (int): число.\n",
        "\n",
        "    Сложность: !!!.\n",
        "    \"\"\"\n",
        "    digits = \"0123456789\"\n",
        "    if i == 0:\n",
        "        return \"0\"\n",
        "    result = \"\"\n",
        "    while i > 0:\n",
        "        result = digits[i%10] + result\n",
        "        i = i // 10\n",
        "    return result\n"
      ],
      "metadata": {
        "id": "iWTOnWAtjHnH"
      },
      "execution_count": null,
      "outputs": []
    }
  ]
}