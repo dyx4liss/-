{
  "nbformat": 4,
  "nbformat_minor": 0,
  "metadata": {
    "colab": {
      "provenance": [],
      "authorship_tag": "ABX9TyNmlJSKDfIhdwSst5yJ7cva",
      "include_colab_link": true
    },
    "kernelspec": {
      "name": "python3",
      "display_name": "Python 3"
    },
    "language_info": {
      "name": "python"
    }
  },
  "cells": [
    {
      "cell_type": "markdown",
      "metadata": {
        "id": "view-in-github",
        "colab_type": "text"
      },
      "source": [
        "<a href=\"https://colab.research.google.com/github/dyx4liss/school/blob/main/3_lab.ipynb\" target=\"_parent\"><img src=\"https://colab.research.google.com/assets/colab-badge.svg\" alt=\"Open In Colab\"/></a>"
      ]
    },
    {
      "cell_type": "markdown",
      "source": [
        "№ 3.2.1\n",
        "\n",
        "Составьте программу, которая запрашивает у пользователя 2 целых числа и выполняет операции:"
      ],
      "metadata": {
        "id": "JKpq9dkpENeV"
      }
    },
    {
      "cell_type": "code",
      "execution_count": null,
      "metadata": {
        "id": "YawzR32lEMOF"
      },
      "outputs": [],
      "source": [
        "# 3.2.1\n",
        "print(a+b) \n",
        "print(a-b) \n",
        "print(a*b) \n",
        "round(a/b,2) \n",
        "print(round(a/b,2)) \n",
        "print(a//b) \n",
        "print(a%b) \n",
        "print(a**b) \n",
        "print(a<b) \n",
        "print(a<=b) \n",
        "print(a>b) \n",
        "print(a>=b) \n",
        "print(a!=b) \n",
        "print(a==b)\n",
        "# --------------\n",
        "# Пример вывода:\n",
        "#\n",
        "# a=2\n",
        "# b=3\n",
        "# 5\n",
        "# -1\n",
        "# 6\n",
        "# 0.67\n",
        "# 0\n",
        "# 2\n",
        "# 8\n",
        "# True\n",
        "# True\n",
        "# False\n",
        "# False\n",
        "# True\n",
        "# False"
      ]
    },
    {
      "cell_type": "markdown",
      "source": [
        "№ 3.2.2\n",
        "\n",
        "Вычислите значение следующего выражения (аргументы - целые числа и вводятся с клавиатуры):"
      ],
      "metadata": {
        "id": "iE4BEI1NEl8W"
      }
    },
    {
      "cell_type": "code",
      "source": [
        "x = int(input(\"x=\"))\n",
        "y = int(input(\"y=\"))\n",
        "z = int(input(\"z=\"))\n",
        "\n",
        "t1=x**5+7\n",
        "t2=abs(-6)*y\n",
        "t3=7-(z%y)\n",
        "\n",
        "res1 = ((x**5+7)/(abs(-6)*y))**(1/3)\n",
        "res2 = 7 - (z%y)\n",
        "res3 = res1/res2\n",
        "print(round(res3,2))"
      ],
      "metadata": {
        "id": "vVRMnJSyEpVJ"
      },
      "execution_count": null,
      "outputs": []
    },
    {
      "cell_type": "markdown",
      "source": [
        "№ 3.2.3\n",
        "\n",
        "Дана электрическая цепь, состоящая из 2-х последовательно соединенных проводников (сопротивление каждого известно). Найти общее сопротивление цепи (округление результата необходимо выполнить до 1-го знака после запятой)."
      ],
      "metadata": {
        "id": "T0bLW3QqEuIp"
      }
    },
    {
      "cell_type": "code",
      "source": [
        "# Сопротивление первого проводника\n",
        "r1 = float(input(\"r1=\"))\n",
        "# Сопротивление второго проводника\n",
        "r2 = float(input(\"r2=\"))\n",
        "\n",
        "# Общее сопротивление\n",
        "r = round(r1 + r2,1)\n",
        "\n",
        "print(r)"
      ],
      "metadata": {
        "id": "mUyjgDvYE3MM"
      },
      "execution_count": null,
      "outputs": []
    },
    {
      "cell_type": "markdown",
      "source": [
        "№ 3.2.4\n",
        "\n",
        "Дано двузначное и трехзначное число. Для каждого выведите на экран сумму и произведение цифр."
      ],
      "metadata": {
        "id": "dJEaKWKFE3um"
      }
    },
    {
      "cell_type": "code",
      "source": [
        "# Двузначное число \n",
        "num2 = list(map(int, input(\"Введите двузначное число: \"))) #Ввод двухзначного числа. \n",
        "num3 = list(map(int, input(\"Введите трехзначное число: \"))) #Ввод трехзначного числа. \n",
        " \n",
        "# 1-я цифра числа 'num2' \n",
        "num2_1 = num2[0] \n",
        "# 2-я цифра числа 'num2' \n",
        "num2_2 = num2[1] \n",
        " \n",
        "# Сумма цифр числа 'num2' \n",
        "num2_s = num2_1+num2_2 \n",
        "# Произведение цифр числа 'num2' \n",
        "num2_p = num2_1*num2_2 \n",
        " \n",
        "# 1-я цифра числа 'num3' \n",
        "num3_1 = num3[0] \n",
        "# 2-я цифра числа 'num3' \n",
        "num3_2 = num3[1] \n",
        "# 3-я цифра числа 'num3' \n",
        "num3_3 = num3[2] \n",
        " \n",
        "# Сумма цифр числа 'num3' \n",
        "num3_s = num3_1+num3_2+num3_3 \n",
        "# Произведение цифр числа 'num3' \n",
        "num3_p = num3_1*num3_2*num3_3 "
      ],
      "metadata": {
        "id": "b2r4ee3eE7es"
      },
      "execution_count": null,
      "outputs": []
    },
    {
      "cell_type": "markdown",
      "source": [
        "№ 3.2.6\n",
        "\n",
        "Дано уравнение ax + b = 0 и отрезок [m;n]\n",
        ". Ответьте на вопрос, попадает ли решение уравнения в указанный отрезок."
      ],
      "metadata": {
        "id": "ZFHZinbzFBQx"
      }
    },
    {
      "cell_type": "code",
      "source": [
        "a = int(input(\"a=\"))\n",
        "b = int(input(\"b=\"))\n",
        "m = int(input(\"m=\"))\n",
        "n = int(input(\"n=\"))\n",
        "\n",
        "x = (0-b)/a\n",
        "\n",
        "is_ok = bool((x>m) and (x<=n))\n",
        "print(\"Попадает:\", True)"
      ],
      "metadata": {
        "id": "P645cbVoFG0i"
      },
      "execution_count": null,
      "outputs": []
    },
    {
      "cell_type": "markdown",
      "source": [
        "№ 3.2.7\n",
        "\n",
        "Составьте программу, которая запрашивает название футбольной команды и повторяет его на экране со словами"
      ],
      "metadata": {
        "id": "n8BRf1WiFNGX"
      }
    },
    {
      "cell_type": "code",
      "source": [
        "team = input(\"Введите название команды: \")\n",
        "\n",
        "print((team)+\"champion!\")\n",
        "\n",
        "print(\"-\"*len(team))\n",
        "\n",
        "# Название команды в нижнем регистре\n",
        "team_lowercase = print(team.lower())\n",
        "print(\"Символов в названии команды:\",len(team))\n",
        "print(\"Буква \"\"п\"\" есть:\", bool(\"п\" in \"Спартак\"))\n",
        "print(\"Количество букв а:\", team.find(\"а\"))"
      ],
      "metadata": {
        "id": "V9eW5CjmFUGc"
      },
      "execution_count": null,
      "outputs": []
    },
    {
      "cell_type": "markdown",
      "source": [
        "№ 3.2.8\n",
        "\n",
        "Составьте программу, которая запрашивает название государства и его столицы, а затем выводит сообщение:"
      ],
      "metadata": {
        "id": "nt170P4rFzaD"
      }
    },
    {
      "cell_type": "code",
      "source": [
        "country =input()\n",
        "capital = input()\n",
        "s3='Государство -'\n",
        "s4=\"столица -\"\n",
        "s5=\"{} {}, {} {}\".format(s3,country,s4,capital)\n",
        "print(s5)"
      ],
      "metadata": {
        "id": "b4Mpnva3F2_F"
      },
      "execution_count": null,
      "outputs": []
    },
    {
      "cell_type": "markdown",
      "source": [
        "№ 3.2.9\n",
        "\n",
        "Дано слово объектно-ориентированный. Используя индексацию и срезы составьте из него слова объект, ориентир, тир, кот, рента и выведите их на экран."
      ],
      "metadata": {
        "id": "eid0CU0ZF6iO"
      }
    },
    {
      "cell_type": "code",
      "source": [
        "word = \"объектно-ориентированный\"\n",
        "w1 = word[:6]  # (слово объект)\n",
        "w2 = word[9:17]\n",
        "w3 = word[14:17] # (слово тир)\n",
        "w4 = word[4]+word[7]+word[5] #(слово кот)\n",
        "w5 = word[10]+word[12:15]+word[19] #(слово рента)\n",
        "print(w1, w2, w3, w4, w5, sep=\"\\n\")"
      ],
      "metadata": {
        "id": "xqvLBnR0GJKK"
      },
      "execution_count": null,
      "outputs": []
    }
  ]
}