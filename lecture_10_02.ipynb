{
  "nbformat": 4,
  "nbformat_minor": 0,
  "metadata": {
    "colab": {
      "provenance": [],
      "include_colab_link": true
    },
    "kernelspec": {
      "name": "python3",
      "display_name": "Python 3"
    },
    "language_info": {
      "name": "python"
    }
  },
  "cells": [
    {
      "cell_type": "markdown",
      "metadata": {
        "id": "view-in-github",
        "colab_type": "text"
      },
      "source": [
        "<a href=\"https://colab.research.google.com/github/dyx4liss/Labs/blob/main/lecture_10_02.ipynb\" target=\"_parent\"><img src=\"https://colab.research.google.com/assets/colab-badge.svg\" alt=\"Open In Colab\"/></a>"
      ]
    },
    {
      "cell_type": "markdown",
      "source": [
        "#Объектно-оринетированое программирование (ООП)\n"
      ],
      "metadata": {
        "id": "uTSbOqV0O9Ia"
      }
    },
    {
      "cell_type": "markdown",
      "source": [
        "Объект-\"Вещь\" с определенными свойствами и поведением \n",
        "\n",
        "Объектно-ориентированный подход можно применять:\n",
        "  1. как к программированию\n",
        "  2. как к анализу\n",
        "  3. дизайну\n",
        "\n",
        "**ООП-способ мышления,а также способ всоприятия окружающего мира с точки зрения теории объектов **\n",
        "\n",
        "* **Парадигма программирования на машинном языке:**\n",
        "  1. Программы писались на машинных языках в двоичном представлении.При написании программ на машинных языках часто допускались ошибки.\n",
        "  2. Процедурные языки дают программисту возможность разбить программу обработки информации на нексолько процедур более низкого уровня.Последовательные обращения к этим процедурам управляют выполенением программ.\n",
        "  3. Модульное программирование разбивает программу на ряд составляющих компонентов,или модулей.В отличие от процедурного программирования,которое разделяет данные и процедуры ,модули скрывают всю внутренюю информацию от остальных частей программы.Основываясь на этом,двольно просто объяснить,что такое состояние:Модуль сохраняет инфорацмию.\n",
        "\n",
        "ООП:\n",
        "\n",
        "  1. Состояние объекта-это совокупность значений внтуренныих переменных объекта \n",
        "  2. Внутренняя переменнная-это величина,хранимая внутри объекта \n",
        "\n",
        "\n",
        "* ООП добавляет к модулю:\n",
        "  1. Наследвственность\n",
        "  2. Полиморфизм \n",
        "\n",
        "\n"
      ],
      "metadata": {
        "id": "tUvJJEJ-PG5F"
      }
    },
    {
      "cell_type": "code",
      "execution_count": null,
      "metadata": {
        "colab": {
          "base_uri": "https://localhost:8080/"
        },
        "id": "3F-Y6ugzOuaA",
        "outputId": "513d565b-32d8-4566-87a4-e5812382c26d"
      },
      "outputs": [
        {
          "output_type": "stream",
          "name": "stdout",
          "text": [
            "15\n",
            "22\n"
          ]
        }
      ],
      "source": [
        "class A:\n",
        "  x = 15\n",
        "  def print_x(self):\n",
        "    print(self.x)\n",
        "  def sum(self, a, b):\n",
        "    return self.x+a+b\n",
        "a = A()\n",
        "a.print_x()\n",
        "b = a.sum(5,2)\n",
        "print(b)\n",
        "\n"
      ]
    },
    {
      "cell_type": "code",
      "source": [
        "class A:\n",
        "  def hello():\n",
        "    print('hello world!')\n",
        "\n",
        "a=A()\n",
        "#a.hello()\n",
        "A.hello()"
      ],
      "metadata": {
        "colab": {
          "base_uri": "https://localhost:8080/"
        },
        "id": "L4aMoiEPXyVD",
        "outputId": "eebf621f-f183-4ac7-f363-5a2154b0cd1a"
      },
      "execution_count": null,
      "outputs": [
        {
          "output_type": "stream",
          "name": "stdout",
          "text": [
            "hello world!\n"
          ]
        }
      ]
    },
    {
      "cell_type": "code",
      "source": [
        "class A:\n",
        "  def __init__(self,x):\n",
        "    self.x = x\n",
        "    print(\"Hello!\")\n",
        "  \n",
        "  def __del__(self):\n",
        "    print(\"Good bye!\")\n",
        "\n",
        "#a = A()\n",
        "a = A(15)\n",
        "print(a.x)\n",
        "del a"
      ],
      "metadata": {
        "colab": {
          "base_uri": "https://localhost:8080/"
        },
        "id": "SJ_Mq75_Xyt4",
        "outputId": "984c7c7e-acae-4656-917b-000187b5bdf2"
      },
      "execution_count": null,
      "outputs": [
        {
          "output_type": "stream",
          "name": "stdout",
          "text": [
            "Hello!\n",
            "15\n",
            "Good bye!\n"
          ]
        }
      ]
    },
    {
      "cell_type": "code",
      "source": [
        "class A:\n",
        "  def __init__(self):\n",
        "    print(\"Hello!\")\n",
        "  def __del__(self):\n",
        "    print(\"Good bye!\")\n",
        "\n",
        "def create_obj():\n",
        "  a = A()\n",
        "  return a\n",
        "\n",
        "if __name__ == \"__main__\":\n",
        "  a=create_obj()\n",
        "  print(\"Program end\")\n",
        "  del a\n",
        "  exit(0)\n",
        "\n"
      ],
      "metadata": {
        "colab": {
          "base_uri": "https://localhost:8080/"
        },
        "id": "7Kobo3tvaIlk",
        "outputId": "ee75ee6e-4e33-4da1-e966-900bad02af7b"
      },
      "execution_count": null,
      "outputs": [
        {
          "output_type": "stream",
          "name": "stdout",
          "text": [
            "Hello!\n",
            "Program end\n",
            "Good bye!\n"
          ]
        }
      ]
    },
    {
      "cell_type": "code",
      "source": [
        "class A:\n",
        "  def __init__(self, bb):\n",
        "    self.b = bb\n",
        "\n",
        "class B:\n",
        "  def __init__(self):\n",
        "    self.a = A(self)\n",
        "  def __del__(self):\n",
        "    print(\"Good bye!\")\n",
        "def fun():\n",
        "  b = B()\n",
        "  print('fun end')\n",
        "  return b\n",
        "fun()\n",
        "print('Programm end')"
      ],
      "metadata": {
        "colab": {
          "base_uri": "https://localhost:8080/"
        },
        "id": "3UrBm_y0aIbL",
        "outputId": "09326f41-b5be-47aa-c0e2-1b6b36e2fde1"
      },
      "execution_count": null,
      "outputs": [
        {
          "output_type": "stream",
          "name": "stdout",
          "text": [
            "fun end\n",
            "Programm end\n"
          ]
        }
      ]
    },
    {
      "cell_type": "code",
      "source": [
        "class Bus:\n",
        "  def __init__(self,passengers=[]):\n",
        "    self.passengers = passengers \n",
        "  def pick(self,name):\n",
        "    self.passengers.append(name)\n",
        "\n",
        "  def drop(self,name):\n",
        "    self.passengers.remove(name)"
      ],
      "metadata": {
        "id": "0cos4qeuaIRK"
      },
      "execution_count": null,
      "outputs": []
    },
    {
      "cell_type": "code",
      "source": [
        "bus1 = Bus(['Alice','Bill'])\n",
        "bus1.passengers \n",
        "bus1.pick('Chralie')\n",
        "bus1.drop(\"Alice\")\n",
        "print(bus1.passengers)\n",
        "\n",
        "bus2 = Bus()\n",
        "bus2.pick('Carrie')\n",
        "print(bus2.passengers)\n",
        "\n",
        "bus3 = Bus()\n",
        "bus3.passengers\n",
        "bus2.passengers is bus3.passengers\n",
        "bus1.passengers"
      ],
      "metadata": {
        "colab": {
          "base_uri": "https://localhost:8080/"
        },
        "id": "QUOtO2k_aIFr",
        "outputId": "c28664bd-f40f-46c6-9e62-aa9a1189da23"
      },
      "execution_count": null,
      "outputs": [
        {
          "output_type": "stream",
          "name": "stdout",
          "text": [
            "['Bill', 'Chralie']\n",
            "['Carrie']\n"
          ]
        },
        {
          "output_type": "execute_result",
          "data": {
            "text/plain": [
              "['Bill', 'Chralie']"
            ]
          },
          "metadata": {},
          "execution_count": 3
        }
      ]
    },
    {
      "cell_type": "code",
      "source": [
        "class Bus:\n",
        "  def __init__(self, passengers=None):\n",
        "    if passengers is None:\n",
        "      self.passengers = []\n",
        "    else:\n",
        "      self.passengers = passengers "
      ],
      "metadata": {
        "id": "YCbtvz_RaHzF"
      },
      "execution_count": null,
      "outputs": []
    },
    {
      "cell_type": "code",
      "source": [
        "class A:\n",
        "  x = 10\n",
        "  __x =1 \n",
        "  def __init__(self):\n",
        "    self.y = 5\n",
        "    z = 1\n",
        "\n",
        "a = A()\n",
        "print(a.x)\n",
        "print(a.y)\n",
        "#print(a.z)\n",
        "#print(a.__x)\n",
        "print(A.x)\n",
        "#print(A.y)"
      ],
      "metadata": {
        "colab": {
          "base_uri": "https://localhost:8080/"
        },
        "id": "E3Js6pk-epGK",
        "outputId": "7b2ee242-3c4a-4e27-ae2e-a10f07205ca7"
      },
      "execution_count": null,
      "outputs": [
        {
          "output_type": "stream",
          "name": "stdout",
          "text": [
            "10\n",
            "5\n",
            "10\n"
          ]
        }
      ]
    },
    {
      "cell_type": "code",
      "source": [
        "class A:\n",
        "  x = 10\n",
        "\n",
        "a = A()\n",
        "b = A()\n",
        "a.x\n",
        "b.x\n",
        "A.x\n",
        "\n",
        "a.x = 4\n",
        "a.x\n",
        "b.x\n",
        "A.x"
      ],
      "metadata": {
        "colab": {
          "base_uri": "https://localhost:8080/"
        },
        "id": "6He27bROfyFI",
        "outputId": "78b1eb9f-a4f7-4b70-f30b-8266bea9b3cd"
      },
      "execution_count": null,
      "outputs": [
        {
          "output_type": "execute_result",
          "data": {
            "text/plain": [
              "10"
            ]
          },
          "metadata": {},
          "execution_count": 6
        }
      ]
    },
    {
      "cell_type": "code",
      "source": [],
      "metadata": {
        "id": "wegJSsHcu0pR"
      },
      "execution_count": null,
      "outputs": []
    }
  ]
}