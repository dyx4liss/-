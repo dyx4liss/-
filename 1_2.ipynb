{
  "nbformat": 4,
  "nbformat_minor": 0,
  "metadata": {
    "colab": {
      "provenance": [],
      "authorship_tag": "ABX9TyPUiYSEaZLW+u8kbKWn5hAk",
      "include_colab_link": true
    },
    "kernelspec": {
      "name": "python3",
      "display_name": "Python 3"
    },
    "language_info": {
      "name": "python"
    }
  },
  "cells": [
    {
      "cell_type": "markdown",
      "metadata": {
        "id": "view-in-github",
        "colab_type": "text"
      },
      "source": [
        "<a href=\"https://colab.research.google.com/github/dyx4liss/Labs/blob/main/1_2.ipynb\" target=\"_parent\"><img src=\"https://colab.research.google.com/assets/colab-badge.svg\" alt=\"Open In Colab\"/></a>"
      ]
    },
    {
      "cell_type": "markdown",
      "source": [
        "1.2.1"
      ],
      "metadata": {
        "id": "Ku_PPp941qkS"
      }
    },
    {
      "cell_type": "code",
      "execution_count": null,
      "metadata": {
        "id": "qdzrbJEW3878"
      },
      "outputs": [],
      "source": [
        "class Person:\n",
        "  apples = 0\n",
        "  ideas = 0\n",
        "johanna = Person()\n",
        "johanna.apples = 1\n",
        "johanna.ideas = 1\n",
        "\n",
        "martin = Person()\n",
        "martin.apples = 2\n",
        "martin.ideas = 1\n",
        "def exchange_apples(you, me):\n",
        "  a = you.apples          \n",
        "  you.apples = me.apples     \n",
        "  me.apples = a\n",
        "  return you.apples, me.apples\n",
        "def exchange_ideas(you, me):\n",
        "  b=you.ideas+me.ideas\n",
        "  you.ideas = b\n",
        "  me.ideas = b\n",
        "  return you.ideas, me.ideas\n",
        "exchange_apples(johanna, martin)\n",
        "print(\"Johanna has {} apples and Martin has {} apples\".format(johanna.apples, martin.apples))\n",
        "exchange_ideas(johanna, martin)\n",
        "print(\"Johanna has {} ideas and Martin has {} ideas\".format(johanna.ideas, martin.ideas)) "
      ]
    },
    {
      "cell_type": "markdown",
      "source": [
        "1.2.2"
      ],
      "metadata": {
        "id": "iBHlQduc23mE"
      }
    },
    {
      "cell_type": "code",
      "source": [
        "class City:\n",
        " name = \"\"\n",
        " country = \"\"\n",
        " elevation = 0\n",
        " population = 0\n",
        "\n",
        "city1 = City()\n",
        "city1.name = \"Cusco\"\n",
        "city1.country = \"Peru\"\n",
        "city1.elevation = 3399\n",
        "city1.population = 358052\n",
        "\n",
        "city2 = City()\n",
        "city2.name = \"Sofia\"\n",
        "city2.country = \"Bulgaria\"\n",
        "city2.elevation = 2290\n",
        "city2.population = 1241675\n",
        "\n",
        "city3 = City()\n",
        "city3.name = \"Seoul\"\n",
        "city3.country = \"South Korea\"\n",
        "city3.elevation = 38\n",
        "city3.population = 9733509\n",
        "\n",
        "def max_elevation_city(min_population):\n",
        "  return_city = City()\n",
        "  if city1.population >= min_population:\n",
        "    return_city = city1\n",
        "  if city2.population >= min_population and city2.elevation > return_city.elevation:\n",
        "    return_city = city2\n",
        "  if city3.population >= min_population and city3.elevation > return_city.elevation:\n",
        "    return_city = city3\n",
        "  if return_city.name:\n",
        "    return \"{}, {}\".format(return_city.name, return_city.country)  # иначе будет следующий вывод: ('Sofia', 'Bulgaria')\n",
        "  else:\n",
        "    return \"\"\n",
        "print(max_elevation_city(100000)) \n",
        "print(max_elevation_city(1000000))\n",
        "print(max_elevation_city(10000000)) "
      ],
      "metadata": {
        "id": "lR8QikkG4Amm"
      },
      "execution_count": null,
      "outputs": []
    },
    {
      "cell_type": "markdown",
      "source": [
        "1.2.3"
      ],
      "metadata": {
        "id": "IHL5_zY34Gvf"
      }
    },
    {
      "cell_type": "code",
      "source": [
        "class Furniture:\n",
        "  color = \"\"\n",
        "  material = \"\"\n",
        "\n",
        "table = Furniture()\n",
        "table.color = \"коричневый\" \n",
        "table.material = \"дерево\" \n",
        "\n",
        "couch = Furniture()\n",
        "couch.color = \"красный\" \n",
        "couch.material = \"кожа\" \n",
        "\n",
        "def describe_furniture(piece):\n",
        "  return (\"Этот предмет мебели изготовлен из {} {}\".format(piece.color, piece.material))\n",
        "print(describe_furniture(table))\n",
        "print(describe_furniture(couch))"
      ],
      "metadata": {
        "id": "0HeRyJ034E0n"
      },
      "execution_count": null,
      "outputs": []
    }
  ]
}