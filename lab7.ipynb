{
  "nbformat": 4,
  "nbformat_minor": 0,
  "metadata": {
    "colab": {
      "provenance": [],
      "authorship_tag": "ABX9TyMmhWdyqt8+jYyYgR074ipc",
      "include_colab_link": true
    },
    "kernelspec": {
      "name": "python3",
      "display_name": "Python 3"
    },
    "language_info": {
      "name": "python"
    }
  },
  "cells": [
    {
      "cell_type": "markdown",
      "metadata": {
        "id": "view-in-github",
        "colab_type": "text"
      },
      "source": [
        "<a href=\"https://colab.research.google.com/github/dyx4liss/Labs/blob/main/lab7.ipynb\" target=\"_parent\"><img src=\"https://colab.research.google.com/assets/colab-badge.svg\" alt=\"Open In Colab\"/></a>"
      ]
    },
    {
      "cell_type": "markdown",
      "source": [
        "7.2.1."
      ],
      "metadata": {
        "id": "ZSkxIAFmmwfl"
      }
    },
    {
      "cell_type": "code",
      "execution_count": 1,
      "metadata": {
        "colab": {
          "base_uri": "https://localhost:8080/"
        },
        "id": "eg-KkcWiliHY",
        "outputId": "18b505a0-7547-4935-b424-5715e025d73a"
      },
      "outputs": [
        {
          "output_type": "execute_result",
          "data": {
            "text/plain": [
              "1"
            ]
          },
          "metadata": {},
          "execution_count": 1
        }
      ],
      "source": [
        "def sum_of_digits(n):\n",
        "    \"\"\"Вернуть сумму цифр меньших 5 для положительного целого числа n.\n",
        "    Если таких цифр нет, вернуть 0.\"\"\"\n",
        "    c = 0\n",
        "    while n > 0:\n",
        "        digit = n % 10      #не то действие деления\n",
        "        if digit < 5:\n",
        "            c = c + digit   #прибавлялось не то число\n",
        "        n //= 10\n",
        "    return c                #вовзвращалась не та переменная\n",
        "\n",
        "sum_of_digits(16)"
      ]
    },
    {
      "cell_type": "code",
      "source": [
        "help(sum_of_digits)"
      ],
      "metadata": {
        "colab": {
          "base_uri": "https://localhost:8080/"
        },
        "id": "VuSMJZ2wyYey",
        "outputId": "9cf6efb2-9681-4d55-cc60-64072f8ddbc3"
      },
      "execution_count": 4,
      "outputs": [
        {
          "output_type": "stream",
          "name": "stdout",
          "text": [
            "Help on function sum_of_digits in module __main__:\n",
            "\n",
            "sum_of_digits(n)\n",
            "    Вернуть сумму цифр меньших 5 для положительного целого числа n.\n",
            "    Если таких цифр нет, вернуть 0.\n",
            "\n"
          ]
        }
      ]
    },
    {
      "cell_type": "markdown",
      "source": [
        "7.2.2."
      ],
      "metadata": {
        "id": "yO0N8ubum39J"
      }
    },
    {
      "cell_type": "code",
      "source": [
        "def primes(a, b):\n",
        "    \"\"\"Вернуть список простых чисел на отрезке от 'a' до 'b'.\"\"\"\n",
        "    res = []\n",
        "    c = 0\n",
        "    for i in range(a, b+1):           #прибавить к b единицу, чтобы b включалось\n",
        "        for j in range(i+1):          #также прибавить 1\n",
        "            if i % (j + 1) == 0:\n",
        "                c += 1\n",
        "        if c == 2:                    #неверная табуляция\n",
        "                res.append(i)\n",
        "        else:                         #вернуть с\n",
        "          c = 0\n",
        "\n",
        "    return res\n",
        "primes(11,13)"
      ],
      "metadata": {
        "colab": {
          "base_uri": "https://localhost:8080/"
        },
        "id": "dLFzfmiTmwVN",
        "outputId": "a1cf207b-6cb0-4a5d-c222-74a4d99efcc0"
      },
      "execution_count": 2,
      "outputs": [
        {
          "output_type": "execute_result",
          "data": {
            "text/plain": [
              "[11, 13]"
            ]
          },
          "metadata": {},
          "execution_count": 2
        }
      ]
    },
    {
      "cell_type": "code",
      "source": [
        "help(primes)"
      ],
      "metadata": {
        "colab": {
          "base_uri": "https://localhost:8080/"
        },
        "id": "D7_tkP4nycm9",
        "outputId": "e1df50c4-dbd1-4aa1-a4cd-a9f783f2155f"
      },
      "execution_count": 5,
      "outputs": [
        {
          "output_type": "stream",
          "name": "stdout",
          "text": [
            "Help on function primes in module __main__:\n",
            "\n",
            "primes(a, b)\n",
            "    Вернуть список простых чисел на отрезке от 'a' до 'b'.\n",
            "\n"
          ]
        }
      ]
    },
    {
      "cell_type": "markdown",
      "source": [
        "7.2.3 "
      ],
      "metadata": {
        "id": "Hgjs-sS6stz3"
      }
    },
    {
      "cell_type": "code",
      "source": [
        "def first_vacant_row(seats):\n",
        "    \"\"\"Вернуть первый ряд, в котором имеется больше всего\n",
        "    свободных мест и их количество.\n",
        "\n",
        "    Возвращаемая нумерация рядов с 1. Если свободных мест нет, вернуть 0, 0.\n",
        "\n",
        "    Параметры:\n",
        "        - seats (list of list): информация о проданных билетах\n",
        "                                (1 - продано, 0 - нет).\n",
        "\n",
        "    Результат:\n",
        "        - tuple (ряд, количество мест).\n",
        "    \"\"\"\n",
        "    max_count = 0\n",
        "    max_row = 0\n",
        "    for row_index, row in enumerate(seats, start = 1):    #пропущено start=1\n",
        "      available_seats_count = row.count(0)                # 0 - пусто\n",
        "      if available_seats_count > max_count:               #неправильный знак\n",
        "        max_row = row_index\n",
        "        max_count = available_seats_count\n",
        "\n",
        "    return max_row, max_count\n",
        "import random\n",
        "random.seed(50)\n",
        "\n",
        "ROWS_MAX = 10\n",
        "SEATS_MAX = 5\n",
        "seats = [[random.randint(0, 1) for seat in range(SEATS_MAX)]\n",
        "                               for row in range(ROWS_MAX)]\n",
        "for seat in seats:\n",
        "  print(seat)\n",
        "print(first_vacant_row(seats))"
      ],
      "metadata": {
        "colab": {
          "base_uri": "https://localhost:8080/"
        },
        "id": "DtJctVLwsiTN",
        "outputId": "bd7f5ea8-0b04-40a8-a543-f70330e06f87"
      },
      "execution_count": 9,
      "outputs": [
        {
          "output_type": "stream",
          "name": "stdout",
          "text": [
            "[1, 1, 1, 0, 1]\n",
            "[1, 0, 1, 0, 0]\n",
            "[0, 1, 0, 1, 1]\n",
            "[0, 0, 0, 1, 1]\n",
            "[0, 0, 1, 1, 0]\n",
            "[0, 1, 1, 1, 0]\n",
            "[0, 1, 1, 1, 0]\n",
            "[1, 0, 0, 1, 0]\n",
            "[1, 1, 0, 1, 1]\n",
            "[0, 1, 0, 0, 1]\n",
            "(2, 3)\n"
          ]
        }
      ]
    },
    {
      "cell_type": "code",
      "source": [
        "help(first_vacant_row)"
      ],
      "metadata": {
        "colab": {
          "base_uri": "https://localhost:8080/"
        },
        "id": "OEbOgCUHzMfQ",
        "outputId": "67ce0813-7e0d-423f-fdcf-0fc185c8c755"
      },
      "execution_count": 10,
      "outputs": [
        {
          "output_type": "stream",
          "name": "stdout",
          "text": [
            "Help on function first_vacant_row in module __main__:\n",
            "\n",
            "first_vacant_row(seats)\n",
            "    Вернуть первый ряд, в котором имеется больше всего\n",
            "    свободных мест и их количество.\n",
            "    \n",
            "    Возвращаемая нумерация рядов с 1. Если свободных мест нет, вернуть 0, 0.\n",
            "    \n",
            "    Параметры:\n",
            "        - seats (list of list): информация о проданных билетах\n",
            "                                (1 - продано, 0 - нет).\n",
            "    \n",
            "    Результат:\n",
            "        - tuple (ряд, количество мест).\n",
            "\n"
          ]
        }
      ]
    },
    {
      "cell_type": "markdown",
      "source": [
        "7.2.4"
      ],
      "metadata": {
        "id": "qeycmWjozAr0"
      }
    },
    {
      "cell_type": "code",
      "source": [
        "def min_pair(nums):\n",
        "    \"\"\"Вернуть минимальную сумму соседних 2-х чисел в списке 'nums'.\"\"\"\n",
        "    min1 = nums[0] * nums[1]                    #неверно задано имя\n",
        "    for i in range(-1, len(nums)):              #неправильно задан промежуток\n",
        "        min1 = min(nums[i-1] + nums[i], min1)\n",
        "\n",
        "    return min1\n",
        "\n",
        "import random\n",
        "\n",
        "random.seed(50)\n",
        "\n",
        "N_MAX = 10\n",
        "RANGE_MIN = 1\n",
        "RANGE_MAX = 100\n",
        "nums = random.sample(range(RANGE_MIN, RANGE_MAX), N_MAX)\n",
        "\n",
        "print(nums)\n",
        "\n",
        "print(min_pair(nums))"
      ],
      "metadata": {
        "colab": {
          "base_uri": "https://localhost:8080/"
        },
        "id": "PWMoaT-qzJoA",
        "outputId": "f7922d5d-3951-4ca6-aa0c-60d36b22e603"
      },
      "execution_count": 11,
      "outputs": [
        {
          "output_type": "stream",
          "name": "stdout",
          "text": [
            "[64, 35, 47, 82, 32, 89, 61, 99, 43, 11]\n",
            "54\n"
          ]
        }
      ]
    },
    {
      "cell_type": "code",
      "source": [
        "help(min_pair)"
      ],
      "metadata": {
        "colab": {
          "base_uri": "https://localhost:8080/"
        },
        "id": "vpM3tJTkzhqu",
        "outputId": "493d6686-6d00-4790-d497-c0ecf9b51dd6"
      },
      "execution_count": 12,
      "outputs": [
        {
          "output_type": "stream",
          "name": "stdout",
          "text": [
            "Help on function min_pair in module __main__:\n",
            "\n",
            "min_pair(nums)\n",
            "    Вернуть минимальную сумму соседних 2-х чисел в списке 'nums'.\n",
            "\n"
          ]
        }
      ]
    },
    {
      "cell_type": "markdown",
      "source": [
        "7.2.5"
      ],
      "metadata": {
        "id": "wUbwi20O0AT3"
      }
    },
    {
      "cell_type": "code",
      "source": [
        "def non_negatives(nums):\n",
        "    \"\"\"Удалить из списка чисел 'nums' отрицательные элементы и вернуть\n",
        "    измененный список.\"\"\"\n",
        "    for i in reversed(range(len(nums))):  #обратный порядок\n",
        "        if nums[i] < 0:\n",
        "            del nums[i]\n",
        "\n",
        "    return nums\n",
        "\n",
        "\n",
        "import random\n",
        "\n",
        "n = 10\n",
        "nums = [round(random.uniform(-10, 10), 2) for i in range(n)]\n",
        "print(nums)\n",
        "\n",
        "non_negatives(nums)\n",
        "print(nums)"
      ],
      "metadata": {
        "id": "3GQbcCvEz-UW"
      },
      "execution_count": null,
      "outputs": []
    },
    {
      "cell_type": "code",
      "source": [
        "help(non_negatives)"
      ],
      "metadata": {
        "id": "ymSSLu-50DZb"
      },
      "execution_count": null,
      "outputs": []
    },
    {
      "cell_type": "markdown",
      "source": [
        "7.2.7"
      ],
      "metadata": {
        "id": "qTPUwtaeo8Bp"
      }
    },
    {
      "cell_type": "code",
      "source": [
        "\"\"\"Ошибки (номера строк через пробел, данная строка - №2): 9 10 \n",
        "\"\"\"\n",
        "def power(x, y=2):\n",
        "  \"\"\"Вернуть х^y\"\"\"\n",
        "  if y == 0:\n",
        "    return 1 \n",
        "  else: \n",
        "    return x * power(x,y - 1)\n",
        "\n",
        "try:\n",
        "  x = int(input(\"x=\"))\n",
        "  y = int(input(\"x=\"))\n",
        "  print(power(x,y))\n",
        "except Exception as err:\n",
        "  print(\"Произошла ошибка!\")\n",
        "  print(\"Тип:\", type(err))\n",
        "  print(\"Описание:\", err)"
      ],
      "metadata": {
        "colab": {
          "base_uri": "https://localhost:8080/"
        },
        "id": "IapzPs59o7b-",
        "outputId": "4902e91b-8c86-4c0c-c3d5-502f47f14d31"
      },
      "execution_count": 3,
      "outputs": [
        {
          "output_type": "stream",
          "name": "stdout",
          "text": [
            "x=2\n",
            "x=2\n",
            "4\n"
          ]
        }
      ]
    },
    {
      "cell_type": "code",
      "source": [
        "help(power)"
      ],
      "metadata": {
        "colab": {
          "base_uri": "https://localhost:8080/"
        },
        "id": "BroyFFzVyoyz",
        "outputId": "e93895ea-84a4-492f-b97d-b2f402289797"
      },
      "execution_count": 7,
      "outputs": [
        {
          "output_type": "stream",
          "name": "stdout",
          "text": [
            "Help on function power in module __main__:\n",
            "\n",
            "power(x, y=2)\n",
            "    Вернуть х^y\n",
            "\n"
          ]
        }
      ]
    }
  ]
}