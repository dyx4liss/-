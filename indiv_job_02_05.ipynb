{
  "nbformat": 4,
  "nbformat_minor": 0,
  "metadata": {
    "colab": {
      "provenance": [],
      "authorship_tag": "ABX9TyNi+I/pdOMI2WOTuSSHL+Tn",
      "include_colab_link": true
    },
    "kernelspec": {
      "name": "python3",
      "display_name": "Python 3"
    },
    "language_info": {
      "name": "python"
    }
  },
  "cells": [
    {
      "cell_type": "markdown",
      "metadata": {
        "id": "view-in-github",
        "colab_type": "text"
      },
      "source": [
        "<a href=\"https://colab.research.google.com/github/dyx4liss/Labs/blob/main/indiv_job_02_05.ipynb\" target=\"_parent\"><img src=\"https://colab.research.google.com/assets/colab-badge.svg\" alt=\"Open In Colab\"/></a>"
      ]
    },
    {
      "cell_type": "markdown",
      "source": [
        "# Задание 1.\n",
        "Напишите функцию recursive_sum, которая находит сумму всех позиционных аргументов.\n",
        "Примечание\n",
        "Ваше решение должно содержать только функции.\n",
        "В решении не должно быть вызовов требуемых функций, за исключением рекурсивных.\n",
        "Трассировка вызова рекурсивной функции в обработке ответа не учитывается и показан для примера."
      ],
      "metadata": {
        "id": "qafBLztAWHEB"
      }
    },
    {
      "cell_type": "code",
      "execution_count": 1,
      "metadata": {
        "colab": {
          "base_uri": "https://localhost:8080/"
        },
        "id": "OL_EY7ElUNwb",
        "outputId": "33420c94-904d-481d-c0ba-9aec4dc255ce"
      },
      "outputs": [
        {
          "output_type": "stream",
          "name": "stdout",
          "text": [
            "Время работы: 0.0002162456512451172 секунд\n",
            "Используемая память: 192 Байт\n"
          ]
        }
      ],
      "source": [
        "import time\n",
        "import sys\n",
        "start = time.time()\n",
        "def recursive_sum(*args):\n",
        "  if not args:\n",
        "    return 0\n",
        "  else:\n",
        "    return args[0] + recursive_sum(*args[1:])\n",
        "end = time.time() - start\n",
        "memory_usage = sys.getsizeof(start)+sys.getsizeof(recursive_sum)+sys.getsizeof(end)\n",
        "\n",
        "if __name__ == \"__main__\":\n",
        "  print(\"Время работы:\", end, \"секунд\")\n",
        "  print(\"Используемая память:\", memory_usage , \"Байт\")"
      ]
    },
    {
      "cell_type": "markdown",
      "source": [
        "# Задание 2.\n",
        "Декор результата\n",
        "Напишите декоратор answer, который\n",
        "преобразует функцию, принимающую\n",
        "неограниченное число позиционных и\n",
        "именованных параметров и\n",
        "возвращает её результат с припиской\n",
        "\"Результат функции: <значение>\".\n",
        "Примечание\n",
        "Ваше решение должно содержать только\n",
        "функции.\n",
        "В решении не должно быть вызовов\n",
        "требуемых функций."
      ],
      "metadata": {
        "id": "Qp0sNNLAWuQS"
      }
    },
    {
      "cell_type": "code",
      "source": [
        "start = time.time()\n",
        "def answer(func):\n",
        "    def wrapper(*args, **kwargs):\n",
        "        result = func(*args, **kwargs)\n",
        "        return f\"Результат функции: {result}\"\n",
        "    return wrapper\n",
        "\n",
        "\n",
        "@answer\n",
        "def a_plus_b(a, b):\n",
        "    return a + b\n",
        "\n",
        "print(a_plus_b(3, 5))\n",
        "print(a_plus_b(7, 9))\n",
        "\n",
        "@answer\n",
        "def get_letters(text: str) -> str:\n",
        "  return ''.join(sorted(set(filter(str.isalpha, text.lower()))))\n",
        "print(get_letters('Hello, world!'))\n",
        "print(get_letters('Декораторы это круто =)'))\n",
        "\n",
        "end = time.time() - start\n",
        "\n",
        "memory_usage = sys.getsizeof(a_plus_b)+sys.getsizeof(get_letters) +sys.getsizeof(start)+sys.getsizeof(end)+sys.getsizeof(answer)\n",
        "\n",
        "if __name__ == \"__main__\":\n",
        "  print(\"Время работы:\", end, \"секунд\")\n",
        "  print(\"Используемая память:\", memory_usage , \"Байт\")"
      ],
      "metadata": {
        "colab": {
          "base_uri": "https://localhost:8080/"
        },
        "id": "KT2QqIY0W88x",
        "outputId": "8cf76e08-9908-48fa-91f9-3c12517681ab"
      },
      "execution_count": 2,
      "outputs": [
        {
          "output_type": "stream",
          "name": "stdout",
          "text": [
            "Результат функции: 8\n",
            "Результат функции: 16\n",
            "Результат функции: dehlorw\n",
            "Результат функции: адекортуыэ\n",
            "Время работы: 0.008474349975585938 секунд\n",
            "Используемая память: 480 Байт\n"
          ]
        }
      ]
    },
    {
      "cell_type": "markdown",
      "source": [
        "# Задание 3.\n",
        "Напишите декоратор text_decor,\n",
        "который оборачивает вызов\n",
        "декорированной функции\n",
        "фразами «Hello» и «Goodbye!»:\n",
        "фраза «Hello» печатается до вызова,\n",
        "фраза «Goodbye!» - после\n"
      ],
      "metadata": {
        "id": "u9TldxzNaCkf"
      }
    },
    {
      "cell_type": "code",
      "source": [
        "start = time.time()\n",
        "def text_decor(func):       \n",
        "    def wrapper(*args, **kwargs):\n",
        "        print('Hello')         \n",
        "        func(*args, **kwargs)   \n",
        "        print('Goodbye!')       \n",
        "    return wrapper\n",
        "\n",
        "@text_decor\n",
        "def simple_func():\n",
        "  print('I just simple python func')\n",
        "\n",
        "@text_decor\n",
        "def multiply(num1, num2):\n",
        "  print(num1 * num2)\n",
        "\n",
        "end = time.time() - start\n",
        "memory_usage = sys.getsizeof(start)+sys.getsizeof(text_decor)+sys.getsizeof(simple_func)\n",
        "\n",
        "if __name__ == \"__main__\":\n",
        "  print(\"Время работы:\", end, \"секунд\")\n",
        "  print(\"Используемая память:\", memory_usage , \"Байт\")"
      ],
      "metadata": {
        "colab": {
          "base_uri": "https://localhost:8080/"
        },
        "id": "ZcWPUNXwaJ1o",
        "outputId": "03f646de-439e-4240-f47c-778d3394a934"
      },
      "execution_count": 3,
      "outputs": [
        {
          "output_type": "stream",
          "name": "stdout",
          "text": [
            "Время работы: 0.0003304481506347656 секунд\n",
            "Используемая память: 312 Байт\n"
          ]
        }
      ]
    },
    {
      "cell_type": "markdown",
      "source": [
        "# Задание 4. \n",
        "Напишите декоратор repeater, который дважды вызывает декорированную функцию @repeater\n",
        "\n",
        "def multiply(num1, num2):\n",
        "\n",
        "print(num1 * num2)\n",
        "\n",
        "multiply(2, 7) # после этого распечатается две строки со значением 14\n",
        "\n",
        "multiply(5, 3) # после этого распечатается две строки со значением 15"
      ],
      "metadata": {
        "id": "Me-s6fiCaeZH"
      }
    },
    {
      "cell_type": "code",
      "source": [
        "start = time.time()\n",
        "\n",
        "def repeater(func):\n",
        "    def wrapper(*args, **kwargs):\n",
        "        func(*args, **kwargs) \n",
        "        func(*args, **kwargs)   \n",
        "    return wrapper\n",
        "\n",
        "@repeater\n",
        "def multiply(num1, num2):\n",
        "  print(num1 * num2)\n",
        "\n",
        "end = time.time() - start\n",
        "memory_usage = sys.getsizeof(start)+sys.getsizeof(repeater)+sys.getsizeof(multiply)\n",
        "\n",
        "if __name__ == \"__main__\":\n",
        "  print(\"Время работы:\", end, \"секунд\")\n",
        "  print(\"Используемая память:\", memory_usage , \"Байт\")"
      ],
      "metadata": {
        "colab": {
          "base_uri": "https://localhost:8080/"
        },
        "id": "5EsF3ni4a0kV",
        "outputId": "38d8cfde-2cbe-436c-abc6-a37b46cdc3f1"
      },
      "execution_count": 4,
      "outputs": [
        {
          "output_type": "stream",
          "name": "stdout",
          "text": [
            "Время работы: 0.00022745132446289062 секунд\n",
            "Используемая память: 312 Байт\n"
          ]
        }
      ]
    },
    {
      "cell_type": "markdown",
      "source": [
        "# Задача 5.\n",
        "\n",
        "Напишите декоратор double_it, который возвращает удвоенный результат вызова декорированной функции. Самостоятельно реализовать вывод\n",
        "параметров:\n",
        "Ваша задача написать только\n",
        "определение функции\n",
        "декоратора double_it"
      ],
      "metadata": {
        "id": "0xLmyhBFdUgP"
      }
    },
    {
      "cell_type": "code",
      "source": [
        "start = time.time()\n",
        "def double_it(func):\n",
        "    def inner(*args, **kwargs):\n",
        "        return func(*args, **kwargs) * 2\n",
        "    return inner\n",
        "\n",
        "@double_it\n",
        "def multiply(num1, num2):\n",
        "  return num1 * num2\n",
        "\n",
        "@double_it\n",
        "def get_sum(*args):\n",
        "  return sum(args)\n",
        "\n",
        "end = time.time() - start\n",
        "\n",
        "if __name__ == \"__main__\":\n",
        "  print(\"Время работы:\", end, \"секунд\")\n",
        "  print(\"Используемая память:\", memory_usage , \"Байт\")"
      ],
      "metadata": {
        "colab": {
          "base_uri": "https://localhost:8080/"
        },
        "id": "PcObVGDQdkNO",
        "outputId": "253e93b5-2e48-497a-a54c-54d2de4de917"
      },
      "execution_count": 5,
      "outputs": [
        {
          "output_type": "stream",
          "name": "stdout",
          "text": [
            "Время работы: 0.00023674964904785156 секунд\n",
            "Используемая память: 312 Байт\n"
          ]
        }
      ]
    },
    {
      "cell_type": "markdown",
      "source": [
        "# Задача 6.\n",
        "\n",
        "Напишите декоратор add_args, который добавляет к переданным аргументам еще два значения: строку\n",
        "begin в начало аргументов, строку end в конец. Также декоратор должен сохранить первоначальное имя\n",
        "декорируемой функцию и ее строку документации."
      ],
      "metadata": {
        "id": "BeKbi8UfdoNG"
      }
    },
    {
      "cell_type": "code",
      "source": [
        "start = time.time()\n",
        "\n",
        "def add_args(func):\n",
        "  def wrapper(*args, **kwargs):\n",
        "    args = ('begin',) + args + ('end',)\n",
        "    return args\n",
        "  wrapper.__name__ = func.__name__\n",
        "  wrapper.__doc__ = func.__doc__\n",
        "  return wrapper\n",
        "\n",
        "@add_args\n",
        "def my_func(list1):\n",
        "  \"\"\"Сейчас к этой функции добавятся по элементу в начало и конец\"\"\"\n",
        "  list1 = []\n",
        "  return list1\n",
        "\n",
        "print(my_func.__doc__)\n",
        "print(my_func('hello','my','name','is','Kirill'))\n",
        "\n",
        "end = time.time() - start\n",
        "memory_usage = sys.getsizeof(add_args)+sys.getsizeof(my_func)\n",
        "\n",
        "if __name__ == \"__main__\":\n",
        "  print(\"Время работы:\", end, \"секунд\")\n",
        "  print(\"Используемая память:\", memory_usage , \"Байт\")\n",
        "  print('Название функции', my_func.__name__)\n"
      ],
      "metadata": {
        "colab": {
          "base_uri": "https://localhost:8080/"
        },
        "id": "QcxdGomUdpyP",
        "outputId": "8d93a88b-f625-4b5a-951f-c36f1a9839e7"
      },
      "execution_count": 6,
      "outputs": [
        {
          "output_type": "stream",
          "name": "stdout",
          "text": [
            "Сейчас к этой функции добавятся по элементу в начало и конец\n",
            "('begin', 'hello', 'my', 'name', 'is', 'Kirill', 'end')\n",
            "Время работы: 0.0005402565002441406 секунд\n",
            "Используемая память: 288 Байт\n",
            "Название функции my_func\n"
          ]
        }
      ]
    },
    {
      "cell_type": "markdown",
      "source": [
        "# Задача 7.\n",
        "\n",
        "Напишите декоратор validate_args, который валидирует (проверяет на корректность) переданные\n",
        "аргументы. Аргументы нужно проверить на следующее:\n",
        "1. Должно быть передано именно два аргумента. Если передано меньшее количество, декоратор должен вернуть\n",
        "строку\n",
        "Not enough arguments\n",
        "Если передано более двух аргументов, то возвращаем строку\n",
        "Too many arguments\n",
        "2. Оба аргумента должны быть целыми числами. Если хотя бы одно из них не целое число, возвращаем строку\n",
        "Wrong types\n",
        "Если обе проверки выполняются, возвращаем результат декорируемой функции. Не забывайте сохранять имя\n",
        "функции и строку документации\n",
        "Проверки нужно выполнять в том порядке, в котором они перечислены"
      ],
      "metadata": {
        "id": "dvrqqiCUf-2i"
      }
    },
    {
      "cell_type": "code",
      "source": [],
      "metadata": {
        "id": "GPzGEFMMgFMC"
      },
      "execution_count": null,
      "outputs": []
    }
  ]
}