{
  "nbformat": 4,
  "nbformat_minor": 0,
  "metadata": {
    "colab": {
      "provenance": [],
      "authorship_tag": "ABX9TyMqEJYiHo7PMxA0an7nSuzX",
      "include_colab_link": true
    },
    "kernelspec": {
      "name": "python3",
      "display_name": "Python 3"
    },
    "language_info": {
      "name": "python"
    }
  },
  "cells": [
    {
      "cell_type": "markdown",
      "metadata": {
        "id": "view-in-github",
        "colab_type": "text"
      },
      "source": [
        "<a href=\"https://colab.research.google.com/github/dyx4liss/Labs/blob/main/indiv_job_02_05.ipynb\" target=\"_parent\"><img src=\"https://colab.research.google.com/assets/colab-badge.svg\" alt=\"Open In Colab\"/></a>"
      ]
    },
    {
      "cell_type": "markdown",
      "source": [
        "# Задание 1.\n",
        "Напишите функцию recursive_sum, которая находит сумму всех позиционных аргументов.\n",
        "Примечание\n",
        "Ваше решение должно содержать только функции.\n",
        "В решении не должно быть вызовов требуемых функций, за исключением рекурсивных.\n",
        "Трассировка вызова рекурсивной функции в обработке ответа не учитывается и показан для примера."
      ],
      "metadata": {
        "id": "qafBLztAWHEB"
      }
    },
    {
      "cell_type": "code",
      "execution_count": null,
      "metadata": {
        "id": "OL_EY7ElUNwb"
      },
      "outputs": [],
      "source": [
        "import time\n",
        "import sys\n",
        "start = time.time()\n",
        "def recursive_sum(*args):\n",
        "  if not args:\n",
        "    return 0\n",
        "  else:\n",
        "    return args[0] + recursive_sum(*args[1:])\n",
        "end = time.time() - start\n",
        "memory_usage = sys.getsizeof(start)+sys.getsizeof(recursive_sum)+sys.getsizeof(end)\n",
        "\n",
        "if __name__ == \"__main__\":\n",
        "  print(\"Время работы:\", end, \"секунд\")\n",
        "  print(\"Используемая память:\", memory_usage , \"Байт\")"
      ]
    },
    {
      "cell_type": "markdown",
      "source": [
        "# Задание 2.\n",
        "Декор результата\n",
        "Напишите декоратор answer, который\n",
        "преобразует функцию, принимающую\n",
        "неограниченное число позиционных и\n",
        "именованных параметров и\n",
        "возвращает её результат с припиской\n",
        "\"Результат функции: <значение>\".\n",
        "Примечание\n",
        "Ваше решение должно содержать только\n",
        "функции.\n",
        "В решении не должно быть вызовов\n",
        "требуемых функций."
      ],
      "metadata": {
        "id": "Qp0sNNLAWuQS"
      }
    },
    {
      "cell_type": "code",
      "source": [
        "start = time.time()\n",
        "def answer(func):\n",
        "    def wrapper(*args, **kwargs):\n",
        "        result = func(*args, **kwargs)\n",
        "        return f\"Результат функции: {result}\"\n",
        "    return wrapper\n",
        "\n",
        "\n",
        "@answer\n",
        "def a_plus_b(a, b):\n",
        "    return a + b\n",
        "\n",
        "print(a_plus_b(3, 5))\n",
        "print(a_plus_b(7, 9))\n",
        "\n",
        "@answer\n",
        "def get_letters(text: str) -> str:\n",
        "  return ''.join(sorted(set(filter(str.isalpha, text.lower()))))\n",
        "print(get_letters('Hello, world!'))\n",
        "print(get_letters('Декораторы это круто =)'))\n",
        "\n",
        "end = time.time() - start\n",
        "\n",
        "memory_usage = sys.getsizeof(a_plus_b)+sys.getsizeof(get_letters) +sys.getsizeof(start)+sys.getsizeof(end)+sys.getsizeof(answer)\n",
        "\n",
        "if __name__ == \"__main__\":\n",
        "  print(\"Время работы:\", end, \"секунд\")\n",
        "  print(\"Используемая память:\", memory_usage , \"Байт\")"
      ],
      "metadata": {
        "id": "KT2QqIY0W88x"
      },
      "execution_count": null,
      "outputs": []
    },
    {
      "cell_type": "markdown",
      "source": [
        "# Задание 3.\n",
        "Напишите декоратор text_decor,\n",
        "который оборачивает вызов\n",
        "декорированной функции\n",
        "фразами «Hello» и «Goodbye!»:\n",
        "фраза «Hello» печатается до вызова,\n",
        "фраза «Goodbye!» - после\n"
      ],
      "metadata": {
        "id": "u9TldxzNaCkf"
      }
    },
    {
      "cell_type": "code",
      "source": [
        "start = time.time()\n",
        "def text_decor(func):       \n",
        "    def wrapper(*args, **kwargs):\n",
        "        print('Hello')         \n",
        "        func(*args, **kwargs)   \n",
        "        print('Goodbye!')       \n",
        "    return wrapper\n",
        "\n",
        "@text_decor\n",
        "def simple_func():\n",
        "  print('I just simple python func')\n",
        "\n",
        "@text_decor\n",
        "def multiply(num1, num2):\n",
        "  print(num1 * num2)\n",
        "\n",
        "end = time.time() - start\n",
        "memory_usage = sys.getsizeof(start)+sys.getsizeof(text_decor)+sys.getsizeof(simple_func)\n",
        "\n",
        "if __name__ == \"__main__\":\n",
        "  print(\"Время работы:\", end, \"секунд\")\n",
        "  print(\"Используемая память:\", memory_usage , \"Байт\")"
      ],
      "metadata": {
        "id": "ZcWPUNXwaJ1o"
      },
      "execution_count": null,
      "outputs": []
    },
    {
      "cell_type": "markdown",
      "source": [
        "# Задание 4. \n",
        "Напишите декоратор repeater, который дважды вызывает декорированную функцию @repeater\n",
        "\n",
        "def multiply(num1, num2):\n",
        "\n",
        "print(num1 * num2)\n",
        "\n",
        "multiply(2, 7) # после этого распечатается две строки со значением 14\n",
        "\n",
        "multiply(5, 3) # после этого распечатается две строки со значением 15"
      ],
      "metadata": {
        "id": "Me-s6fiCaeZH"
      }
    },
    {
      "cell_type": "code",
      "source": [
        "start = time.time()\n",
        "\n",
        "def repeater(func):\n",
        "    def wrapper(*args, **kwargs):\n",
        "        func(*args, **kwargs) \n",
        "        func(*args, **kwargs)   \n",
        "    return wrapper\n",
        "\n",
        "@repeater\n",
        "def multiply(num1, num2):\n",
        "  print(num1 * num2)\n",
        "\n",
        "end = time.time() - start\n",
        "memory_usage = sys.getsizeof(start)+sys.getsizeof(repeater)+sys.getsizeof(multiply)\n",
        "\n",
        "if __name__ == \"__main__\":\n",
        "  print(\"Время работы:\", end, \"секунд\")\n",
        "  print(\"Используемая память:\", memory_usage , \"Байт\")"
      ],
      "metadata": {
        "id": "5EsF3ni4a0kV"
      },
      "execution_count": null,
      "outputs": []
    }
  ]
}