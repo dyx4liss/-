{
  "nbformat": 4,
  "nbformat_minor": 0,
  "metadata": {
    "colab": {
      "provenance": [],
      "authorship_tag": "ABX9TyNU2lW60e42+3G0kLKLwhC7",
      "include_colab_link": true
    },
    "kernelspec": {
      "name": "python3",
      "display_name": "Python 3"
    },
    "language_info": {
      "name": "python"
    }
  },
  "cells": [
    {
      "cell_type": "markdown",
      "metadata": {
        "id": "view-in-github",
        "colab_type": "text"
      },
      "source": [
        "<a href=\"https://colab.research.google.com/github/dyx4liss/Labs/blob/main/indiv_job_30_05.ipynb\" target=\"_parent\"><img src=\"https://colab.research.google.com/assets/colab-badge.svg\" alt=\"Open In Colab\"/></a>"
      ]
    },
    {
      "cell_type": "markdown",
      "source": [
        "# 1. Сумма нечетных элементов\n",
        "\n",
        "---\n",
        "\n",
        "\n",
        "С помощью списковых включений вычислите сумму всех нечетных (по значению)\n",
        "элементов списка."
      ],
      "metadata": {
        "id": "lA7eTW-2YXDW"
      }
    },
    {
      "cell_type": "code",
      "execution_count": 6,
      "metadata": {
        "colab": {
          "base_uri": "https://localhost:8080/"
        },
        "id": "yieXRNqBYWE3",
        "outputId": "364f9d80-b830-45c9-c2ac-feaa506a4ee2"
      },
      "outputs": [
        {
          "output_type": "stream",
          "name": "stdout",
          "text": [
            "15\n"
          ]
        }
      ],
      "source": [
        "def sum_odds(v: list[int]) -> int:\n",
        "    return sum([x for x in v if x % 2 != 0]) # выбраит все нечетные элементы из списка и суммируем их\n",
        "\n",
        "L = [3, 7, 2, 4, 5, 6]\n",
        "print(sum_odds(L)) # 15"
      ]
    },
    {
      "cell_type": "markdown",
      "source": [
        "Здесь мы используем списковое включение `[x for x in v if x % 2 != 0]`, чтобы выбрать все нечетные элементы из списка `v`. Затем мы используем функцию `sum()` для вычисления суммы выбранных элементов."
      ],
      "metadata": {
        "id": "-ZiT1_t5cz3u"
      }
    },
    {
      "cell_type": "markdown",
      "source": [
        "# 2. Сумма по строкам\n",
        "\n",
        "---\n",
        "\n",
        "\n",
        "Пусть дана прямоугольная матрица чисел matrix в виде списка списков. Верните список\n",
        "сумм каждой из строк этой матрицы (эквивалент np.sum (matrix, axis=1))."
      ],
      "metadata": {
        "id": "g8141v0nYqnY"
      }
    },
    {
      "cell_type": "code",
      "source": [
        "def rowwise_sum(matrix: list[list[float]]) -> list[float]:\n",
        "    return [sum(row) for row in matrix] # вычисление суммы строки каждой матрицы\n",
        "\n",
        "matrix = [[1, 2], [3, 4]]\n",
        "print(rowwise_sum(matrix)) # [3, 7]"
      ],
      "metadata": {
        "colab": {
          "base_uri": "https://localhost:8080/"
        },
        "id": "qStF3NIjYq9q",
        "outputId": "fb905744-0a73-456f-80df-ce2f9c6613b3"
      },
      "execution_count": 5,
      "outputs": [
        {
          "output_type": "stream",
          "name": "stdout",
          "text": [
            "[3, 7]\n"
          ]
        }
      ]
    },
    {
      "cell_type": "markdown",
      "source": [
        "# 3. Итератор по соседним элементам\n",
        "\n",
        "---\n",
        "\n",
        "\n",
        "Реализуйте итератор/генератор, который позволит итерировать сразу парами соседних\n",
        "элементов, т.е. для списка [A, B, C, D]:\n",
        "1. первая итерация A и B — первый и второй элементы списка;\n",
        "2. вторая итерация B и C — второй и третий элементы списка;\n",
        "3. третья и последняя итерация C и D — третий и четвертый элементы списка.\n"
      ],
      "metadata": {
        "id": "UbDegzd8Yrw7"
      }
    },
    {
      "cell_type": "code",
      "source": [
        "def prev_next(iterable):\n",
        "    iterator = iter(iterable) # получаем итератор для переданного объекта\n",
        "    prev = next(iterator) # получаем первый элемент итератора\n",
        "    for item in iterator:\n",
        "        yield (prev, item) # возвращаем пару текущего и предыдущего элементов\n",
        "        prev = item # обновляем значение предыдущего элемента\n",
        "\n",
        "x = [\"A\", \"B\", \"C\", \"D\"]\n",
        "print(list(prev_next(x))) # [(\"A\", \"B\"), (\"B\", \"C\"), (\"C\", \"D\")]"
      ],
      "metadata": {
        "colab": {
          "base_uri": "https://localhost:8080/"
        },
        "id": "UlzMtmEyYrEg",
        "outputId": "64f4ae79-6b47-471a-cb07-8f457f63a9a2"
      },
      "execution_count": 3,
      "outputs": [
        {
          "output_type": "stream",
          "name": "stdout",
          "text": [
            "[('A', 'B'), ('B', 'C'), ('C', 'D')]\n"
          ]
        }
      ]
    },
    {
      "cell_type": "markdown",
      "source": [
        "# 4. Счет вверх и вниз\n",
        "\n",
        "---\n",
        "\n",
        "\n",
        "Напишите генератор, который считает от 0 до n, а затем в обратном порядке. Оба цикла объединяются в один генератор, который возвращает значения в нужном \n"
      ],
      "metadata": {
        "id": "UmxZr3RBa9Sq"
      }
    },
    {
      "cell_type": "code",
      "source": [
        "def UpAndDown(n: int):\n",
        "    for i in range(n+1): # первый цикл от 0 до n\n",
        "        yield i # оператор для возврата значений \n",
        "    for i in range(n-1, -1, -1): # второй цикл от n-1 до 0\n",
        "        yield i # возвращаем каждое значение \n",
        "\n",
        "print(list(UpAndDown(3))) # [0, 1, 2, 3, 2, 1, 0]"
      ],
      "metadata": {
        "colab": {
          "base_uri": "https://localhost:8080/"
        },
        "id": "-mlVTzurbDZ6",
        "outputId": "22db7fbb-b946-4e1d-d107-8a34b9f24b3f"
      },
      "execution_count": 4,
      "outputs": [
        {
          "output_type": "stream",
          "name": "stdout",
          "text": [
            "[0, 1, 2, 3, 2, 1, 0]\n"
          ]
        }
      ]
    }
  ]
}