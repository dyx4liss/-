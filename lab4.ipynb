{
  "nbformat": 4,
  "nbformat_minor": 0,
  "metadata": {
    "colab": {
      "provenance": [],
      "authorship_tag": "ABX9TyOEmjYNyUw+CiyduhVRxW7s",
      "include_colab_link": true
    },
    "kernelspec": {
      "name": "python3",
      "display_name": "Python 3"
    },
    "language_info": {
      "name": "python"
    }
  },
  "cells": [
    {
      "cell_type": "markdown",
      "metadata": {
        "id": "view-in-github",
        "colab_type": "text"
      },
      "source": [
        "<a href=\"https://colab.research.google.com/github/dyx4liss/Labs/blob/main/lab4.ipynb\" target=\"_parent\"><img src=\"https://colab.research.google.com/assets/colab-badge.svg\" alt=\"Open In Colab\"/></a>"
      ]
    },
    {
      "cell_type": "markdown",
      "source": [
        "**Упражнения для самостоятельного выполнения по теме «Полиморфизм»**\n",
        "\n",
        "Построить класс 1-го уровня с указанными в задании полями и методами:\n",
        "- конструктор,\n",
        "- функция, которая определяет “качество” (Q ) по заданной формуле,\n",
        "- вывод информации об объекте.\n",
        "Построить класс-потомок, который содержит дополнительное поле P и\n",
        "перекрывает функцию качества (Q ), выполняя вычисление по новой формуле\n",
        "(Qp). Варианты заданий представлены в таблице 4.1.\n",
        "\n",
        "**Вариант 8.**\n",
        "\n",
        "8. Экзамен:\n",
        "- дисциплина,\n",
        "- число студентов на экзамене,\n",
        "- продолжительность экзамена (ч.).\n",
        "Q = число студентов / продолжительность\n",
        "P: процент двоек\n",
        "Qp = Q*( 100-Р)/100"
      ],
      "metadata": {
        "id": "Vq6d21h-2eD7"
      }
    },
    {
      "cell_type": "code",
      "execution_count": 9,
      "metadata": {
        "colab": {
          "base_uri": "https://localhost:8080/"
        },
        "id": "ZND76eYX2cHx",
        "outputId": "fd25d8f0-5e8e-49f7-af50-bb2e71c4ef8e"
      },
      "outputs": [
        {
          "output_type": "stream",
          "name": "stdout",
          "text": [
            "Предмет: Математика\n",
            "Число студентов на экзамене: 50\n",
            "Продолжительность: 2 часов\n",
            "Процент двоек: 25.0\n",
            "Предмет: История\n",
            "Число студентов на экзамене: 40\n",
            "Продолжительность: 3 часов\n",
            "Процент двоек: 10.666666666666668\n"
          ]
        }
      ],
      "source": [
        "class Exam:\n",
        "    def __init__(self, discipline, num_students, duration): #Класс 1-го уровня:\n",
        "        self.discipline = discipline\n",
        "        self.num_students = num_students\n",
        "        self.duration = duration\n",
        "\n",
        "    def quality(self):\n",
        "        return self.num_students / self.duration\n",
        "\n",
        "    def info(self):\n",
        "        print(f\"Предмет: {self.discipline}\")\n",
        "        print(f\"Число студентов на экзамене: {self.num_students}\")\n",
        "        print(f\"Продолжительность: {self.duration} часов\")\n",
        "\n",
        "\n",
        "class ExamWithGrades(Exam):\n",
        "    def __init__(self, discipline, num_students, duration, percent_fails): #Класс-потомок:\n",
        "        super().__init__(discipline, num_students, duration)\n",
        "        self.percent_fails = percent_fails\n",
        "\n",
        "    def quality(self):\n",
        "        return super().quality() * (100 - self.percent_fails) / 100\n",
        "\n",
        "\n",
        "\n",
        "exam1 = Exam(\"Математика\", 50, 2) #Пример использования:\n",
        "exam1.info()\n",
        "print(\"Процент двоек:\", exam1.quality())\n",
        "\n",
        "exam2 = ExamWithGrades(\"История\", 40, 3, 20)\n",
        "exam2.info()\n",
        "print(\"Процент двоек:\", exam2.quality())\n",
        "\n",
        "\n"
      ]
    },
    {
      "cell_type": "code",
      "source": [
        "class Exam:\n",
        "    def __init__(self, discipline, num_students, duration):\n",
        "        self.discipline = discipline\n",
        "        self.num_students = num_students\n",
        "        self.duration = duration\n",
        "\n",
        "    def quality(self):\n",
        "        success_rate = 100 - self.percent_fails() if hasattr(self, 'percent_fails') else 100\n",
        "        return self.num_students / self.duration * success_rate / 100\n",
        "\n",
        "    def percent_fails(self):\n",
        "        return 0\n",
        "\n",
        "    def info(self):\n",
        "        print(f\"Discipline: {self.discipline}\")\n",
        "        print(f\"Number of students: {self.num_students}\")\n",
        "        print(f\"Duration: {self.duration} hours\")\n",
        "        if hasattr(self, 'percent_fails'):\n",
        "            print(f\"Percent of fails: {self.percent_fails()}%\")\n",
        "\n",
        "\n",
        "\n",
        "\n",
        "class ExamWithGrades(Exam):\n",
        "    def __init__(self, discipline, num_students, duration, percent_fails):\n",
        "        super().__init__(discipline, num_students, duration)\n",
        "        self._percent_fails = percent_fails\n",
        "\n",
        "    def percent_fails(self):\n",
        "        return self._percent_fails\n",
        "\n",
        "\n",
        "\n",
        "exam1 = Exam(\"Math\", 50, 2)\n",
        "exam1.info()\n",
        "print(\"Quality:\", exam1.quality())\n",
        "\n",
        "exam2 = ExamWithGrades(\"History\", 40, 3, 20)\n",
        "exam2.info()\n",
        "print(\"Quality:\", exam2.quality())\n",
        "\n",
        "\n",
        "\n"
      ],
      "metadata": {
        "colab": {
          "base_uri": "https://localhost:8080/"
        },
        "id": "euPB7xua5Ntb",
        "outputId": "6c87ddfa-176b-405b-8a3b-fb0243c9c2e0"
      },
      "execution_count": 11,
      "outputs": [
        {
          "output_type": "stream",
          "name": "stdout",
          "text": [
            "Discipline: Math\n",
            "Number of students: 50\n",
            "Duration: 2 hours\n",
            "Percent of fails: 0%\n",
            "Quality: 25.0\n",
            "Discipline: History\n",
            "Number of students: 40\n",
            "Duration: 3 hours\n",
            "Percent of fails: 20%\n",
            "Quality: 10.666666666666668\n"
          ]
        }
      ]
    }
  ]
}