{
  "nbformat": 4,
  "nbformat_minor": 0,
  "metadata": {
    "colab": {
      "provenance": [],
      "collapsed_sections": [],
      "authorship_tag": "ABX9TyOAEZBW6QbBUDuXEfejq5Lu",
      "include_colab_link": true
    },
    "kernelspec": {
      "name": "python3",
      "display_name": "Python 3"
    },
    "language_info": {
      "name": "python"
    }
  },
  "cells": [
    {
      "cell_type": "markdown",
      "metadata": {
        "id": "view-in-github",
        "colab_type": "text"
      },
      "source": [
        "<a href=\"https://colab.research.google.com/github/dyx4liss/school/blob/main/Untitled2.ipynb\" target=\"_parent\"><img src=\"https://colab.research.google.com/assets/colab-badge.svg\" alt=\"Open In Colab\"/></a>"
      ]
    },
    {
      "cell_type": "markdown",
      "source": [
        "4.2.1\n",
        "\n",
        "Условный опратор\n",
        "\n",
        "Рассчитать значение f при заданном значении вещественного числа x:\n",
        "\n",
        "f(x)=⎧⎩⎨⎪⎪x−−√+x2,1x,при x⩾0,в противном случае. При выводе на экран оставьте 2 знака после запятой."
      ],
      "metadata": {
        "id": "1R2s9W6huEVo"
      }
    },
    {
      "cell_type": "code",
      "execution_count": null,
      "metadata": {
        "id": "xE1c_uQMt_Vy"
      },
      "outputs": [],
      "source": [
        "x = float (input (\"введите число\"))\n",
        "if(x>=0) :\n",
        "  x=x**0.5 + x**2\n",
        "else:\n",
        "  x=1/x\n",
        "print(round(x,2))"
      ]
    },
    {
      "cell_type": "markdown",
      "source": [
        "4.2.2\n",
        "\n",
        "Определите максимальное и минимальное значения из двух различных целых чисел."
      ],
      "metadata": {
        "id": "HrwPnHqzuKsR"
      }
    },
    {
      "cell_type": "code",
      "source": [
        "a= int(input(\"введите первое число\"))\n",
        "b= int(input(\"введите второе число\"))\n",
        "if (a==b):\n",
        "  print(\"Максимум:\", a , \"Минимум:\", b)\n",
        "elif (a>b) :\n",
        "  print(\"Максимум:\", a , \"Минимум:\", b)\n",
        "else:\n",
        "  print(\"Максимум:\", b , \"Минимум:\",a)"
      ],
      "metadata": {
        "id": "_czd_qpauOXj"
      },
      "execution_count": null,
      "outputs": []
    },
    {
      "cell_type": "markdown",
      "source": [
        "4.2.3\n",
        "\n",
        "Вася пытается высунуть голову в форточку размерами a и b см. Приняв условно, что его голова - круглая диаметром d см, определите, сможет ли Вася сделать это. Для прохождения головы в форточку необходим зазор в 1 см. с каждой стороны.\n",
        "\n",
        "Все величины - целые числа."
      ],
      "metadata": {
        "id": "kNFx63avuTHR"
      }
    },
    {
      "cell_type": "code",
      "source": [
        "a=int(input(\"введите ширину окна:\"))\n",
        "b=int(input('Введите длину окна:'))\n",
        "d=int(input(\"введите диаметр головы:\"))\n",
        "if ((a or b or d)< 0 ) :\n",
        "  print(\"проверьте числа\")\n",
        "  \n",
        "else:\n",
        "  if (a-1>d) and (b-1>d) :\n",
        "    print(\"голова пролезет\")\n",
        "  else:\n",
        "    print(\"спасите васю\")"
      ],
      "metadata": {
        "id": "7f4o0FjNuTX3"
      },
      "execution_count": null,
      "outputs": []
    },
    {
      "cell_type": "markdown",
      "source": [
        "4.2.4\n",
        "\n",
        "Известны год и номер месяца сегодняшнего дня, а также год и номер месяца рождения человека (нумерация месяцев с 1: январь - 1 и т.д.). Определите возраст человека (число полных лет)."
      ],
      "metadata": {
        "id": "Azba1T7CuT1r"
      }
    },
    {
      "cell_type": "code",
      "source": [
        "year_today = int(input(\"введите год\"))\n",
        "month_today = int(input(\"введите месяц\"))\n",
        "\n",
        "year =int(input(\"введите год рождения\")) \n",
        "month =int(input(\"введите месяц рождения\"))\n",
        "age = year_today - year\n",
        "if (month>month_today) :\n",
        "  age=age-1\n",
        "  print(age)\n",
        "else:\n",
        "  print(age)"
      ],
      "metadata": {
        "id": "8X48EuyAuT-G"
      },
      "execution_count": null,
      "outputs": []
    },
    {
      "cell_type": "markdown",
      "source": [
        "4.2.5\n",
        "\n",
        "Дана точка с целыми ненулевыми координатами (x;y). Определить номер четверти координатной плоскости, которой она принадлежит."
      ],
      "metadata": {
        "id": "TkdxNGGOuUKt"
      }
    },
    {
      "cell_type": "code",
      "source": [
        "x=int(input(\"введите x\"))\n",
        "y=int(input(\"введите y\"))\n",
        "if (x>0) and (y>0) :\n",
        "  print(\"1-я четверть\")\n",
        "elif (x>0) and (y<0):\n",
        "  print(\"4-я четверть\")\n",
        "elif (x<0) and (y<0) :\n",
        "  print (\"третья четверть\")\n",
        "elif (x<0) and (y>0):\n",
        "  print(\"2-я четверть\")\n",
        "else:\n",
        "  print(\"невозможно определить\")"
      ],
      "metadata": {
        "colab": {
          "base_uri": "https://localhost:8080/",
          "height": 259
        },
        "id": "E6idWQHduUUF",
        "outputId": "80b78946-6fac-41d2-9fc3-d4b630dbf961"
      },
      "execution_count": 2,
      "outputs": [
        {
          "name": "stdout",
          "output_type": "stream",
          "text": [
            "введите x\n"
          ]
        },
        {
          "output_type": "error",
          "ename": "ValueError",
          "evalue": "ignored",
          "traceback": [
            "\u001b[0;31m---------------------------------------------------------------------------\u001b[0m",
            "\u001b[0;31mValueError\u001b[0m                                Traceback (most recent call last)",
            "\u001b[0;32m<ipython-input-2-e1866d58ddb2>\u001b[0m in \u001b[0;36m<module>\u001b[0;34m\u001b[0m\n\u001b[0;32m----> 1\u001b[0;31m \u001b[0mx\u001b[0m\u001b[0;34m=\u001b[0m\u001b[0mint\u001b[0m\u001b[0;34m(\u001b[0m\u001b[0minput\u001b[0m\u001b[0;34m(\u001b[0m\u001b[0;34m\"введите x\"\u001b[0m\u001b[0;34m)\u001b[0m\u001b[0;34m)\u001b[0m\u001b[0;34m\u001b[0m\u001b[0;34m\u001b[0m\u001b[0m\n\u001b[0m\u001b[1;32m      2\u001b[0m \u001b[0my\u001b[0m\u001b[0;34m=\u001b[0m\u001b[0mint\u001b[0m\u001b[0;34m(\u001b[0m\u001b[0minput\u001b[0m\u001b[0;34m(\u001b[0m\u001b[0;34m\"введите y\"\u001b[0m\u001b[0;34m)\u001b[0m\u001b[0;34m)\u001b[0m\u001b[0;34m\u001b[0m\u001b[0;34m\u001b[0m\u001b[0m\n\u001b[1;32m      3\u001b[0m \u001b[0;32mif\u001b[0m \u001b[0;34m(\u001b[0m\u001b[0mx\u001b[0m\u001b[0;34m>\u001b[0m\u001b[0;36m0\u001b[0m\u001b[0;34m)\u001b[0m \u001b[0;32mand\u001b[0m \u001b[0;34m(\u001b[0m\u001b[0my\u001b[0m\u001b[0;34m>\u001b[0m\u001b[0;36m0\u001b[0m\u001b[0;34m)\u001b[0m \u001b[0;34m:\u001b[0m\u001b[0;34m\u001b[0m\u001b[0;34m\u001b[0m\u001b[0m\n\u001b[1;32m      4\u001b[0m   \u001b[0mprint\u001b[0m\u001b[0;34m(\u001b[0m\u001b[0;34m\"1-я четверть\"\u001b[0m\u001b[0;34m)\u001b[0m\u001b[0;34m\u001b[0m\u001b[0;34m\u001b[0m\u001b[0m\n\u001b[1;32m      5\u001b[0m \u001b[0;32melif\u001b[0m \u001b[0;34m(\u001b[0m\u001b[0mx\u001b[0m\u001b[0;34m>\u001b[0m\u001b[0;36m0\u001b[0m\u001b[0;34m)\u001b[0m \u001b[0;32mand\u001b[0m \u001b[0;34m(\u001b[0m\u001b[0my\u001b[0m\u001b[0;34m<\u001b[0m\u001b[0;36m0\u001b[0m\u001b[0;34m)\u001b[0m\u001b[0;34m:\u001b[0m\u001b[0;34m\u001b[0m\u001b[0;34m\u001b[0m\u001b[0m\n",
            "\u001b[0;31mValueError\u001b[0m: invalid literal for int() with base 10: ''"
          ]
        }
      ]
    },
    {
      "cell_type": "markdown",
      "source": [
        "4.2.6\n",
        "\n",
        "Даны вещественные числа a, b, c (a≠0).\n",
        "\n",
        "Решите уравнение ax2+bx+c=0. При выводе значений оставьте 1 знак после запятой."
      ],
      "metadata": {
        "id": "VOo8sS6dvfEj"
      }
    },
    {
      "cell_type": "code",
      "source": [
        "a=float(input(\"введите число не равное 0\"))\n",
        "b=float(input(\"введите число\"))\n",
        "c=float(input(\"введите число\"))\n",
        "D = (b**2)-4*(a * c)\n",
        "if (D>0) :\n",
        "  x1 = (-b + D**0.5)/(2*a)\n",
        "  x2 = (-b - D**0.5)/(2*a)\n",
        "  print(round(x1,2))\n",
        "  print(round(x2,2))\n",
        "elif (D==0):\n",
        "  x= -b/(2*a)\n",
        "  print(round(x,2))\n",
        "else :\n",
        "  print(\"решений нет\")\n"
      ],
      "metadata": {
        "id": "ggwjnWkXvfMt"
      },
      "execution_count": null,
      "outputs": []
    },
    {
      "cell_type": "markdown",
      "source": [
        "4.2.7\n",
        "\n",
        "Дана непустая последовательность целых чисел, оканчивающаяся нулем. Найти сумму и количество введенных чисел."
      ],
      "metadata": {
        "id": "mxl3q-0MvfZp"
      }
    },
    {
      "cell_type": "code",
      "source": [
        "nums_count = 0\n",
        "nums_sum = 0\n",
        "x=int(input(\"введите первое число\"))\n",
        "while x!=0:\n",
        "  nums_count = nums_count+1\n",
        "  nums_sum=nums_sum+x\n",
        "  x=int(input(\"введите новoе число(чтобы прекатить последовательность введите 0\"))\n",
        "print (\"сумма=\", nums_sum)\n",
        "print (\"количество\", nums_count)"
      ],
      "metadata": {
        "id": "2O5-kVndwFLw"
      },
      "execution_count": null,
      "outputs": []
    },
    {
      "cell_type": "markdown",
      "source": [
        "4.2.8\n",
        "\n",
        "Дано число n. Из чисел 0,5,10,15,20,25,... напечатать те, которые не превышают n.\n"
      ],
      "metadata": {
        "id": "0xUXblecwFcj"
      }
    },
    {
      "cell_type": "code",
      "source": [
        "n=int(input(\"введите любое целое число\"))\n",
        "x = 0\n",
        "name= []\n",
        "while x<=n :\n",
        " name.append(x)\n",
        " x=x+5\n",
        "print(name) "
      ],
      "metadata": {
        "id": "6skkXN3MwFp2"
      },
      "execution_count": null,
      "outputs": []
    },
    {
      "cell_type": "markdown",
      "source": [
        "4.2.9\n",
        "\n",
        "Дано вещественное число a. Найдите наименьшее натуральное n, для которого верно\n",
        "\n",
        "1+12+13+...+1n>a"
      ],
      "metadata": {
        "id": "fJdnSgRcwF13"
      }
    },
    {
      "cell_type": "code",
      "source": [
        "a=float(input(\"введите число a\"))\n",
        "n=1\n",
        "name = []\n",
        "name.append(n)\n",
        "while sum(name)<=a:\n",
        "  n = n+1\n",
        "  b= 1/n\n",
        "  name.append(b)\n",
        "print(n)"
      ],
      "metadata": {
        "id": "-KbOQ1S6wGDQ"
      },
      "execution_count": null,
      "outputs": []
    },
    {
      "cell_type": "markdown",
      "source": [
        "4.2.10\n",
        "\n",
        "Дано натуральное число. Определите сумму и количество его цифр."
      ],
      "metadata": {
        "id": "lUXENEU4wGVN"
      }
    },
    {
      "cell_type": "code",
      "source": [
        "n=int(input(\"введите натуральное число\"))\n",
        "n_count=[]\n",
        "while n>10:\n",
        "  g=n%10\n",
        "  n_count.append(g)\n",
        "  n=n-g\n",
        "  n=n/10\n",
        "n_count.append(n)\n",
        "print(len(n_count))\n",
        "n_sum = sum(n_count)\n",
        "print(n_sum)"
      ],
      "metadata": {
        "id": "OD31o2t6wGlp"
      },
      "execution_count": null,
      "outputs": []
    },
    {
      "cell_type": "markdown",
      "source": [
        "4.2.11\n",
        "\n",
        "Вывести в строку 10 первых натуральных чисел, оканчивающихся на цифру k, кратных числу s и находящихся в интервале, левая граница которого равна start."
      ],
      "metadata": {
        "id": "Zg7RJoznxy63"
      }
    },
    {
      "cell_type": "code",
      "source": [],
      "metadata": {
        "id": "FVo2Mk8SxzDk"
      },
      "execution_count": null,
      "outputs": []
    },
    {
      "cell_type": "markdown",
      "source": [
        "4.2.12\n",
        "\n",
        "Даны целые числа (a) и (b) ((a) может быть больше (b)). Напечатайте:\n",
        "\n",
        "числа от минимального до максимального в строчку (разделяя пробелом);\n",
        "\n",
        "числа от максимального до минимального «столбиком»."
      ],
      "metadata": {
        "id": "WcWsY_kjxzNf"
      }
    },
    {
      "cell_type": "code",
      "source": [],
      "metadata": {
        "id": "jHASeqo4xzVi"
      },
      "execution_count": null,
      "outputs": []
    },
    {
      "cell_type": "markdown",
      "source": [
        "4.2.13\n",
        "\n",
        "Для введенных с клавиатуры положительных целых чисел (a) и (b) ((a \\leq b)) определите:\n",
        "\n",
        "сумму всех целых чисел от (a) до (b);\n",
        "\n",
        "произведение всех целых чисел от (a) до (b);\n",
        "\n",
        "среднее арифметическое всех целых чисел от (a) до (b);\n",
        "\n",
        "среднее геометрическое нечетных чисел от (a) до (b).\n",
        "\n",
        "Отрезок поиска включает сами числа (a) и (b). При выводе вещественных результатов оставьте два знака после запятой.\n"
      ],
      "metadata": {
        "id": "pgI3tS9NxzmB"
      }
    },
    {
      "cell_type": "code",
      "source": [],
      "metadata": {
        "id": "s8mH5Fiaxzuq"
      },
      "execution_count": null,
      "outputs": []
    },
    {
      "cell_type": "markdown",
      "source": [
        "4.2.14\n",
        "\n",
        "Начав тренировки, лыжник в первый день пробежал s км. (s>0, вещественное число). Каждый следующий день он увеличивал пробег на p % (0<p≤100, вещественное число) от пробега предыдущего дня. Определите:\n",
        "\n",
        "• пробег лыжника за второй, третий, …, десятый день тренировок;\n",
        "\n",
        "• какой суммарный путь он пробежал за первые 10 дней тренировок.\n",
        "\n",
        "При выводе вещественных результатов оставьте один знак после запятой."
      ],
      "metadata": {
        "id": "mzYTp4x3ykyB"
      }
    },
    {
      "cell_type": "code",
      "source": [],
      "metadata": {
        "id": "todSwoeEylFv"
      },
      "execution_count": null,
      "outputs": []
    },
    {
      "cell_type": "markdown",
      "source": [
        "4.2.15\n",
        "\n",
        "Известна масса каждого предмета в кг., загружаемого в грузовик. Определить, возможна ли перевозка груза, если грузоподъемность грузовика равна (p) кг."
      ],
      "metadata": {
        "id": "_Gj941fCyl5w"
      }
    },
    {
      "cell_type": "code",
      "source": [],
      "metadata": {
        "id": "mhJQY0JiymGl"
      },
      "execution_count": null,
      "outputs": []
    },
    {
      "cell_type": "markdown",
      "source": [
        "4.2.16\n",
        "\n",
        "В области несколько районов. Заданы площади, засеваемые пшеницей (га.), и средняя урожайность (ц/га) в каждом районе.\n",
        "\n",
        "Определите количество пшеницы, собранное по области. При выводе вещественных результатов оставьте один знак после запятой."
      ],
      "metadata": {
        "id": "njPRvgxJymRt"
      }
    },
    {
      "cell_type": "code",
      "source": [],
      "metadata": {
        "id": "by3k1F8Xymf2"
      },
      "execution_count": null,
      "outputs": []
    },
    {
      "cell_type": "markdown",
      "source": [
        "4.2.17\n",
        "\n",
        "Решите задачу № 4.2.7, организовав бесконечный цикл, который бы прерывался при выполнении условия, используя оператор break.\n"
      ],
      "metadata": {
        "id": "dAyxQAFqymr0"
      }
    },
    {
      "cell_type": "code",
      "source": [],
      "metadata": {
        "id": "vUZS5ClFym6J"
      },
      "execution_count": null,
      "outputs": []
    },
    {
      "cell_type": "markdown",
      "source": [
        "4.2.18\n",
        "\n",
        "Предложение, введенное с клавиатуры, содержит слова из гласных и согласных букв кириллицы (регистр может быть различный), а также пробелы.\n",
        "\n",
        "Определите количество гласных и согласных букв в предложении. Для пропуска пробелов используйте оператор continue."
      ],
      "metadata": {
        "id": "OwsTEgTGynE6"
      }
    },
    {
      "cell_type": "code",
      "source": [],
      "metadata": {
        "id": "0ZuT4wWvynQU"
      },
      "execution_count": null,
      "outputs": []
    }
  ]
}