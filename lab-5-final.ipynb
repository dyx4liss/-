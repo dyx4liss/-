{
  "nbformat": 4,
  "nbformat_minor": 0,
  "metadata": {
    "colab": {
      "provenance": [],
      "authorship_tag": "ABX9TyPQ6QK08C66RD02b/1UfaFt",
      "include_colab_link": true
    },
    "kernelspec": {
      "name": "python3",
      "display_name": "Python 3"
    },
    "language_info": {
      "name": "python"
    }
  },
  "cells": [
    {
      "cell_type": "markdown",
      "metadata": {
        "id": "view-in-github",
        "colab_type": "text"
      },
      "source": [
        "<a href=\"https://colab.research.google.com/github/dyx4liss/Labs/blob/main/lab-5-final.ipynb\" target=\"_parent\"><img src=\"https://colab.research.google.com/assets/colab-badge.svg\" alt=\"Open In Colab\"/></a>"
      ]
    },
    {
      "cell_type": "markdown",
      "source": [
        "\n",
        "5.2.1\n",
        "\n",
        "Определите значение z=sgn(x)+y2sgn(y)−|x|−−√, где sgn - сигнум-функция, а x и y - вещественные числа:\n",
        "\n",
        "sgn(a)=⎧⎩⎨1,0,−1,a>0,a=0,a<0\n"
      ],
      "metadata": {
        "id": "0S8fvUH7TRKE"
      }
    },
    {
      "cell_type": "code",
      "execution_count": null,
      "metadata": {
        "id": "KXPadz2STMYM"
      },
      "outputs": [],
      "source": [
        "def sgn(f):\n",
        "  if f<0:\n",
        "    return -1\n",
        "  elif f>0:\n",
        "    return 1\n",
        "  elif f==0:\n",
        "    return 0\n",
        "x=float(input(\"введите x\"))\n",
        "y=float(input(\"введите y\"))\n",
        "z=(sgn(x) + y**2)/(sgn(y)-(abs(x)**0.5))\n",
        "print(round(z,2))"
      ]
    },
    {
      "cell_type": "markdown",
      "source": [
        "\n",
        "5.2.2\n",
        "\n",
        "Дан список температурных изменений в течение дня (целые числа). Известно, что измеряющее устройство иногда сбоит и записывает отсутствие температуры (значение None).\n",
        "\n",
        "Выведите среднюю температуру за наблюдаемый промежуток времени, предварительно очистив список от неопределенных значений. Гарантируется, что хотя бы одно определенное значение в списке есть.\n"
      ],
      "metadata": {
        "id": "SmqYwfBDTX2q"
      }
    },
    {
      "cell_type": "code",
      "source": [
        "def input_data():\n",
        "  for i in range(n):\n",
        "    demension=input(\"Измерение {}-e:\".format(i+1))\n",
        "    if demension ==\"-\":\n",
        "      data.append(None)\n",
        "    else:\n",
        "      data.append(int(demension))\n",
        "    i +=1\n",
        "def avg(new_data):\n",
        "  return sum(new_data)/len(new_data)\n",
        "def cleared_data(data):\n",
        "  new_data=[]\n",
        "  for x in data:\n",
        "    if x !=None:\n",
        "      new_data.append(x)\n",
        "  return new_data\n",
        "def print_res2():\n",
        "  z=avg(cleared_data(data))\n",
        "  print(\"Ср темпа:{:.2f}\".format(z))\n",
        "n=int(input())\n",
        "data=[]\n",
        "input_data()\n",
        "print_res2()"
      ],
      "metadata": {
        "id": "-o1yRCdwTf-v"
      },
      "execution_count": null,
      "outputs": []
    },
    {
      "cell_type": "markdown",
      "source": [
        "5.2.3\n",
        "\n",
        "Выведите все счастливые номера билетов в диапазоне от a до b (положительные целые числа, a"
      ],
      "metadata": {
        "id": "1W_7WDNbTjP-"
      }
    },
    {
      "cell_type": "code",
      "source": [
        "g = []\n",
        "\n",
        "def is_lucky(num):\n",
        "    odd1 = []\n",
        "    even1 = []\n",
        "    p_c = num%10\n",
        "    p_f = num//10\n",
        "    if p_c%2==0:\n",
        "        even1.append(p_c)\n",
        "    else:\n",
        "        odd1.append(p_c)\n",
        "    if p_f%2 == 0:\n",
        "        even1.append(p_c)\n",
        "    else:\n",
        "        odd1.append(p_c)\n",
        "    if len(odd1) == len(even1):\n",
        "        g.append(num)\n",
        "    odd1.clear()\n",
        "    even1.clear()\n",
        "    return g\n",
        "\n",
        "def my_function():\n",
        "  a,b = map(int, input('введите через пробел первый и последний номера').split())\n",
        "  return a,b\n",
        "  \n",
        "a,b = my_function()\n",
        "\n",
        "for x in range(a, b+1):\n",
        "  is_lucky(x)\n",
        "\n",
        "print(' '.join(map(str, g)))"
      ],
      "metadata": {
        "id": "IDHzW1kETmB5"
      },
      "execution_count": null,
      "outputs": []
    },
    {
      "cell_type": "markdown",
      "source": [
        "\n",
        "5.2.4\n",
        "\n",
        "Дата характеризуется тремя натуральными числами: день, месяц и год. Учитывая, что год может быть високосным, реализуйте две функции, которые определяют вчерашнюю и завтрашнюю дату.\n"
      ],
      "metadata": {
        "id": "CWf61i3qTohq"
      }
    },
    {
      "cell_type": "code",
      "source": [
        "def my_function():\n",
        "  day, month, year = map(int, input().split())\n",
        "  return day, month, year\n",
        "  \n",
        "day, month, year = my_function()\n",
        "print(day)\n",
        "print(month)\n",
        "print(year)"
      ],
      "metadata": {
        "id": "E2kTuyo7TrBV"
      },
      "execution_count": null,
      "outputs": []
    },
    {
      "cell_type": "code",
      "source": [
        "\n",
        "\n",
        "def is_leap(year):\n",
        "  if year % 4 ==0 and year %100 != 0 or year % 400 == 0:\n",
        "    febrary_day=29\n",
        "  else:\n",
        "     febrary_day = 28\n",
        "  return febrary_day\n",
        "def days(month, year):\n",
        "  month_day_31=[1,3,5,7,8,10,12]\n",
        "  month_day_30=[4,6,9,11]\n",
        "  if month in month_day_31:\n",
        "    date=31\n",
        "  elif month in month_day_30:\n",
        "    date=30\n",
        "  else:\n",
        "    date=is_leap(year)\n",
        "  return date\n",
        "def previous_date(day, month, year):\n",
        "  if day == 1:\n",
        "    month -=1\n",
        "    if month == 0:\n",
        "      year -=1\n",
        "      month=12\n",
        "      day=days(month, year)\n",
        "    else:\n",
        "      year=year\n",
        "      month = month\n",
        "      day=days(month, year)\n",
        "  else:\n",
        "    day -=1\n",
        "    month=month\n",
        "    year=year\n",
        "  return day, month, year\n",
        "def next_date(day, month, year):\n",
        "  if day == days(month, year):\n",
        "    month += 1\n",
        "    if month == 13:\n",
        "      month=1\n",
        "      year+=1\n",
        "      day=1\n",
        "    else:\n",
        "      month=month\n",
        "      day=1\n",
        "      year=year\n",
        "  else:\n",
        "    day+=1\n",
        "    month = month\n",
        "    year=year\n",
        "  return day, month, year\n",
        "\n"
      ],
      "metadata": {
        "id": "xljgHmPNTtay"
      },
      "execution_count": null,
      "outputs": []
    },
    {
      "cell_type": "code",
      "source": [
        "print('Предыдущий день:' , previous_date(day,month, year))\n",
        "print('Следующий день:' , next_date(day,month, year))"
      ],
      "metadata": {
        "id": "tcfbZ2NnT4T5"
      },
      "execution_count": null,
      "outputs": []
    },
    {
      "cell_type": "markdown",
      "source": [
        "\n",
        "5.2.6\n",
        "\n",
        "Дан список из чисел.\n",
        "\n",
        "Определите их НОК (наименьшее общее кратное) и НОД (наибольший общий делитель).\n"
      ],
      "metadata": {
        "id": "NOErau1wT9OR"
      }
    },
    {
      "cell_type": "markdown",
      "source": [],
      "metadata": {
        "id": "8BNkCTdBTziE"
      }
    },
    {
      "cell_type": "code",
      "source": [
        "\n",
        "\n",
        "def gcd(first, second):\n",
        "  if first > second:\n",
        "    a = second\n",
        "  else:\n",
        "    a = first\n",
        "  for i in range(1,a+1):\n",
        "    if (first % i == 0) and (second % i == 0 ):\n",
        "      gcd = i\n",
        "  return gcd\n",
        "\n",
        "def lcm(first, second):\n",
        "  if first>second:\n",
        "    n=first\n",
        "  else:\n",
        "    n=second\n",
        "  while(True):\n",
        "    if (n%first==0) and (n%second==0):\n",
        "      return n\n",
        "    n +=1\n",
        "\n",
        "def gcd_nums(nums):\n",
        "  for j in range(1,len(nums)-1):\n",
        "    nums[j]=gcd(nums[j-1],nums[j])\n",
        "  return nums[j] \n",
        "\n",
        "def lcm_nums(nums1):\n",
        "  for j in range(1,len(nums1)):\n",
        "    nums1[j]=lcm(nums1[j-1],nums1[j])\n",
        "  return nums1[j]\n",
        "\n",
        "nums =input(\"Введите числа\").split()\n",
        "nums=list(map(int,nums))\n",
        "nums1=nums.copy()\n",
        "nod=gcd_nums(nums)\n",
        "nok=lcm_nums(nums1)\n",
        "print(\"НОД=\",nod)\n",
        "print(\"НОК=\",nok)\n",
        "\n"
      ],
      "metadata": {
        "id": "J_n8dDqwUJ6Z"
      },
      "execution_count": null,
      "outputs": []
    },
    {
      "cell_type": "markdown",
      "source": [
        "\n",
        "5.2.7\n",
        "\n",
        "Даны n предложений. Определите, сколько из них содержат хотя бы одну цифру.\n"
      ],
      "metadata": {
        "id": "DuhxOgOrUOKF"
      }
    },
    {
      "cell_type": "code",
      "source": [
        "def word(sentence):\n",
        "    sentences = 0\n",
        "    sentence_list = list(map(str, sentence))\n",
        "    digit = '123456789'\n",
        "    digits = list(map(str, digit))\n",
        "    for y in digits:\n",
        "        if y in sentence_list:\n",
        "            sentences += 1\n",
        "    return sentences\n",
        "\n",
        "\n",
        "def sentences_with_digits_count(sentences):\n",
        "    print(f'Предложений с цифрой = {sentences}')"
      ],
      "metadata": {
        "id": "SRLfnndzUP-d"
      },
      "execution_count": null,
      "outputs": []
    },
    {
      "cell_type": "code",
      "source": [
        "n = int(input('Введите количество предложений: '))\n",
        "sentences = 0\n",
        "kol = 0\n",
        "\n",
        "for x in range(n):\n",
        "  sentence1 = input(f'Введите предложение №{x+1}: ')\n",
        "  a = word(sentence1)\n",
        "  if a == 1:\n",
        "    kol += 1\n",
        "\n",
        "sentences_with_digits_count(kol)"
      ],
      "metadata": {
        "id": "5rTCxEBaUVko"
      },
      "execution_count": null,
      "outputs": []
    },
    {
      "cell_type": "markdown",
      "source": [
        "\n",
        "5.2.8\n",
        "\n",
        "Дана строка s и символ k. Реализуйте функцию, рисующую рамку из символа k вокруг данной строки.\n"
      ],
      "metadata": {
        "id": "CfKUe2leUiA9"
      }
    },
    {
      "cell_type": "code",
      "source": [
        "def print_with_border(string, char):\n",
        "    w = list(map(str, string))\n",
        "    fw = len(w)+2\n",
        "    print(f'{char}'*fw+'\\n'+f'{char}'+f'{string}'+f'{char}'+'\\n'+f'{char}'*fw)\n",
        "s = input('Введите строку: ')\n",
        "k = input('Введите символ: ')\n",
        "print_with_border(s, k)"
      ],
      "metadata": {
        "id": "0ngesFCyUjor"
      },
      "execution_count": null,
      "outputs": []
    },
    {
      "cell_type": "markdown",
      "source": [
        "\n",
        "5.2.10\n",
        "\n",
        "Для введенного предложения выведите статистику символ=количество. Регистр букв не учитывается.\n"
      ],
      "metadata": {
        "id": "grD2WV_PUluS"
      }
    },
    {
      "cell_type": "code",
      "source": [
        "from collections import Counter\n",
        "def sentence_stats(sentence):\n",
        "  s=input(\"Введите предложение\")\n",
        "  d=Counter(s)\n",
        "  return d\n",
        "print(d)"
      ],
      "metadata": {
        "id": "-i1CvU97UnMR"
      },
      "execution_count": null,
      "outputs": []
    },
    {
      "cell_type": "markdown",
      "source": [
        "\n",
        "5.2.11\n",
        "\n",
        "Используя шифр Цезаря (достаточно только букв русского алфавита, знаки препинания не изменяются), зашифруйте, а затем расшифруйте введенную строку."
      ],
      "metadata": {
        "id": "Z5Eqf0gsUr3_"
      }
    },
    {
      "cell_type": "code",
      "source": [
        "def ceasar(text, shift):\n",
        "  letters = [chr(i) for i in range(ord('а'), ord('я') + 1)]\n",
        "  letters_upper = [chr(i) for i in range(ord('А'), ord('Я') + 1)]\n",
        "  res, n = [], \"\"\n",
        "  for i in range(len(text)):\n",
        "    if text[i] in letters:\n",
        "            n = letters\n",
        "    elif text[i] in letters_upper:\n",
        "        n = letters_upper\n",
        "    else:\n",
        "        res.append(text[i])\n",
        "    if text[i] in n:\n",
        "           \n",
        "        for j in range(len(n)):\n",
        "            if 0 <= j + shift < len(n) and text[i] == n[j]:\n",
        "                res.append(n[j + shift])\n",
        "            elif j + shift >= len(n) and text[i] == n[j]:\n",
        "                res.append(n[(1 - j - shift) % (len(n) - 1)])\n",
        "            elif j + shift < 0 and text[i] == n[j]:\n",
        "                res.append(n[(j + shift) % len(n)])\n",
        "  return ''.join(res)\n"
      ],
      "metadata": {
        "id": "AdjXNdLmUuDG"
      },
      "execution_count": null,
      "outputs": []
    },
    {
      "cell_type": "markdown",
      "source": [],
      "metadata": {
        "id": "3jgDygD4U-8H"
      }
    },
    {
      "cell_type": "code",
      "source": [],
      "metadata": {
        "id": "N0AOlPwgVX9Z"
      },
      "execution_count": null,
      "outputs": []
    }
  ]
}