{
  "nbformat": 4,
  "nbformat_minor": 0,
  "metadata": {
    "colab": {
      "provenance": [],
      "include_colab_link": true
    },
    "kernelspec": {
      "name": "python3",
      "display_name": "Python 3"
    },
    "language_info": {
      "name": "python"
    }
  },
  "cells": [
    {
      "cell_type": "markdown",
      "metadata": {
        "id": "view-in-github",
        "colab_type": "text"
      },
      "source": [
        "<a href=\"https://colab.research.google.com/github/dyx4liss/Labs/blob/main/lecture2403.ipynb\" target=\"_parent\"><img src=\"https://colab.research.google.com/assets/colab-badge.svg\" alt=\"Open In Colab\"/></a>"
      ]
    },
    {
      "cell_type": "code",
      "source": [
        "class A:\n",
        "  def f(self, x):\n",
        "    print(x)\n",
        "\n",
        "class B(A):\n",
        "  def f(self,x,y):\n",
        "    print(x+y)\n"
      ],
      "metadata": {
        "id": "_4B5F9ZBkLUg"
      },
      "execution_count": null,
      "outputs": []
    },
    {
      "cell_type": "code",
      "execution_count": null,
      "metadata": {
        "id": "kF38SY_ESDtO",
        "colab": {
          "base_uri": "https://localhost:8080/"
        },
        "outputId": "5bd90f2e-b797-483a-ec0a-a85b86f20763"
      },
      "outputs": [
        {
          "output_type": "stream",
          "name": "stdout",
          "text": [
            "Hello\n",
            "Hello,World!\n"
          ]
        }
      ],
      "source": [
        "a = A()\n",
        "a.f(\"Hello\")\n",
        "b = B()\n",
        "#b.f(\"Hello\")\n",
        "b.f(\"Hello,\",\"World!\")\n"
      ]
    },
    {
      "cell_type": "code",
      "source": [
        "class A:\n",
        "  def f(self, x):\n",
        "    print(x)\n",
        "\n",
        "class B(A):\n",
        "  def f(self, x, y=None):\n",
        "    if y is None:\n",
        "      super().f(x)\n",
        "    else:\n",
        "      print(x+y)\n",
        "\n",
        "\n"
      ],
      "metadata": {
        "id": "cqyMqTDXlI0V"
      },
      "execution_count": null,
      "outputs": []
    },
    {
      "cell_type": "code",
      "source": [
        "b=B()\n",
        "b.f(\"hello!\")\n",
        "b.f(\"hello, World\")"
      ],
      "metadata": {
        "colab": {
          "base_uri": "https://localhost:8080/"
        },
        "id": "yVE6FS1Rlbiq",
        "outputId": "d6dab9f3-2ae9-42db-c954-1f07878393d4"
      },
      "execution_count": null,
      "outputs": [
        {
          "output_type": "stream",
          "name": "stdout",
          "text": [
            "hello!\n",
            "hello, World\n"
          ]
        }
      ]
    },
    {
      "cell_type": "code",
      "source": [
        "class A:\n",
        "  def __f(self):\n",
        "    return 2\n",
        "  def f_sq(self):\n",
        "    return self.__f()**2\n",
        "class B(A):\n",
        "  def __f(self):\n",
        "    return 5\n",
        "\n",
        "a=A()\n",
        "a.f_sq() #4\n",
        "b=B()\n",
        "b.f_sq() #4"
      ],
      "metadata": {
        "colab": {
          "base_uri": "https://localhost:8080/"
        },
        "id": "miJs5aZglvFH",
        "outputId": "4bb203c8-63c5-4802-fde8-14875ac9ec61"
      },
      "execution_count": null,
      "outputs": [
        {
          "output_type": "execute_result",
          "data": {
            "text/plain": [
              "4"
            ]
          },
          "metadata": {},
          "execution_count": 5
        }
      ]
    },
    {
      "cell_type": "code",
      "source": [
        "class Mydict(dict):\n",
        "  def __setitem__(self, key, value):\n",
        "    super().__setitem__(key, [value]*2)\n",
        "\n",
        "a = Mydict(key1 = 1)\n",
        "a[\"key2\"] = 2\n",
        "a.update(key3 = 3)"
      ],
      "metadata": {
        "id": "HcHhI6Tym5pE"
      },
      "execution_count": null,
      "outputs": []
    },
    {
      "cell_type": "code",
      "source": [
        "class Base(object):\n",
        "  def virtrualMethod(self):\n",
        "    raise NotImplementedError()\n",
        "  def usesVirtualMethod(self):\n",
        "    return self.virtrualMethod() + 1\n",
        "\n",
        "class Derived(Base):\n",
        "  def virtrualMethod(self):\n",
        "    return 1\n",
        "\n",
        "Base().usesVirtualMethod\n",
        "Derived().usesVirtualMethod()"
      ],
      "metadata": {
        "colab": {
          "base_uri": "https://localhost:8080/"
        },
        "id": "xrwd2dlQm5jV",
        "outputId": "177774fc-d87e-4984-d973-bf8e0bcbc054"
      },
      "execution_count": null,
      "outputs": [
        {
          "output_type": "execute_result",
          "data": {
            "text/plain": [
              "2"
            ]
          },
          "metadata": {},
          "execution_count": 7
        }
      ]
    },
    {
      "cell_type": "code",
      "source": [
        "from abc import ABC, abstractmethod\n",
        "class MyAbstract(ABC):\n",
        "  @abstractmethod\n",
        "  def foo(self):\n",
        "    pass\n",
        "\n",
        "class MyClass(MyAbstract):\n",
        "  def foo(self):\n",
        "    print(\"Hello, World!\")\n",
        "\n",
        "#a = MyAbstract() #Выдает ошибку\n",
        "a = MyClass()"
      ],
      "metadata": {
        "id": "lVTGI6Ifm5dj"
      },
      "execution_count": null,
      "outputs": []
    },
    {
      "cell_type": "code",
      "source": [
        "class A:\n",
        "  def m(self):\n",
        "    print(\"In A\")\n",
        "class B(A):\n",
        "  def m(self):\n",
        "    print(\"In B\")\n",
        "class C(A):\n",
        "  def m(self):\n",
        "    print(\"In C\")\n",
        "class D(B,C):\n",
        "  pass\n",
        "\n",
        "d=D()\n",
        "d.m()\n",
        "D.mro()"
      ],
      "metadata": {
        "colab": {
          "base_uri": "https://localhost:8080/"
        },
        "id": "WO1Ec8qfm5Yz",
        "outputId": "52dbf265-d807-463d-d896-c7980d5e39a9"
      },
      "execution_count": null,
      "outputs": [
        {
          "output_type": "stream",
          "name": "stdout",
          "text": [
            "In B\n"
          ]
        },
        {
          "output_type": "execute_result",
          "data": {
            "text/plain": [
              "[__main__.D, __main__.B, __main__.C, __main__.A, object]"
            ]
          },
          "metadata": {},
          "execution_count": 9
        }
      ]
    },
    {
      "cell_type": "code",
      "source": [
        "class T1:\n",
        "  n=10\n",
        "  def total(self,N):\n",
        "    self.total = int(self.n)+int(N)\n",
        "\n",
        "class T2:\n",
        "  def total(self,s):\n",
        "    self.total=len(str(s))\n",
        "\n",
        "t1=T1()\n",
        "t2=T2()\n",
        "t1.total(45)\n",
        "t2.total(45)\n",
        "print(t1.total)\n",
        "print(t2.total)"
      ],
      "metadata": {
        "colab": {
          "base_uri": "https://localhost:8080/"
        },
        "id": "6tsgaPXem5TP",
        "outputId": "d6e0b35c-40c8-4ae1-961d-1486782292cf"
      },
      "execution_count": null,
      "outputs": [
        {
          "output_type": "stream",
          "name": "stdout",
          "text": [
            "55\n",
            "2\n"
          ]
        }
      ]
    },
    {
      "cell_type": "code",
      "source": [
        "class Rectangle:\n",
        "  def __init__(self,width,height,sign):\n",
        "    self.w = int(width)\n",
        "    self.h = int(height)\n",
        "    self.s = str(sign)\n",
        "  def __str__(self):\n",
        "    rect =[]\n",
        "    for i in range(self.h):\n",
        "      rect.append(self.s * self.w)\n",
        "    rect = \"\\n\".join(rect)\n",
        "    return rect\n",
        "\n",
        "  def __add__(self,other):\n",
        "    return Rectangle(self.w + other.w,self.h+ other.h,self.s)\n",
        "\n",
        "a=Rectangle(4,2,\"w\")\n",
        "print(a)\n",
        "b=Rectangle(8,3,\"z\")\n",
        "print(b)\n",
        "print(a+b)\n",
        "print(b+a)"
      ],
      "metadata": {
        "colab": {
          "base_uri": "https://localhost:8080/"
        },
        "id": "dok_KpaTm5NO",
        "outputId": "0428e416-ebf9-4f4f-a110-a661212e6654"
      },
      "execution_count": null,
      "outputs": [
        {
          "output_type": "stream",
          "name": "stdout",
          "text": [
            "wwww\n",
            "wwww\n",
            "zzzzzzzz\n",
            "zzzzzzzz\n",
            "zzzzzzzz\n",
            "wwwwwwwwwwww\n",
            "wwwwwwwwwwww\n",
            "wwwwwwwwwwww\n",
            "wwwwwwwwwwww\n",
            "wwwwwwwwwwww\n",
            "zzzzzzzzzzzz\n",
            "zzzzzzzzzzzz\n",
            "zzzzzzzzzzzz\n",
            "zzzzzzzzzzzz\n",
            "zzzzzzzzzzzz\n"
          ]
        }
      ]
    },
    {
      "cell_type": "code",
      "source": [
        "from PIL import Image\n",
        "img = Image.open('Worker.jpg')\n",
        "img.show()\n",
        "class Person:\n",
        "  def __init__(self, name, age, salary, departament):\n",
        "    self.name = name\n",
        "    self.age = age\n",
        "    self.salary = salary\n",
        "    self.departament = departament\n",
        "class Worker(Person):\n",
        "  def __init__(self, name, age, salary, departament):\n",
        "    super().__init__(name, age, salary, departament)\n",
        "  def info(self):\n",
        "    self.age = self.age+5\n",
        "    self.salary = self.salary + 10000\n",
        "    return(self.salary , self.age)\n",
        "class Employee(Person):\n",
        "  def __init__(self, name, age, salary, departament):\n",
        "    super().__init__(name, age, salary, departament)\n",
        "  def info(self):\n",
        "    self.salary = self.salary  + 20000\n",
        "    self.age = self.age + 7\n",
        "    return(self.salary , self.age)\n",
        "class Engineer(Worker):\n",
        "  def __init__(self,name, age, salary, departament):\n",
        "    super().__init__(name, age, salary, departament)\n",
        "  def info(self):\n",
        "    self.salary = self.salary  + 20000\n",
        "    self.age = self.age + 7\n",
        "    return(self.salary , self.age)\n",
        "try:\n",
        "  a = str(input(\"введите имя: \"))\n",
        "  b = int(input(\"введите возраст: \"))\n",
        "  c = int(input(\"введите зарплату: \"))\n",
        "  d = str(input(\"введите департамент: \"))\n",
        "  m = Person(a, b, c, d)\n",
        "  n = Worker(a, b, c, d)\n",
        "  print(f\"новая зарплата и возраст теперь :\", {n.info()})\n",
        "except Exception:\n",
        "  print(\"Ошибка!\")"
      ],
      "metadata": {
        "id": "Jo6VceYfm4-C",
        "colab": {
          "base_uri": "https://localhost:8080/",
          "height": 770
        },
        "outputId": "12271185-0205-44a9-ab1c-30f884848638"
      },
      "execution_count": null,
      "outputs": [
        {
          "output_type": "display_data",
          "data": {
            "text/plain": [
              "<PIL.JpegImagePlugin.JpegImageFile image mode=RGB size=506x663 at 0x7EFE857987F0>"
            ],
            "image/png": "[encoded data removed]"
          },
          "metadata": {}
        },
        {
          "output_type": "stream",
          "name": "stdout",
          "text": [
            "введите имя: fff\n",
            "введите возраст: 56\n",
            "введите зарплату: 56\n",
            "введите департамент: fff\n",
            "новая зарплата и возраст теперь : {(10056, 61)}\n"
          ]
        }
      ]
    }
  ]
}