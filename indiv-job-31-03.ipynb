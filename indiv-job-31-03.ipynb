{
  "nbformat": 4,
  "nbformat_minor": 0,
  "metadata": {
    "colab": {
      "provenance": [],
      "authorship_tag": "ABX9TyNsV0/aMcmaklJN7RQI0Fzf",
      "include_colab_link": true
    },
    "kernelspec": {
      "name": "python3",
      "display_name": "Python 3"
    },
    "language_info": {
      "name": "python"
    }
  },
  "cells": [
    {
      "cell_type": "markdown",
      "metadata": {
        "id": "view-in-github",
        "colab_type": "text"
      },
      "source": [
        "<a href=\"https://colab.research.google.com/github/dyx4liss/Labs/blob/main/indiv-job-31-03.ipynb\" target=\"_parent\"><img src=\"https://colab.research.google.com/assets/colab-badge.svg\" alt=\"Open In Colab\"/></a>"
      ]
    },
    {
      "cell_type": "code",
      "execution_count": 1,
      "metadata": {
        "colab": {
          "base_uri": "https://localhost:8080/"
        },
        "id": "v9D-oYWQYUVR",
        "outputId": "7a977784-1311-4c0f-9b31-39ffe8748b17"
      },
      "outputs": [
        {
          "output_type": "stream",
          "name": "stdout",
          "text": [
            "Серый накормлен(а)\n",
            "Белый накормлен(а)\n",
            "Манька накормлен(а)\n",
            "Барашек накормлен(а)\n",
            "Кудрявый накормлен(а)\n",
            "Ко-Ко накормлен(а)\n",
            "Кукареку накормлен(а)\n",
            "Кряква накормлен(а)\n",
            "Манька подоена(о)\n",
            "Барашек пострижен(а)\n",
            "Кудрявый пострижен(а)\n",
            "Серый собраны яйца\n",
            "Белый собраны яйца\n",
            "Ко-Ко собраны яйца\n",
            "Кукареку собраны яйца\n",
            "Кряква собраны яйца\n",
            "Общий вес всех животных: 745 кг\n",
            "Самое тяжелое животное: Манька\n",
            "Серый: Кря-кря\n",
            "Белый: Кря-кря\n",
            "Манька: Мууу\n",
            "Барашек: Беее\n",
            "Кудрявый: Беее\n",
            "Ко-Ко: Ко-ко-ко\n",
            "Кукареку: Ко-ко-ко\n",
            "Кряква: Кря-кря\n"
          ]
        }
      ],
      "source": [
        "class Animal:\n",
        "    def __init__(self, name, weight):\n",
        "        self.name = name\n",
        "        self.weight = weight\n",
        "\n",
        "    def feed(self):\n",
        "        print(f\"{self.name} накормлен(а)\")\n",
        "\n",
        "class MilkAnimal(Animal):\n",
        "    def milk(self):\n",
        "        print(f\"{self.name} подоена(о)\")\n",
        "\n",
        "class WoolAnimal(Animal):\n",
        "    def shear(self):\n",
        "        print(f\"{self.name} пострижен(а)\")\n",
        "\n",
        "class EggAnimal(Animal):\n",
        "    def collect_eggs(self):\n",
        "        print(f\"{self.name} собраны яйца\")\n",
        "\n",
        "class Goose(EggAnimal):\n",
        "    def __init__(self, name, weight):\n",
        "        super().__init__(name, weight)\n",
        "        self.voice = \"Кря-кря\"\n",
        "\n",
        "class Cow(MilkAnimal):\n",
        "    def __init__(self, name, weight):\n",
        "        super().__init__(name, weight)\n",
        "        self.voice = \"Мууу\"\n",
        "\n",
        "class Sheep(WoolAnimal):\n",
        "    def __init__(self, name, weight):\n",
        "        super().__init__(name, weight)\n",
        "        self.voice = \"Беее\"\n",
        "\n",
        "class Chicken(EggAnimal):\n",
        "    def __init__(self, name, weight):\n",
        "        super().__init__(name, weight)\n",
        "        self.voice = \"Ко-ко-ко\"\n",
        "\n",
        "class Duck(EggAnimal):\n",
        "    def __init__(self, name, weight):\n",
        "        super().__init__(name, weight)\n",
        "        self.voice = \"Кря-кря\"\n",
        "\n",
        "\n",
        "# Создаем экземпляры классов животных\n",
        "goose1 = Goose(\"Серый\", 5)\n",
        "goose2 = Goose(\"Белый\", 6)\n",
        "cow = Cow(\"Манька\", 500)\n",
        "sheep1 = Sheep(\"Барашек\", 100)\n",
        "sheep2 = Sheep(\"Кудрявый\", 120)\n",
        "chicken1 = Chicken(\"Ко-Ко\", 3)\n",
        "chicken2 = Chicken(\"Кукареку\", 4)\n",
        "duck = Duck(\"Кряква\", 7)\n",
        "\n",
        "# Накормить животных\n",
        "goose1.feed()\n",
        "goose2.feed()\n",
        "cow.feed()\n",
        "sheep1.feed()\n",
        "sheep2.feed()\n",
        "chicken1.feed()\n",
        "chicken2.feed()\n",
        "duck.feed()\n",
        "\n",
        "# Подоить/постричь/собрать яйца у животных\n",
        "cow.milk()\n",
        "sheep1.shear()\n",
        "sheep2.shear()\n",
        "goose1.collect_eggs()\n",
        "goose2.collect_eggs()\n",
        "chicken1.collect_eggs()\n",
        "chicken2.collect_eggs()\n",
        "duck.collect_eggs()\n",
        "\n",
        "# Посчитать общий вес всех животных\n",
        "animals = [goose1, goose2, cow, sheep1, sheep2, chicken1, chicken2, duck]\n",
        "total_weight = sum(animal.weight for animal in animals)\n",
        "print(f\"Общий вес всех животных: {total_weight} кг\")\n",
        "\n",
        "# Найти самое тяжелое животное\n",
        "heaviest_animal = max(animals, key=lambda animal: animal.weight)\n",
        "print(f\"Самое тяжелое животное: {heaviest_animal.name}\")\n",
        "\n",
        "# Различать животных по голосам\n",
        "for animal in animals:\n",
        "    print(f\"{animal.name}: {animal.voice}\")"
      ]
    }
  ]
}