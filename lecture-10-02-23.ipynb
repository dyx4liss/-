{
  "nbformat": 4,
  "nbformat_minor": 0,
  "metadata": {
    "colab": {
      "provenance": [],
      "include_colab_link": true
    },
    "kernelspec": {
      "name": "python3",
      "display_name": "Python 3"
    },
    "language_info": {
      "name": "python"
    }
  },
  "cells": [
    {
      "cell_type": "markdown",
      "metadata": {
        "id": "view-in-github",
        "colab_type": "text"
      },
      "source": [
        "<a href=\"https://colab.research.google.com/github/dyx4liss/1st-year-/blob/main/lecture-10-02-23.ipynb\" target=\"_parent\"><img src=\"https://colab.research.google.com/assets/colab-badge.svg\" alt=\"Open In Colab\"/></a>"
      ]
    },
    {
      "cell_type": "markdown",
      "source": [
        "**Объектно-ориентированный подход**\n",
        "\n",
        "\n",
        "*   Этот подход включает в себя все стилевые усовершенствования, базирующиеся на на понятии \"объект\" - понятии, которое многие люди обозначают словом \"вещь\".\n",
        "*   Всякая вещь, объект, характеризуется своими свойствами и поведением.\n",
        "*   Объектно-ориентированный подъод можно применять:\n",
        "\n",
        "1.   как к програмиированияю,\n",
        "2.   анализу,\n",
        "3.   дизайну.\n",
        "\n",
        "\n",
        "\n",
        "\n",
        "\n",
        "\n",
        "\n"
      ],
      "metadata": {
        "id": "njead_Sljsgx"
      }
    },
    {
      "cell_type": "markdown",
      "source": [
        "Объектно-ориентированный подход - это способ мышления, а также способ восприятия окружающего мира с точки зрения теории объектов."
      ],
      "metadata": {
        "id": "fhwt2mv_VWgW"
      }
    },
    {
      "cell_type": "markdown",
      "source": [
        "**Парадигма программирования на машинном языке (1-я)**\n",
        "\n",
        "Программы писались на машинных языках в двоичном представлении. При написании программ на машинных языках часто допускались ошибки, причем из-за невозможности их структурировать сопровождение кода было практически невозможным. Кроме того, программа в машинных кодах была сложна для понимания."
      ],
      "metadata": {
        "id": "9UN_I4rcVWMf"
      }
    },
    {
      "cell_type": "markdown",
      "source": [
        "**Парадигма процедурного программирования (2-я)**\n",
        "\n",
        "Процедурные языки дают программисту возможность разбить пророграмму обработки информации на несколько процедур более низкого уровня. Последовательные обращения к этим процедурам управляют выполнением программы, состоящей из процедур. Программа прекращает работу тогда, когда исчерпывается список вызовов."
      ],
      "metadata": {
        "id": "YtN_PyqxVYxg"
      }
    },
    {
      "cell_type": "markdown",
      "source": [
        "**Парадигма модульного программирования (3-я)**\n",
        "\n",
        "Модульное программирование разбивает программу на ряд составляющих компонентов, или модулей. В отличие от процедурного программирования, которое разделяет данные и процедуры, модули объединяют их и скрывают всю внутреннюю информацию от остальных частей программы."
      ],
      "metadata": {
        "id": "peq-_fv7X2EX"
      }
    },
    {
      "cell_type": "markdown",
      "source": [
        "**Ссостояние объекта** - это совокупность значений внутренних переменных объекта\n",
        "\n",
        "**Внутренняя переменная** - это величина, хранимая внутри объекта"
      ],
      "metadata": {
        "id": "5zZEDUVKYgby"
      }
    },
    {
      "cell_type": "markdown",
      "source": [
        "**Парадигма объектно-ориентированногот программирования (4-я)**\n",
        "\n",
        "ООП добавляет к модулю:\n",
        "\n",
        "\n",
        "*   Наследование\n",
        "*   Полиморфизм\n",
        "\n"
      ],
      "metadata": {
        "id": "J74wlAC3YgfP"
      }
    },
    {
      "cell_type": "markdown",
      "source": [
        "**СОДЕРЖАНИЕ**\n",
        "\n",
        "\n",
        "*   Классы и объекты\n",
        "*   Атрибуты классов, атрибуты объектов и декораторы свойств\n",
        "*   Методы классов, методы объектов и статистические методы\n",
        "*   Наследование классов\n",
        "*   Магические методы и переопределение операторов\n",
        "*   Доступ к атрибутам и методам\n",
        "*   Абстрактные классы и множественное наследование\n",
        "\n",
        "\n",
        "\n",
        "\n",
        "\n",
        "\n",
        "\n"
      ],
      "metadata": {
        "id": "7KDUD3FrZTJJ"
      }
    },
    {
      "cell_type": "markdown",
      "source": [
        "Python - объектно-ориентированный язык программирования\n",
        "\n",
        "Класс - тип, описывающий устройство объектов\n",
        "\n",
        "Объекты - экземпляры классов"
      ],
      "metadata": {
        "id": "hKyvg_5WOjYE"
      }
    },
    {
      "cell_type": "code",
      "execution_count": null,
      "metadata": {
        "colab": {
          "base_uri": "https://localhost:8080/"
        },
        "id": "BHczp3E-ODWS",
        "outputId": "e2235faf-7c7a-480a-be4c-94b80a571771"
      },
      "outputs": [
        {
          "output_type": "stream",
          "name": "stdout",
          "text": [
            "15\n"
          ]
        }
      ],
      "source": [
        "class A:\n",
        "    x = 15\n",
        "    def print_x(self):\n",
        "        print(self.x)\n",
        "\n",
        "    def sum(self, a, b):\n",
        "        return self.x+a+b\n",
        "\n",
        "a = A()  # create instance\n",
        "a.print_x()  # 15\n",
        "b = a.sum(5,2)  # 22\n",
        "B = A()\n",
        "C = A()\n",
        "# a, B, C - экземпляры класса"
      ]
    },
    {
      "cell_type": "markdown",
      "source": [
        "**Аргумент self**"
      ],
      "metadata": {
        "id": "qiWxIwUqa_Xh"
      }
    },
    {
      "cell_type": "markdown",
      "source": [
        "Каждый метод объета должен иметь обязательный первый фргумент self"
      ],
      "metadata": {
        "id": "1vJKJ3w8W9-U"
      }
    },
    {
      "cell_type": "code",
      "source": [
        "class A:\n",
        "    def hello():\n",
        "        print('Hello, world!')\n",
        "\n",
        "a = A()\n",
        "a.hello()  # error: self is absent\n",
        "A.hello()  # 'Hello, world!'"
      ],
      "metadata": {
        "colab": {
          "base_uri": "https://localhost:8080/",
          "height": 217
        },
        "id": "ACdyRcMwW-Pr",
        "outputId": "03e5b0a4-dd54-4d6d-e766-914a27630acf"
      },
      "execution_count": null,
      "outputs": [
        {
          "output_type": "error",
          "ename": "TypeError",
          "evalue": "ignored",
          "traceback": [
            "\u001b[0;31m---------------------------------------------------------------------------\u001b[0m",
            "\u001b[0;31mTypeError\u001b[0m                                 Traceback (most recent call last)",
            "\u001b[0;32m<ipython-input-3-d111e57ab060>\u001b[0m in \u001b[0;36m<module>\u001b[0;34m\u001b[0m\n\u001b[1;32m      4\u001b[0m \u001b[0;34m\u001b[0m\u001b[0m\n\u001b[1;32m      5\u001b[0m \u001b[0ma\u001b[0m \u001b[0;34m=\u001b[0m \u001b[0mA\u001b[0m\u001b[0;34m(\u001b[0m\u001b[0;34m)\u001b[0m\u001b[0;34m\u001b[0m\u001b[0;34m\u001b[0m\u001b[0m\n\u001b[0;32m----> 6\u001b[0;31m \u001b[0ma\u001b[0m\u001b[0;34m.\u001b[0m\u001b[0mhello\u001b[0m\u001b[0;34m(\u001b[0m\u001b[0;34m)\u001b[0m  \u001b[0;31m# error: self is absent\u001b[0m\u001b[0;34m\u001b[0m\u001b[0;34m\u001b[0m\u001b[0m\n\u001b[0m\u001b[1;32m      7\u001b[0m \u001b[0mA\u001b[0m\u001b[0;34m.\u001b[0m\u001b[0mhello\u001b[0m\u001b[0;34m(\u001b[0m\u001b[0;34m)\u001b[0m  \u001b[0;31m# 'Hello, world!'\u001b[0m\u001b[0;34m\u001b[0m\u001b[0;34m\u001b[0m\u001b[0m\n",
            "\u001b[0;31mTypeError\u001b[0m: hello() takes 0 positional arguments but 1 was given"
          ]
        }
      ]
    },
    {
      "cell_type": "markdown",
      "source": [
        "При вызове a.hello() происходит вызов A.hello(a)\n",
        "\n",
        "При вызове a.func(x) происходит вызов A.func(a, x)"
      ],
      "metadata": {
        "id": "VAObcfwPZrIm"
      }
    },
    {
      "cell_type": "markdown",
      "source": [
        "**Конструктор и деконструктор класса**"
      ],
      "metadata": {
        "id": "iNWtbgmga3TB"
      }
    },
    {
      "cell_type": "code",
      "source": [
        "class A:\n",
        "    def __init__(self, x):\n",
        "        self.x = x\n",
        "        print('Hello!')\n",
        "\n",
        "    def __del__(self):\n",
        "        print('Good bye!')\n",
        "\n",
        "#a = A() # error: constructor has argument x\n",
        "a = A(15) # Hello!\n",
        "a.x # 15\n",
        "del a # Good bye!"
      ],
      "metadata": {
        "colab": {
          "base_uri": "https://localhost:8080/"
        },
        "id": "fUhzUAoHZraD",
        "outputId": "8fc25bfb-a30f-4030-d149-f8e83fc75734"
      },
      "execution_count": null,
      "outputs": [
        {
          "output_type": "stream",
          "name": "stdout",
          "text": [
            "Hello!\n",
            "Good bye!\n"
          ]
        }
      ]
    },
    {
      "cell_type": "markdown",
      "source": [
        "При создании экземпляра класса a = A(15) происходит"
      ],
      "metadata": {
        "id": "Z3C2q8DParmt"
      }
    },
    {
      "cell_type": "markdown",
      "source": [
        "**Удаление объектов при завершении приложения. Пример 1**"
      ],
      "metadata": {
        "id": "CR5PuPoXa814"
      }
    },
    {
      "cell_type": "code",
      "source": [
        "class A:\n",
        "    def __init__(self):\n",
        "        print('Hello!')\n",
        "    def __del__(self):\n",
        "        print('Good bye!')\n",
        "    def create_obj():\n",
        "        a = A()\n",
        "        return A\n",
        "    if __name__ == \"__main__\":\n",
        "        a = create_obj()\n",
        "        print('Program end')\n",
        "        exit(0)\n",
        "\n",
        "# Hello! \\n Program end \\n Good bye!"
      ],
      "metadata": {
        "colab": {
          "base_uri": "https://localhost:8080/"
        },
        "id": "Qfwv3ZJqa9Lo",
        "outputId": "12ac062d-ed59-4fb1-c496-640e7ddb7357"
      },
      "execution_count": null,
      "outputs": [
        {
          "output_type": "stream",
          "name": "stdout",
          "text": [
            "Good bye!\n",
            "Program end\n"
          ]
        }
      ]
    },
    {
      "cell_type": "code",
      "source": [
        "class A:\n",
        "    def __init__(self, bb):\n",
        "        self.b = bb\n",
        "class B:\n",
        "    def __init__(self):\n",
        "        self.a = A(self)\n",
        "    def __del__(self):\n",
        "        print('Good bye!')\n",
        "    def fun():\n",
        "        b = B()\n",
        "        print('fun end')\n",
        "    fun()\n",
        "    print('Program end')\n",
        "\n",
        "# fun end \\n Program end \\n Good bye!"
      ],
      "metadata": {
        "colab": {
          "base_uri": "https://localhost:8080/",
          "height": 380
        },
        "id": "DmVeU_sPcO-i",
        "outputId": "1f25bbf5-2401-483b-dfeb-ef58f93855d4"
      },
      "execution_count": null,
      "outputs": [
        {
          "output_type": "error",
          "ename": "NameError",
          "evalue": "ignored",
          "traceback": [
            "\u001b[0;31m---------------------------------------------------------------------------\u001b[0m",
            "\u001b[0;31mNameError\u001b[0m                                 Traceback (most recent call last)",
            "\u001b[0;32m<ipython-input-1-53ec7c651ced>\u001b[0m in \u001b[0;36m<module>\u001b[0;34m\u001b[0m\n\u001b[1;32m      2\u001b[0m     \u001b[0;32mdef\u001b[0m \u001b[0m__init__\u001b[0m\u001b[0;34m(\u001b[0m\u001b[0mself\u001b[0m\u001b[0;34m,\u001b[0m \u001b[0mbb\u001b[0m\u001b[0;34m)\u001b[0m\u001b[0;34m:\u001b[0m\u001b[0;34m\u001b[0m\u001b[0;34m\u001b[0m\u001b[0m\n\u001b[1;32m      3\u001b[0m         \u001b[0mself\u001b[0m\u001b[0;34m.\u001b[0m\u001b[0mb\u001b[0m \u001b[0;34m=\u001b[0m \u001b[0mbb\u001b[0m\u001b[0;34m\u001b[0m\u001b[0;34m\u001b[0m\u001b[0m\n\u001b[0;32m----> 4\u001b[0;31m \u001b[0;32mclass\u001b[0m \u001b[0mB\u001b[0m\u001b[0;34m:\u001b[0m\u001b[0;34m\u001b[0m\u001b[0;34m\u001b[0m\u001b[0m\n\u001b[0m\u001b[1;32m      5\u001b[0m     \u001b[0;32mdef\u001b[0m \u001b[0m__init__\u001b[0m\u001b[0;34m(\u001b[0m\u001b[0mself\u001b[0m\u001b[0;34m)\u001b[0m\u001b[0;34m:\u001b[0m\u001b[0;34m\u001b[0m\u001b[0;34m\u001b[0m\u001b[0m\n\u001b[1;32m      6\u001b[0m         \u001b[0mself\u001b[0m\u001b[0;34m.\u001b[0m\u001b[0ma\u001b[0m \u001b[0;34m=\u001b[0m \u001b[0mA\u001b[0m\u001b[0;34m(\u001b[0m\u001b[0mself\u001b[0m\u001b[0;34m)\u001b[0m\u001b[0;34m\u001b[0m\u001b[0;34m\u001b[0m\u001b[0m\n",
            "\u001b[0;32m<ipython-input-1-53ec7c651ced>\u001b[0m in \u001b[0;36mB\u001b[0;34m()\u001b[0m\n\u001b[1;32m     10\u001b[0m         \u001b[0mb\u001b[0m \u001b[0;34m=\u001b[0m \u001b[0mB\u001b[0m\u001b[0;34m(\u001b[0m\u001b[0;34m)\u001b[0m\u001b[0;34m\u001b[0m\u001b[0;34m\u001b[0m\u001b[0m\n\u001b[1;32m     11\u001b[0m         \u001b[0mprint\u001b[0m\u001b[0;34m(\u001b[0m\u001b[0;34m'fun end'\u001b[0m\u001b[0;34m)\u001b[0m\u001b[0;34m\u001b[0m\u001b[0;34m\u001b[0m\u001b[0m\n\u001b[0;32m---> 12\u001b[0;31m     \u001b[0mfun\u001b[0m\u001b[0;34m(\u001b[0m\u001b[0;34m)\u001b[0m\u001b[0;34m\u001b[0m\u001b[0;34m\u001b[0m\u001b[0m\n\u001b[0m\u001b[1;32m     13\u001b[0m     \u001b[0mprint\u001b[0m\u001b[0;34m(\u001b[0m\u001b[0;34m'Program end'\u001b[0m\u001b[0;34m)\u001b[0m\u001b[0;34m\u001b[0m\u001b[0;34m\u001b[0m\u001b[0m\n\u001b[1;32m     14\u001b[0m \u001b[0;34m\u001b[0m\u001b[0m\n",
            "\u001b[0;32m<ipython-input-1-53ec7c651ced>\u001b[0m in \u001b[0;36mfun\u001b[0;34m()\u001b[0m\n\u001b[1;32m      8\u001b[0m         \u001b[0mprint\u001b[0m\u001b[0;34m(\u001b[0m\u001b[0;34m'Good bye!'\u001b[0m\u001b[0;34m)\u001b[0m\u001b[0;34m\u001b[0m\u001b[0;34m\u001b[0m\u001b[0m\n\u001b[1;32m      9\u001b[0m     \u001b[0;32mdef\u001b[0m \u001b[0mfun\u001b[0m\u001b[0;34m(\u001b[0m\u001b[0;34m)\u001b[0m\u001b[0;34m:\u001b[0m\u001b[0;34m\u001b[0m\u001b[0;34m\u001b[0m\u001b[0m\n\u001b[0;32m---> 10\u001b[0;31m         \u001b[0mb\u001b[0m \u001b[0;34m=\u001b[0m \u001b[0mB\u001b[0m\u001b[0;34m(\u001b[0m\u001b[0;34m)\u001b[0m\u001b[0;34m\u001b[0m\u001b[0;34m\u001b[0m\u001b[0m\n\u001b[0m\u001b[1;32m     11\u001b[0m         \u001b[0mprint\u001b[0m\u001b[0;34m(\u001b[0m\u001b[0;34m'fun end'\u001b[0m\u001b[0;34m)\u001b[0m\u001b[0;34m\u001b[0m\u001b[0;34m\u001b[0m\u001b[0m\n\u001b[1;32m     12\u001b[0m     \u001b[0mfun\u001b[0m\u001b[0;34m(\u001b[0m\u001b[0;34m)\u001b[0m\u001b[0;34m\u001b[0m\u001b[0;34m\u001b[0m\u001b[0m\n",
            "\u001b[0;31mNameError\u001b[0m: name 'B' is not defined"
          ]
        }
      ]
    },
    {
      "cell_type": "markdown",
      "source": [
        "**Значения по умолчанию**\n",
        "\n",
        "Использование в методах (как и в любых функциях) значений по умолчанию для изменяемых типов может привести к неожиданным результатам"
      ],
      "metadata": {
        "id": "s2Znyj4udQQf"
      }
    },
    {
      "cell_type": "code",
      "source": [
        "class Bus:\n",
        "    def __init__(self, passengers=[]):\n",
        "        self.passengers = passengers\n",
        "\n",
        "    def pick(self, name):\n",
        "        self.passengers.append(name)\n",
        "\n",
        "    def drop(self, name):\n",
        "        self.passengers.remove(name)\n",
        "\n",
        "bus1 = Bus(['Alice', 'Bill'])\n",
        "bus1.passengers # ['Alice', 'Bill']\n",
        "bus1.pick('Charlie')\n",
        "bus1.drop('Alice')\n",
        "bus1.passengers # ['Bill', 'Charlie']\n",
        "\n",
        "bus2 = Bus()\n",
        "bus2.pick('Carrie')\n",
        "bus2.passengers # ['Carrie']\n",
        "\n",
        "bus3 = Bus()\n",
        "bus3.passengers # ['Carrie']\n",
        "bus2.passengers is bus3.passengers # True\n",
        "bus1.passengers # ['Bill', 'Charlie']"
      ],
      "metadata": {
        "id": "lMAX3wUUdQcF",
        "colab": {
          "base_uri": "https://localhost:8080/"
        },
        "outputId": "c4b2f5ad-8e2c-4eb8-9b4a-efd17c853957"
      },
      "execution_count": null,
      "outputs": [
        {
          "output_type": "execute_result",
          "data": {
            "text/plain": [
              "['Bill', 'Charlie']"
            ]
          },
          "metadata": {},
          "execution_count": 2
        }
      ]
    },
    {
      "cell_type": "markdown",
      "source": [
        "объекты в качестве значений по умолчанию параметров функций и методов. Вместо этого рекомендуется использовать занчение по умолчанию None с последующим созданием изменяемого объекта"
      ],
      "metadata": {
        "id": "wMOuagi5flLd"
      }
    },
    {
      "cell_type": "code",
      "source": [
        "class Bus:\n",
        "    def __init__(self, passengers=None):\n",
        "        if passengers is None:\n",
        "            self.passengers = []\n",
        "        else:\n",
        "            self.passengers = passengers"
      ],
      "metadata": {
        "id": "nNovwBlHf6s_"
      },
      "execution_count": null,
      "outputs": []
    },
    {
      "cell_type": "markdown",
      "source": [
        "Значения по умолчанию создаются лишь однажды, когда функция определяется"
      ],
      "metadata": {
        "id": "qJbtdgNLgTuP"
      }
    },
    {
      "cell_type": "markdown",
      "source": [
        "**Атрибуты класса** (Class attributes)\n",
        "\n",
        "Разделяемы - доступны к атрибутам класса могут получать все экземпляры класса.\n",
        "\n",
        "Существует только одна копия для всех экземпляров класса.\n",
        "\n",
        "Обращение через ClassName.var_name или obj.var_name"
      ],
      "metadata": {
        "id": "1BxE-FFxnyJT"
      }
    },
    {
      "cell_type": "markdown",
      "source": [
        "**Атрибуты объекта** (Instance attributes)\n",
        "\n",
        "Принадлежит каждому отдельному экземпляру класса.\n",
        "\n",
        "Обращение через obj.var"
      ],
      "metadata": {
        "id": "-Is6K0x5cXTL"
      }
    },
    {
      "cell_type": "markdown",
      "source": [
        "В Python все атрибуты классов и объектов публичные (public), крроме атрибутов, чье имя начинается с двойного подчеркивания __ (например, __x)"
      ],
      "metadata": {
        "id": "YrUWYJJWcXbp"
      }
    },
    {
      "cell_type": "markdown",
      "source": [
        "**Объявление атрибутов класса и атрибутов объекта**"
      ],
      "metadata": {
        "id": "DkDqbd8QcweG"
      }
    },
    {
      "cell_type": "code",
      "source": [
        "class A:\n",
        "    x = 10  # class attribute\n",
        "    __x = 1  # private\n",
        "    def __init__(self):\n",
        "        self.y = 5  # instance attribute\n",
        "        z = 1  # local variable, not visible out of scope\n",
        "\n",
        "a = A()\n",
        "print(a.x)  # 10\n",
        "print(a.y)  #5\n",
        "print(a.z)  # error\n",
        "print(a.__x)  # error: it's private\n",
        "print(A.x)  # 10\n",
        "print(A.y)  # error: it's instance attribute"
      ],
      "metadata": {
        "id": "rcYxCWoVnyby",
        "colab": {
          "base_uri": "https://localhost:8080/",
          "height": 269
        },
        "outputId": "d3ce3888-23a4-46d6-f19e-2ea44ccc2683"
      },
      "execution_count": null,
      "outputs": [
        {
          "output_type": "stream",
          "name": "stdout",
          "text": [
            "10\n",
            "5\n"
          ]
        },
        {
          "output_type": "error",
          "ename": "AttributeError",
          "evalue": "ignored",
          "traceback": [
            "\u001b[0;31m---------------------------------------------------------------------------\u001b[0m",
            "\u001b[0;31mAttributeError\u001b[0m                            Traceback (most recent call last)",
            "\u001b[0;32m<ipython-input-2-aec1af55874e>\u001b[0m in \u001b[0;36m<module>\u001b[0;34m\u001b[0m\n\u001b[1;32m      9\u001b[0m \u001b[0mprint\u001b[0m\u001b[0;34m(\u001b[0m\u001b[0ma\u001b[0m\u001b[0;34m.\u001b[0m\u001b[0mx\u001b[0m\u001b[0;34m)\u001b[0m  \u001b[0;31m# 10\u001b[0m\u001b[0;34m\u001b[0m\u001b[0;34m\u001b[0m\u001b[0m\n\u001b[1;32m     10\u001b[0m \u001b[0mprint\u001b[0m\u001b[0;34m(\u001b[0m\u001b[0ma\u001b[0m\u001b[0;34m.\u001b[0m\u001b[0my\u001b[0m\u001b[0;34m)\u001b[0m  \u001b[0;31m#5\u001b[0m\u001b[0;34m\u001b[0m\u001b[0;34m\u001b[0m\u001b[0m\n\u001b[0;32m---> 11\u001b[0;31m \u001b[0mprint\u001b[0m\u001b[0;34m(\u001b[0m\u001b[0ma\u001b[0m\u001b[0;34m.\u001b[0m\u001b[0mz\u001b[0m\u001b[0;34m)\u001b[0m  \u001b[0;31m# error\u001b[0m\u001b[0;34m\u001b[0m\u001b[0;34m\u001b[0m\u001b[0m\n\u001b[0m\u001b[1;32m     12\u001b[0m \u001b[0mprint\u001b[0m\u001b[0;34m(\u001b[0m\u001b[0ma\u001b[0m\u001b[0;34m.\u001b[0m\u001b[0m__x\u001b[0m\u001b[0;34m)\u001b[0m  \u001b[0;31m# error: it's private\u001b[0m\u001b[0;34m\u001b[0m\u001b[0;34m\u001b[0m\u001b[0m\n\u001b[1;32m     13\u001b[0m \u001b[0mprint\u001b[0m\u001b[0;34m(\u001b[0m\u001b[0mA\u001b[0m\u001b[0;34m.\u001b[0m\u001b[0mx\u001b[0m\u001b[0;34m)\u001b[0m  \u001b[0;31m# 10\u001b[0m\u001b[0;34m\u001b[0m\u001b[0;34m\u001b[0m\u001b[0m\n",
            "\u001b[0;31mAttributeError\u001b[0m: 'A' object has no attribute 'z'"
          ]
        }
      ]
    },
    {
      "cell_type": "markdown",
      "source": [
        "**Переопределение атрибутов объекта**\n",
        "\n",
        "Атрибут объекта с тем же именем, что и атрибут класса, сделает недоступным (\"спарячет\") атрибут класса"
      ],
      "metadata": {
        "id": "-PokAEDKd4uK"
      }
    },
    {
      "cell_type": "code",
      "source": [
        "class A:\n",
        "    x = 10\n",
        "\n",
        "a = A()\n",
        "b = A()\n",
        "a.x  # 10 (class attribute)\n",
        "b.x  # 10 (class attribute)\n",
        "A.x  # 10 (class attribute)\n",
        "\n",
        "a.x = 4  # this creates new instance attribute x\n",
        "a.x  # 4 (an instance attribute)\n",
        "b.x  # 10 (class attribute)\n",
        "A.x  # 10 (class attribute)"
      ],
      "metadata": {
        "colab": {
          "base_uri": "https://localhost:8080/"
        },
        "id": "0WWEUgyweWus",
        "outputId": "c442acc1-a964-4aec-8a0e-5d47a5dd535d"
      },
      "execution_count": null,
      "outputs": [
        {
          "output_type": "execute_result",
          "data": {
            "text/plain": [
              "10"
            ]
          },
          "metadata": {},
          "execution_count": 3
        }
      ]
    },
    {
      "cell_type": "markdown",
      "source": [
        "**Словари атрибутов класса и атрибутов объекта**\n",
        "\n",
        "Словарь всех атрибутов объекта хранится в системном атрибуте __dict__\n",
        "\n",
        "Словарь атрибутов класса - в атрибуте __class__.__dict__"
      ],
      "metadata": {
        "id": "rubj1s9-fDuP"
      }
    },
    {
      "cell_type": "code",
      "source": [
        "class A:\n",
        "    x = 10\n",
        "\n",
        "a = A()\n",
        "b = A()\n",
        "a.x = 4\n",
        "a.__dict__  # {'x':4}\n",
        "a.__class__.__dict__  # {'x':10}\n",
        "b.__class__.__dict__  # {'x':10}\n",
        "A.__dict__  # {'x':10}"
      ],
      "metadata": {
        "colab": {
          "base_uri": "https://localhost:8080/"
        },
        "id": "UyEZ_fpdfb8S",
        "outputId": "9c72d85f-5ab8-45de-e3a8-5ebe49386b71"
      },
      "execution_count": null,
      "outputs": [
        {
          "output_type": "execute_result",
          "data": {
            "text/plain": [
              "mappingproxy({'__module__': '__main__',\n",
              "              'x': 10,\n",
              "              '__dict__': <attribute '__dict__' of 'A' objects>,\n",
              "              '__weakref__': <attribute '__weakref__' of 'A' objects>,\n",
              "              '__doc__': None})"
            ]
          },
          "metadata": {},
          "execution_count": 4
        }
      ]
    }
  ]
}