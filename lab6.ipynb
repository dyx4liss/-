{
  "nbformat": 4,
  "nbformat_minor": 0,
  "metadata": {
    "colab": {
      "provenance": [],
      "authorship_tag": "ABX9TyNO16+B81a0pVGrXqtjJHe6",
      "include_colab_link": true
    },
    "kernelspec": {
      "name": "python3",
      "display_name": "Python 3"
    },
    "language_info": {
      "name": "python"
    }
  },
  "cells": [
    {
      "cell_type": "markdown",
      "metadata": {
        "id": "view-in-github",
        "colab_type": "text"
      },
      "source": [
        "<a href=\"https://colab.research.google.com/github/dyx4liss/Labs/blob/main/lab6.ipynb\" target=\"_parent\"><img src=\"https://colab.research.google.com/assets/colab-badge.svg\" alt=\"Open In Colab\"/></a>"
      ]
    },
    {
      "cell_type": "markdown",
      "source": [
        "6.2.1"
      ],
      "metadata": {
        "id": "ytTjwYtvGsXm"
      }
    },
    {
      "cell_type": "code",
      "execution_count": null,
      "metadata": {
        "id": "6e3247YmGp3K"
      },
      "outputs": [],
      "source": [
        "def foo(a):\n",
        "    \"\"\"\n",
        "    Функция сортирует список по возрастанию\n",
        "\n",
        "    Сложность: O(N^2)\n",
        "    \"\"\"\n",
        "    for i in range(len(a), 0, -1): # O(N) + O(1) = O(N)\n",
        "        for j in range(1, i): # O(N)\n",
        "            if a[j-1] > a[j]: # O(1) \n",
        "                a[j-1], a[j] = a[j], a[j-1] # O(1)\n",
        "    return a # O(1)\n",
        "\n",
        "\n",
        "a = [1, 2, 3, 4, 2, 1, 3, 4, 3, 5, -2, -2, 2, -2, 65, 2, 2]\n",
        "foo(a)\n"
      ]
    },
    {
      "cell_type": "markdown",
      "source": [
        "6.2.2."
      ],
      "metadata": {
        "id": "R5uKqe56GwOG"
      }
    },
    {
      "cell_type": "code",
      "source": [
        "def foo(i):\n",
        "    \"\"\"\n",
        "    Функция преобразует целочисленный тип данных в строчный \n",
        "\n",
        "    Параметры:\n",
        "        - i (int): число.\n",
        "\n",
        "    Сложность: O(N)\n",
        "    \"\"\"\n",
        "    digits = \"0123456789\" # O(1)\n",
        "    if i == 0: # O(1)\n",
        "        return \"0\" # O(1)\n",
        "    result = \"\" # O(1)\n",
        "    while i > 0: # O(N)\n",
        "        result = digits[i%10] + result # O(1) + O(1) +O(1) = O(1)\n",
        "        i = i // 10 # O(1)\n",
        "    return result # O(1)"
      ],
      "metadata": {
        "id": "411RYzEYGzes"
      },
      "execution_count": null,
      "outputs": []
    },
    {
      "cell_type": "code",
      "source": [
        "i = int(input('i = '))\n",
        "a = foo(i)\n",
        "type(a)"
      ],
      "metadata": {
        "id": "fBRZC5rLG0Ht"
      },
      "execution_count": null,
      "outputs": []
    },
    {
      "cell_type": "markdown",
      "source": [
        "6.2.3."
      ],
      "metadata": {
        "id": "WXUfOdkBOOoj"
      }
    },
    {
      "cell_type": "code",
      "source": [
        "def foo(s):\n",
        "    \"\"\"\n",
        "    Складывает сумму цифр значения из строки и преобразует его в целочисленный \n",
        "    тип данных\n",
        "\n",
        "    Параметры:\n",
        "        - s (str): строка.\n",
        "\n",
        "    Сложность: O(N^3)\n",
        "    \"\"\"\n",
        "    val = 0 # O(1)\n",
        "    for c in s: # O(N)\n",
        "        if c.isdigit(): # O(N)\n",
        "            val += int(c) # O(N)\n",
        "    return val #O(1)"
      ],
      "metadata": {
        "id": "8Ru1nljXG1zc"
      },
      "execution_count": null,
      "outputs": []
    },
    {
      "cell_type": "code",
      "source": [
        "s = str(input('ввод: '))\n",
        "print(foo(s))\n",
        "a = foo(s)\n",
        "type(a)"
      ],
      "metadata": {
        "id": "EI-rmosiG8DP"
      },
      "execution_count": null,
      "outputs": []
    },
    {
      "cell_type": "markdown",
      "source": [
        "6.2.4."
      ],
      "metadata": {
        "id": "weItjshUOS9R"
      }
    },
    {
      "cell_type": "code",
      "source": [
        "def foo(n):\n",
        "    \"\"\"\n",
        "    Функция находит все простые числа от 0 до n\n",
        "\n",
        "    Параметры:\n",
        "        - n (int): число.\n",
        "\n",
        "    Сложность: O(N^2)\n",
        "    \"\"\"\n",
        "    res = [] # O(1)\n",
        "    for i in range(1, n + 1): # O(N)\n",
        "        divisors = 0 # O(1)\n",
        "        j = 2 # O(1)\n",
        "        while j < i and divisors == 0: # O(N)\n",
        "            if i % j == 0: # O(1)\n",
        "                divisors += 1 # O(1)\n",
        "            j += 1 # O(1)\n",
        "\n",
        "        if divisors == 0: # O(1)\n",
        "            res.append(i) # O(1)\n",
        "\n",
        "    return res # O(1)\n"
      ],
      "metadata": {
        "id": "DCeyu6SiG9pZ"
      },
      "execution_count": null,
      "outputs": []
    },
    {
      "cell_type": "code",
      "source": [
        "n = int(input('n = '))\n",
        "print(foo(n))"
      ],
      "metadata": {
        "id": "PtCQ2NYUG_kS"
      },
      "execution_count": null,
      "outputs": []
    },
    {
      "cell_type": "markdown",
      "source": [
        "6.2.5."
      ],
      "metadata": {
        "id": "-5xzSwQNOV6y"
      }
    },
    {
      "cell_type": "code",
      "source": [
        "# 5\n",
        "\n",
        "def foo(nums):\n",
        "    \"\"\"\n",
        "    Функция определяет, есть ли в списке чётные числа\n",
        "\n",
        "    Параметры:\n",
        "        - nums (list): список.\n",
        "\n",
        "    Сложность: O(N).\n",
        "    \"\"\"\n",
        "    for x in nums: # O(N)\n",
        "        if x % 2 == 0: # O(1)\n",
        "            return True # O(1)\n",
        "    else: \n",
        "        return False # O(1)"
      ],
      "metadata": {
        "id": "VU0WwHA2HB8w"
      },
      "execution_count": null,
      "outputs": []
    },
    {
      "cell_type": "code",
      "source": [
        "nums=[1, 2]\n",
        "print(foo(nums))"
      ],
      "metadata": {
        "id": "nQJV-VreHDji"
      },
      "execution_count": null,
      "outputs": []
    },
    {
      "cell_type": "markdown",
      "source": [
        "6.2.6."
      ],
      "metadata": {
        "id": "eQhwiASTOYCb"
      }
    },
    {
      "cell_type": "code",
      "source": [
        "# 6 \n",
        "\n",
        "def foo(nums):\n",
        "    \"\"\"\n",
        "    Функция складывает первый элемент списка с квадратным значением последнего\n",
        "    элемента\n",
        "\n",
        "    Параметры:\n",
        "        - nums (list): список.\n",
        "\n",
        "    Сложность: # O(1)\n",
        "    \"\"\"\n",
        "    return (nums[0] + nums[-1] ** 2) # O(1)"
      ],
      "metadata": {
        "id": "ZRLVNcdsHFcw"
      },
      "execution_count": null,
      "outputs": []
    },
    {
      "cell_type": "code",
      "source": [
        "nums=[1, 2, 3 ,4]\n",
        "print(foo(nums))\n"
      ],
      "metadata": {
        "id": "y8ayZGi0HHXw"
      },
      "execution_count": null,
      "outputs": []
    }
  ]
}